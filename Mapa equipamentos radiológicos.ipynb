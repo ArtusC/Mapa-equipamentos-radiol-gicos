{
 "cells": [
  {
   "cell_type": "code",
   "execution_count": null,
   "metadata": {
    "colab": {
     "base_uri": "https://localhost:8080/",
     "height": 35
    },
    "executionInfo": {
     "elapsed": 24345,
     "status": "ok",
     "timestamp": 1601588510172,
     "user": {
      "displayName": "Artus Andermann",
      "photoUrl": "https://lh3.googleusercontent.com/a-/AOh14GjV0ga56fXLYwAPjh01KXQBrkKaYDDJHQ1kPozH=s64",
      "userId": "13544570764447003661"
     },
     "user_tz": 180
    },
    "id": "g5Iku5s13iwi",
    "outputId": "fc42d1d4-1959-4029-f450-6edf12b4d145"
   },
   "outputs": [],
   "source": [
    "# No caso de acessar via Google Colab\n",
    "#from google.colab import drive\n",
    "#drive.mount('/content/drive/')"
   ]
  },
  {
   "cell_type": "code",
   "execution_count": 1,
   "metadata": {
    "executionInfo": {
     "elapsed": 730,
     "status": "ok",
     "timestamp": 1601588513474,
     "user": {
      "displayName": "Artus Andermann",
      "photoUrl": "https://lh3.googleusercontent.com/a-/AOh14GjV0ga56fXLYwAPjh01KXQBrkKaYDDJHQ1kPozH=s64",
      "userId": "13544570764447003661"
     },
     "user_tz": 180
    },
    "id": "94jYrFldz9Jx"
   },
   "outputs": [],
   "source": [
    "import pandas as pd\n",
    "import numpy as np\n",
    "import plotly.express as px \n",
    "# No caso de não ter instalado o plotly.express, rodar o código abaixo:\n",
    "# pip install plotly_express==0.4.0"
   ]
  },
  {
   "cell_type": "code",
   "execution_count": 5,
   "metadata": {
    "executionInfo": {
     "elapsed": 539,
     "status": "ok",
     "timestamp": 1601588514760,
     "user": {
      "displayName": "Artus Andermann",
      "photoUrl": "https://lh3.googleusercontent.com/a-/AOh14GjV0ga56fXLYwAPjh01KXQBrkKaYDDJHQ1kPozH=s64",
      "userId": "13544570764447003661"
     },
     "user_tz": 180
    },
    "id": "FX8zekl23iaQ"
   },
   "outputs": [],
   "source": [
    "pathEquip = \"https://github.com/ArtusC/Mapa-equipamentos-radiologicos/blob/main/Equipamentos%20SC%20POR%20CIDADE.csv?raw=true\"\n",
    "pathLL = \"https://github.com/ArtusC/Mapa-equipamentos-radiologicos/blob/main/lat_long_municipios.csv?raw=true\"\n",
    "\n",
    "# No caso de acessar via Google Colab\n",
    "#pathEquip = '/content/drive/My Drive/-- Data Scientist/Projeto equipamentos radiológicos/Equipamentos SC POR CIDADE.csv'\n",
    "#pathLL = '/content/drive/My Drive/-- Data Scientist/Projeto equipamentos radiológicos/lat_long_municipios.csv'\n",
    "\n",
    "#CSV Lat e Long = https://github.com/kelvins/Municipios-Brasileiros.git"
   ]
  },
  {
   "cell_type": "code",
   "execution_count": 6,
   "metadata": {
    "executionInfo": {
     "elapsed": 1545,
     "status": "ok",
     "timestamp": 1601588516603,
     "user": {
      "displayName": "Artus Andermann",
      "photoUrl": "https://lh3.googleusercontent.com/a-/AOh14GjV0ga56fXLYwAPjh01KXQBrkKaYDDJHQ1kPozH=s64",
      "userId": "13544570764447003661"
     },
     "user_tz": 180
    },
    "id": "PKhdTw5g26Sp"
   },
   "outputs": [],
   "source": [
    "#DF com informações dos equipamentos no estado de SC\n",
    "df = pd.read_csv(pathEquip, encoding = \"ISO-8859-1\", error_bad_lines=False, sep=';')\n",
    "\n",
    "#DF com informações de latitude e longitude dos municípios do Brasil\n",
    "dfLL = pd.read_csv(pathLL, encoding = \"utf_8\", error_bad_lines=False)"
   ]
  },
  {
   "cell_type": "code",
   "execution_count": 7,
   "metadata": {
    "executionInfo": {
     "elapsed": 978,
     "status": "ok",
     "timestamp": 1601588517164,
     "user": {
      "displayName": "Artus Andermann",
      "photoUrl": "https://lh3.googleusercontent.com/a-/AOh14GjV0ga56fXLYwAPjh01KXQBrkKaYDDJHQ1kPozH=s64",
      "userId": "13544570764447003661"
     },
     "user_tz": 180
    },
    "id": "VilcBgm809Ww"
   },
   "outputs": [],
   "source": [
    "#Mantenho somente os munícipios de SC (UF=42) no DF de long e lat\n",
    "dfLL = dfLL[dfLL.codigo_uf == 42.0]"
   ]
  },
  {
   "cell_type": "code",
   "execution_count": 8,
   "metadata": {
    "executionInfo": {
     "elapsed": 723,
     "status": "ok",
     "timestamp": 1601588518361,
     "user": {
      "displayName": "Artus Andermann",
      "photoUrl": "https://lh3.googleusercontent.com/a-/AOh14GjV0ga56fXLYwAPjh01KXQBrkKaYDDJHQ1kPozH=s64",
      "userId": "13544570764447003661"
     },
     "user_tz": 180
    },
    "id": "rfCuEAc2DH29"
   },
   "outputs": [],
   "source": [
    "#Antes de iniciar o loop para manter só as cidades, retiro essa linha específica\n",
    "#que sei que vai dar problema (len(x)==5 porém não é uma cidade) e reseto o index do DF\n",
    "df = df.drop(df.index[257])\n",
    "df = df.reset_index()"
   ]
  },
  {
   "cell_type": "code",
   "execution_count": 9,
   "metadata": {
    "executionInfo": {
     "elapsed": 1118,
     "status": "ok",
     "timestamp": 1601599781533,
     "user": {
      "displayName": "Artus Andermann",
      "photoUrl": "https://lh3.googleusercontent.com/a-/AOh14GjV0ga56fXLYwAPjh01KXQBrkKaYDDJHQ1kPozH=s64",
      "userId": "13544570764447003661"
     },
     "user_tz": 180
    },
    "id": "E0NCqXTZs_i6"
   },
   "outputs": [],
   "source": [
    "#Lista com todos os equipamentos do df\n",
    "listEquips = list(df.columns[2:20])\n",
    "\n",
    "#Dicionario do tipo: dict={equip:{cidade:qtdequip}}, \n",
    "#desconsiderando os valores null (nesse caso = '-') e nan\n",
    "dictEquipCidade = {}\n",
    "\n",
    "for i1, equips in enumerate(listEquips):\n",
    "    index = df[equips].index.values\n",
    "    dictEquipCidade[equips] = {}\n",
    "    #print(df[equips][index])\n",
    "    for i2, qtdequips in enumerate(df[equips][index]):\n",
    "        if qtdequips != '-':\n",
    "            #print(df.Município[index][i2], qtdequips)\n",
    "            dictEquipCidade[equips][df.Município[index][i2]] = qtdequips\n",
    "\n",
    "#Dicionario do tipo: dict={'Cidades_SC':[],'Total_Equipamentos':[],'Quantidade_Equipamentos':[]}\n",
    "#para transformar em df\n",
    "dictEquipClean = {'Cidades_SC':[], 'Total_Equipamentos':[], 'Quantidade_Equipamentos':[]}\n",
    "for i1, row in df.iterrows():\n",
    "    totalEquips=0\n",
    "    num_tipo_equips=''\n",
    "    for i2, val2 in enumerate(row.iloc[2:20].items()):\n",
    "        tipoEquip, qtdEquips = val2[0], val2[1]\n",
    "        #print(pd.isna(qtdEquips))\n",
    "        if (qtdEquips != '-') and (pd.isna(qtdEquips)==False):\n",
    "            #print(qtdEquips)            \n",
    "            totalEquips += int(qtdEquips)\n",
    "            num_tipo_equips += qtdEquips+' x '+tipoEquip\n",
    "            num_tipo_equips +=', '\n",
    "    num_tipo_equips = num_tipo_equips[:-2]\n",
    "    dictEquipClean['Cidades_SC'].append(row.Município)\n",
    "    dictEquipClean['Total_Equipamentos'].append(totalEquips)\n",
    "    dictEquipClean['Quantidade_Equipamentos'].append(num_tipo_equips)\n",
    "\n",
    "dfQtdEqp = pd.DataFrame.from_dict(dictEquipClean)"
   ]
  },
  {
   "cell_type": "code",
   "execution_count": 10,
   "metadata": {
    "executionInfo": {
     "elapsed": 706,
     "status": "ok",
     "timestamp": 1601599786199,
     "user": {
      "displayName": "Artus Andermann",
      "photoUrl": "https://lh3.googleusercontent.com/a-/AOh14GjV0ga56fXLYwAPjh01KXQBrkKaYDDJHQ1kPozH=s64",
      "userId": "13544570764447003661"
     },
     "user_tz": 180
    },
    "id": "FuDukH0zpNK7"
   },
   "outputs": [],
   "source": [
    "#Adicionando a coluna CIDADE ao df\n",
    "lstCidades = []\n",
    "\n",
    "##Limpeza do df\n",
    "\n",
    "#Limpeza da coluna Municipio para extrair somente as cidades\n",
    "for i, x in enumerate(df['Município'].str.split()):\n",
    "  #print(x, i, len(x))\n",
    "    if len(x)==2:\n",
    "        lstCidades.append(x[1])\n",
    "    elif len(x)==3:\n",
    "        lstCidades.append(x[1]+\" \"+x[2])\n",
    "    elif len(x)==4:\n",
    "        lstCidades.append(x[1]+\" \"+x[2]+\" \"+x[3])\n",
    "    elif len(x)==5:\n",
    "        lstCidades.append(x[1]+\" \"+x[2]+\" \"+x[3]+\" \"+x[4])\n",
    "    else:\n",
    "    #print(x, i, len(x))\n",
    "        df = df.drop(index=i)\n",
    "    #lstCidades.append(\"\")\n",
    "\n",
    "df['Cidade']=lstCidades\n",
    "\n",
    "# Com a coluna Cidade adicionada, comparo as cidades com o dfLL e adiciono ao df as colunas lat e long\n",
    "# Adiciono também o total de equipamentos e a quantidade de equipamentos\n",
    "dfC = pd.DataFrame(df['Cidade']) #metodo MAP não serve em series\n",
    "\n",
    "df['Latitude'] = dfC['Cidade'].map(dfLL.drop_duplicates('nome').set_index('nome')['latitude'])\n",
    "df['Longitude'] = dfC['Cidade'].map(dfLL.drop_duplicates('nome').set_index('nome')['longitude'])\n",
    "df['Código UF'] = dfC['Cidade'].map(dfLL.drop_duplicates('nome').set_index('nome')['codigo_uf'])\n",
    "\n",
    "df['Total Equipamentos'] = df['Cidade'].index.to_series().map(dfQtdEqp['Total_Equipamentos'])\n",
    "df['Quantidade Equipamentos'] = df['Cidade'].index.to_series().map(dfQtdEqp['Quantidade_Equipamentos'])"
   ]
  },
  {
   "cell_type": "code",
   "execution_count": 12,
   "metadata": {
    "colab": {
     "base_uri": "https://localhost:8080/",
     "height": 542
    },
    "executionInfo": {
     "elapsed": 3379,
     "status": "ok",
     "timestamp": 1601599865204,
     "user": {
      "displayName": "Artus Andermann",
      "photoUrl": "https://lh3.googleusercontent.com/a-/AOh14GjV0ga56fXLYwAPjh01KXQBrkKaYDDJHQ1kPozH=s64",
      "userId": "13544570764447003661"
     },
     "user_tz": 180
    },
    "id": "rVyIpS1DM7BN",
    "outputId": "d607a8c1-2bc5-4848-fd1d-4b102008bbbc"
   },
   "outputs": [
    {
     "data": {
      "application/vnd.plotly.v1+json": {
       "config": {
        "plotlyServerURL": "https://plot.ly"
       },
       "data": [
        {
         "hovertemplate": "Cidade=Abdon Batista<br>Total Equipamentos=%{marker.size}<br>Latitude=%{lat}<br>Longitude=%{lon}<extra></extra>",
         "lat": [
          -27.6126
         ],
         "legendgroup": "Abdon Batista",
         "lon": [
          -51.0233
         ],
         "marker": {
          "color": "#636efa",
          "size": [
           3
          ],
          "sizemode": "area",
          "sizeref": 2.1525
         },
         "mode": "markers",
         "name": "Abdon Batista",
         "showlegend": true,
         "subplot": "mapbox",
         "type": "scattermapbox"
        },
        {
         "hovertemplate": "Cidade=Abelardo Luz<br>Total Equipamentos=%{marker.size}<br>Latitude=%{lat}<br>Longitude=%{lon}<extra></extra>",
         "lat": [
          -26.5716
         ],
         "legendgroup": "Abelardo Luz",
         "lon": [
          -52.3229
         ],
         "marker": {
          "color": "#EF553B",
          "size": [
           9
          ],
          "sizemode": "area",
          "sizeref": 2.1525
         },
         "mode": "markers",
         "name": "Abelardo Luz",
         "showlegend": true,
         "subplot": "mapbox",
         "type": "scattermapbox"
        },
        {
         "hovertemplate": "Cidade=Agrolândia<br>Total Equipamentos=%{marker.size}<br>Latitude=%{lat}<br>Longitude=%{lon}<extra></extra>",
         "lat": [
          -27.4087
         ],
         "legendgroup": "Agrolândia",
         "lon": [
          -49.821999999999996
         ],
         "marker": {
          "color": "#00cc96",
          "size": [
           1
          ],
          "sizemode": "area",
          "sizeref": 2.1525
         },
         "mode": "markers",
         "name": "Agrolândia",
         "showlegend": true,
         "subplot": "mapbox",
         "type": "scattermapbox"
        },
        {
         "hovertemplate": "Cidade=Agronômica<br>Total Equipamentos=%{marker.size}<br>Latitude=%{lat}<br>Longitude=%{lon}<extra></extra>",
         "lat": [
          -27.2662
         ],
         "legendgroup": "Agronômica",
         "lon": [
          -49.708
         ],
         "marker": {
          "color": "#ab63fa",
          "size": [
           1
          ],
          "sizemode": "area",
          "sizeref": 2.1525
         },
         "mode": "markers",
         "name": "Agronômica",
         "showlegend": true,
         "subplot": "mapbox",
         "type": "scattermapbox"
        },
        {
         "hovertemplate": "Cidade=Água Doce<br>Total Equipamentos=%{marker.size}<br>Latitude=%{lat}<br>Longitude=%{lon}<extra></extra>",
         "lat": [
          -26.9985
         ],
         "legendgroup": "Água Doce",
         "lon": [
          -51.5528
         ],
         "marker": {
          "color": "#FFA15A",
          "size": [
           5
          ],
          "sizemode": "area",
          "sizeref": 2.1525
         },
         "mode": "markers",
         "name": "Água Doce",
         "showlegend": true,
         "subplot": "mapbox",
         "type": "scattermapbox"
        },
        {
         "hovertemplate": "Cidade=Águas de Chapecó<br>Total Equipamentos=%{marker.size}<br>Latitude=%{lat}<br>Longitude=%{lon}<extra></extra>",
         "lat": [
          -27.0754
         ],
         "legendgroup": "Águas de Chapecó",
         "lon": [
          -52.9808
         ],
         "marker": {
          "color": "#19d3f3",
          "size": [
           3
          ],
          "sizemode": "area",
          "sizeref": 2.1525
         },
         "mode": "markers",
         "name": "Águas de Chapecó",
         "showlegend": true,
         "subplot": "mapbox",
         "type": "scattermapbox"
        },
        {
         "hovertemplate": "Cidade=Águas Mornas<br>Total Equipamentos=%{marker.size}<br>Latitude=%{lat}<br>Longitude=%{lon}<extra></extra>",
         "lat": [
          -27.6963
         ],
         "legendgroup": "Águas Mornas",
         "lon": [
          -48.8243
         ],
         "marker": {
          "color": "#FF6692",
          "size": [
           3
          ],
          "sizemode": "area",
          "sizeref": 2.1525
         },
         "mode": "markers",
         "name": "Águas Mornas",
         "showlegend": true,
         "subplot": "mapbox",
         "type": "scattermapbox"
        },
        {
         "hovertemplate": "Cidade=Alfredo Wagner<br>Total Equipamentos=%{marker.size}<br>Latitude=%{lat}<br>Longitude=%{lon}<extra></extra>",
         "lat": [
          -27.7001
         ],
         "legendgroup": "Alfredo Wagner",
         "lon": [
          -49.3273
         ],
         "marker": {
          "color": "#B6E880",
          "size": [
           7
          ],
          "sizemode": "area",
          "sizeref": 2.1525
         },
         "mode": "markers",
         "name": "Alfredo Wagner",
         "showlegend": true,
         "subplot": "mapbox",
         "type": "scattermapbox"
        },
        {
         "hovertemplate": "Cidade=Alto Bela Vista<br>Total Equipamentos=%{marker.size}<br>Latitude=%{lat}<br>Longitude=%{lon}<extra></extra>",
         "lat": [
          -27.4333
         ],
         "legendgroup": "Alto Bela Vista",
         "lon": [
          -51.9044
         ],
         "marker": {
          "color": "#FF97FF",
          "size": [
           2
          ],
          "sizemode": "area",
          "sizeref": 2.1525
         },
         "mode": "markers",
         "name": "Alto Bela Vista",
         "showlegend": true,
         "subplot": "mapbox",
         "type": "scattermapbox"
        },
        {
         "hovertemplate": "Cidade=Anchieta<br>Total Equipamentos=%{marker.size}<br>Latitude=%{lat}<br>Longitude=%{lon}<extra></extra>",
         "lat": [
          -26.5382
         ],
         "legendgroup": "Anchieta",
         "lon": [
          -53.3319
         ],
         "marker": {
          "color": "#FECB52",
          "size": [
           1
          ],
          "sizemode": "area",
          "sizeref": 2.1525
         },
         "mode": "markers",
         "name": "Anchieta",
         "showlegend": true,
         "subplot": "mapbox",
         "type": "scattermapbox"
        },
        {
         "hovertemplate": "Cidade=Angelina<br>Total Equipamentos=%{marker.size}<br>Latitude=%{lat}<br>Longitude=%{lon}<extra></extra>",
         "lat": [
          -27.5704
         ],
         "legendgroup": "Angelina",
         "lon": [
          -48.9879
         ],
         "marker": {
          "color": "#636efa",
          "size": [
           4
          ],
          "sizemode": "area",
          "sizeref": 2.1525
         },
         "mode": "markers",
         "name": "Angelina",
         "showlegend": true,
         "subplot": "mapbox",
         "type": "scattermapbox"
        },
        {
         "hovertemplate": "Cidade=Anita Garibaldi<br>Total Equipamentos=%{marker.size}<br>Latitude=%{lat}<br>Longitude=%{lon}<extra></extra>",
         "lat": [
          -27.6897
         ],
         "legendgroup": "Anita Garibaldi",
         "lon": [
          -51.1271
         ],
         "marker": {
          "color": "#EF553B",
          "size": [
           2
          ],
          "sizemode": "area",
          "sizeref": 2.1525
         },
         "mode": "markers",
         "name": "Anita Garibaldi",
         "showlegend": true,
         "subplot": "mapbox",
         "type": "scattermapbox"
        },
        {
         "hovertemplate": "Cidade=Anitápolis<br>Total Equipamentos=%{marker.size}<br>Latitude=%{lat}<br>Longitude=%{lon}<extra></extra>",
         "lat": [
          -27.9012
         ],
         "legendgroup": "Anitápolis",
         "lon": [
          -49.1316
         ],
         "marker": {
          "color": "#00cc96",
          "size": [
           2
          ],
          "sizemode": "area",
          "sizeref": 2.1525
         },
         "mode": "markers",
         "name": "Anitápolis",
         "showlegend": true,
         "subplot": "mapbox",
         "type": "scattermapbox"
        },
        {
         "hovertemplate": "Cidade=Antônio Carlos<br>Total Equipamentos=%{marker.size}<br>Latitude=%{lat}<br>Longitude=%{lon}<extra></extra>",
         "lat": [
          -27.5191
         ],
         "legendgroup": "Antônio Carlos",
         "lon": [
          -48.766000000000005
         ],
         "marker": {
          "color": "#ab63fa",
          "size": [
           3
          ],
          "sizemode": "area",
          "sizeref": 2.1525
         },
         "mode": "markers",
         "name": "Antônio Carlos",
         "showlegend": true,
         "subplot": "mapbox",
         "type": "scattermapbox"
        },
        {
         "hovertemplate": "Cidade=Araquari<br>Total Equipamentos=%{marker.size}<br>Latitude=%{lat}<br>Longitude=%{lon}<extra></extra>",
         "lat": [
          -26.3754
         ],
         "legendgroup": "Araquari",
         "lon": [
          -48.7188
         ],
         "marker": {
          "color": "#FFA15A",
          "size": [
           5
          ],
          "sizemode": "area",
          "sizeref": 2.1525
         },
         "mode": "markers",
         "name": "Araquari",
         "showlegend": true,
         "subplot": "mapbox",
         "type": "scattermapbox"
        },
        {
         "hovertemplate": "Cidade=Araranguá<br>Total Equipamentos=%{marker.size}<br>Latitude=%{lat}<br>Longitude=%{lon}<extra></extra>",
         "lat": [
          -28.9356
         ],
         "legendgroup": "Araranguá",
         "lon": [
          -49.4918
         ],
         "marker": {
          "color": "#19d3f3",
          "size": [
           37
          ],
          "sizemode": "area",
          "sizeref": 2.1525
         },
         "mode": "markers",
         "name": "Araranguá",
         "showlegend": true,
         "subplot": "mapbox",
         "type": "scattermapbox"
        },
        {
         "hovertemplate": "Cidade=Armazém<br>Total Equipamentos=%{marker.size}<br>Latitude=%{lat}<br>Longitude=%{lon}<extra></extra>",
         "lat": [
          -28.2448
         ],
         "legendgroup": "Armazém",
         "lon": [
          -49.0215
         ],
         "marker": {
          "color": "#FF6692",
          "size": [
           1
          ],
          "sizemode": "area",
          "sizeref": 2.1525
         },
         "mode": "markers",
         "name": "Armazém",
         "showlegend": true,
         "subplot": "mapbox",
         "type": "scattermapbox"
        },
        {
         "hovertemplate": "Cidade=Arroio Trinta<br>Total Equipamentos=%{marker.size}<br>Latitude=%{lat}<br>Longitude=%{lon}<extra></extra>",
         "lat": [
          -26.9257
         ],
         "legendgroup": "Arroio Trinta",
         "lon": [
          -51.3407
         ],
         "marker": {
          "color": "#B6E880",
          "size": [
           3
          ],
          "sizemode": "area",
          "sizeref": 2.1525
         },
         "mode": "markers",
         "name": "Arroio Trinta",
         "showlegend": true,
         "subplot": "mapbox",
         "type": "scattermapbox"
        },
        {
         "hovertemplate": "Cidade=Arvoredo<br>Total Equipamentos=%{marker.size}<br>Latitude=%{lat}<br>Longitude=%{lon}<extra></extra>",
         "lat": [
          -27.0748
         ],
         "legendgroup": "Arvoredo",
         "lon": [
          -52.4543
         ],
         "marker": {
          "color": "#FF97FF",
          "size": [
           1
          ],
          "sizemode": "area",
          "sizeref": 2.1525
         },
         "mode": "markers",
         "name": "Arvoredo",
         "showlegend": true,
         "subplot": "mapbox",
         "type": "scattermapbox"
        },
        {
         "hovertemplate": "Cidade=Ascurra<br>Total Equipamentos=%{marker.size}<br>Latitude=%{lat}<br>Longitude=%{lon}<extra></extra>",
         "lat": [
          -26.9548
         ],
         "legendgroup": "Ascurra",
         "lon": [
          -49.3783
         ],
         "marker": {
          "color": "#FECB52",
          "size": [
           2
          ],
          "sizemode": "area",
          "sizeref": 2.1525
         },
         "mode": "markers",
         "name": "Ascurra",
         "showlegend": true,
         "subplot": "mapbox",
         "type": "scattermapbox"
        },
        {
         "hovertemplate": "Cidade=Atalanta<br>Total Equipamentos=%{marker.size}<br>Latitude=%{lat}<br>Longitude=%{lon}<extra></extra>",
         "lat": [
          -27.4219
         ],
         "legendgroup": "Atalanta",
         "lon": [
          -49.7789
         ],
         "marker": {
          "color": "#636efa",
          "size": [
           1
          ],
          "sizemode": "area",
          "sizeref": 2.1525
         },
         "mode": "markers",
         "name": "Atalanta",
         "showlegend": true,
         "subplot": "mapbox",
         "type": "scattermapbox"
        },
        {
         "hovertemplate": "Cidade=Balneário Barra do Sul<br>Total Equipamentos=%{marker.size}<br>Latitude=%{lat}<br>Longitude=%{lon}<extra></extra>",
         "lat": [
          -26.4597
         ],
         "legendgroup": "Balneário Barra do Sul",
         "lon": [
          -48.6123
         ],
         "marker": {
          "color": "#EF553B",
          "size": [
           3
          ],
          "sizemode": "area",
          "sizeref": 2.1525
         },
         "mode": "markers",
         "name": "Balneário Barra do Sul",
         "showlegend": true,
         "subplot": "mapbox",
         "type": "scattermapbox"
        },
        {
         "hovertemplate": "Cidade=Balneário Camboriú<br>Total Equipamentos=%{marker.size}<br>Latitude=%{lat}<br>Longitude=%{lon}<extra></extra>",
         "lat": [
          -26.9926
         ],
         "legendgroup": "Balneário Camboriú",
         "lon": [
          -48.6352
         ],
         "marker": {
          "color": "#00cc96",
          "size": [
           81
          ],
          "sizemode": "area",
          "sizeref": 2.1525
         },
         "mode": "markers",
         "name": "Balneário Camboriú",
         "showlegend": true,
         "subplot": "mapbox",
         "type": "scattermapbox"
        },
        {
         "hovertemplate": "Cidade=Balneário Piçarras<br>Total Equipamentos=%{marker.size}<br>Latitude=%{lat}<br>Longitude=%{lon}<extra></extra>",
         "lat": [
          -26.7639
         ],
         "legendgroup": "Balneário Piçarras",
         "lon": [
          -48.6717
         ],
         "marker": {
          "color": "#ab63fa",
          "size": [
           17
          ],
          "sizemode": "area",
          "sizeref": 2.1525
         },
         "mode": "markers",
         "name": "Balneário Piçarras",
         "showlegend": true,
         "subplot": "mapbox",
         "type": "scattermapbox"
        },
        {
         "hovertemplate": "Cidade=Balneário Rincão<br>Total Equipamentos=%{marker.size}<br>Latitude=%{lat}<br>Longitude=%{lon}<extra></extra>",
         "lat": [
          -28.8314
         ],
         "legendgroup": "Balneário Rincão",
         "lon": [
          -49.2352
         ],
         "marker": {
          "color": "#FFA15A",
          "size": [
           6
          ],
          "sizemode": "area",
          "sizeref": 2.1525
         },
         "mode": "markers",
         "name": "Balneário Rincão",
         "showlegend": true,
         "subplot": "mapbox",
         "type": "scattermapbox"
        },
        {
         "hovertemplate": "Cidade=Bandeirante<br>Total Equipamentos=%{marker.size}<br>Latitude=%{lat}<br>Longitude=%{lon}<extra></extra>",
         "lat": [
          -26.7705
         ],
         "legendgroup": "Bandeirante",
         "lon": [
          -53.6413
         ],
         "marker": {
          "color": "#19d3f3",
          "size": [
           2
          ],
          "sizemode": "area",
          "sizeref": 2.1525
         },
         "mode": "markers",
         "name": "Bandeirante",
         "showlegend": true,
         "subplot": "mapbox",
         "type": "scattermapbox"
        },
        {
         "hovertemplate": "Cidade=Barra Bonita<br>Total Equipamentos=%{marker.size}<br>Latitude=%{lat}<br>Longitude=%{lon}<extra></extra>",
         "lat": [
          -26.654
         ],
         "legendgroup": "Barra Bonita",
         "lon": [
          -53.44
         ],
         "marker": {
          "color": "#FF6692",
          "size": [
           2
          ],
          "sizemode": "area",
          "sizeref": 2.1525
         },
         "mode": "markers",
         "name": "Barra Bonita",
         "showlegend": true,
         "subplot": "mapbox",
         "type": "scattermapbox"
        },
        {
         "hovertemplate": "Cidade=Barra Velha<br>Total Equipamentos=%{marker.size}<br>Latitude=%{lat}<br>Longitude=%{lon}<extra></extra>",
         "lat": [
          -26.636999999999997
         ],
         "legendgroup": "Barra Velha",
         "lon": [
          -48.6933
         ],
         "marker": {
          "color": "#B6E880",
          "size": [
           6
          ],
          "sizemode": "area",
          "sizeref": 2.1525
         },
         "mode": "markers",
         "name": "Barra Velha",
         "showlegend": true,
         "subplot": "mapbox",
         "type": "scattermapbox"
        },
        {
         "hovertemplate": "Cidade=Bela Vista do Toldo<br>Total Equipamentos=%{marker.size}<br>Latitude=%{lat}<br>Longitude=%{lon}<extra></extra>",
         "lat": [
          -26.2746
         ],
         "legendgroup": "Bela Vista do Toldo",
         "lon": [
          -50.4664
         ],
         "marker": {
          "color": "#FF97FF",
          "size": [
           1
          ],
          "sizemode": "area",
          "sizeref": 2.1525
         },
         "mode": "markers",
         "name": "Bela Vista do Toldo",
         "showlegend": true,
         "subplot": "mapbox",
         "type": "scattermapbox"
        },
        {
         "hovertemplate": "Cidade=Benedito Novo<br>Total Equipamentos=%{marker.size}<br>Latitude=%{lat}<br>Longitude=%{lon}<extra></extra>",
         "lat": [
          -26.781
         ],
         "legendgroup": "Benedito Novo",
         "lon": [
          -49.3593
         ],
         "marker": {
          "color": "#FECB52",
          "size": [
           1
          ],
          "sizemode": "area",
          "sizeref": 2.1525
         },
         "mode": "markers",
         "name": "Benedito Novo",
         "showlegend": true,
         "subplot": "mapbox",
         "type": "scattermapbox"
        },
        {
         "hovertemplate": "Cidade=Biguaçu<br>Total Equipamentos=%{marker.size}<br>Latitude=%{lat}<br>Longitude=%{lon}<extra></extra>",
         "lat": [
          -27.496
         ],
         "legendgroup": "Biguaçu",
         "lon": [
          -48.6598
         ],
         "marker": {
          "color": "#636efa",
          "size": [
           35
          ],
          "sizemode": "area",
          "sizeref": 2.1525
         },
         "mode": "markers",
         "name": "Biguaçu",
         "showlegend": true,
         "subplot": "mapbox",
         "type": "scattermapbox"
        },
        {
         "hovertemplate": "Cidade=Blumenau<br>Total Equipamentos=%{marker.size}<br>Latitude=%{lat}<br>Longitude=%{lon}<extra></extra>",
         "lat": [
          -26.9155
         ],
         "legendgroup": "Blumenau",
         "lon": [
          -49.0709
         ],
         "marker": {
          "color": "#EF553B",
          "size": [
           273
          ],
          "sizemode": "area",
          "sizeref": 2.1525
         },
         "mode": "markers",
         "name": "Blumenau",
         "showlegend": true,
         "subplot": "mapbox",
         "type": "scattermapbox"
        },
        {
         "hovertemplate": "Cidade=Bocaina do Sul<br>Total Equipamentos=%{marker.size}<br>Latitude=%{lat}<br>Longitude=%{lon}<extra></extra>",
         "lat": [
          -27.7455
         ],
         "legendgroup": "Bocaina do Sul",
         "lon": [
          -49.9423
         ],
         "marker": {
          "color": "#00cc96",
          "size": [
           1
          ],
          "sizemode": "area",
          "sizeref": 2.1525
         },
         "mode": "markers",
         "name": "Bocaina do Sul",
         "showlegend": true,
         "subplot": "mapbox",
         "type": "scattermapbox"
        },
        {
         "hovertemplate": "Cidade=Bom Jesus<br>Total Equipamentos=%{marker.size}<br>Latitude=%{lat}<br>Longitude=%{lon}<extra></extra>",
         "lat": [
          -26.7326
         ],
         "legendgroup": "Bom Jesus",
         "lon": [
          -52.3919
         ],
         "marker": {
          "color": "#ab63fa",
          "size": [
           1
          ],
          "sizemode": "area",
          "sizeref": 2.1525
         },
         "mode": "markers",
         "name": "Bom Jesus",
         "showlegend": true,
         "subplot": "mapbox",
         "type": "scattermapbox"
        },
        {
         "hovertemplate": "Cidade=Bom Retiro<br>Total Equipamentos=%{marker.size}<br>Latitude=%{lat}<br>Longitude=%{lon}<extra></extra>",
         "lat": [
          -27.799
         ],
         "legendgroup": "Bom Retiro",
         "lon": [
          -49.486999999999995
         ],
         "marker": {
          "color": "#FFA15A",
          "size": [
           3
          ],
          "sizemode": "area",
          "sizeref": 2.1525
         },
         "mode": "markers",
         "name": "Bom Retiro",
         "showlegend": true,
         "subplot": "mapbox",
         "type": "scattermapbox"
        },
        {
         "hovertemplate": "Cidade=Bombinhas<br>Total Equipamentos=%{marker.size}<br>Latitude=%{lat}<br>Longitude=%{lon}<extra></extra>",
         "lat": [
          -27.1382
         ],
         "legendgroup": "Bombinhas",
         "lon": [
          -48.5146
         ],
         "marker": {
          "color": "#19d3f3",
          "size": [
           7
          ],
          "sizemode": "area",
          "sizeref": 2.1525
         },
         "mode": "markers",
         "name": "Bombinhas",
         "showlegend": true,
         "subplot": "mapbox",
         "type": "scattermapbox"
        },
        {
         "hovertemplate": "Cidade=Botuverá<br>Total Equipamentos=%{marker.size}<br>Latitude=%{lat}<br>Longitude=%{lon}<extra></extra>",
         "lat": [
          -27.2007
         ],
         "legendgroup": "Botuverá",
         "lon": [
          -49.0689
         ],
         "marker": {
          "color": "#FF6692",
          "size": [
           1
          ],
          "sizemode": "area",
          "sizeref": 2.1525
         },
         "mode": "markers",
         "name": "Botuverá",
         "showlegend": true,
         "subplot": "mapbox",
         "type": "scattermapbox"
        },
        {
         "hovertemplate": "Cidade=Braço do Norte<br>Total Equipamentos=%{marker.size}<br>Latitude=%{lat}<br>Longitude=%{lon}<extra></extra>",
         "lat": [
          -28.2681
         ],
         "legendgroup": "Braço do Norte",
         "lon": [
          -49.1701
         ],
         "marker": {
          "color": "#B6E880",
          "size": [
           35
          ],
          "sizemode": "area",
          "sizeref": 2.1525
         },
         "mode": "markers",
         "name": "Braço do Norte",
         "showlegend": true,
         "subplot": "mapbox",
         "type": "scattermapbox"
        },
        {
         "hovertemplate": "Cidade=Braço do Trombudo<br>Total Equipamentos=%{marker.size}<br>Latitude=%{lat}<br>Longitude=%{lon}<extra></extra>",
         "lat": [
          -27.3586
         ],
         "legendgroup": "Braço do Trombudo",
         "lon": [
          -49.8821
         ],
         "marker": {
          "color": "#FF97FF",
          "size": [
           1
          ],
          "sizemode": "area",
          "sizeref": 2.1525
         },
         "mode": "markers",
         "name": "Braço do Trombudo",
         "showlegend": true,
         "subplot": "mapbox",
         "type": "scattermapbox"
        },
        {
         "hovertemplate": "Cidade=Brunópolis<br>Total Equipamentos=%{marker.size}<br>Latitude=%{lat}<br>Longitude=%{lon}<extra></extra>",
         "lat": [
          -27.3058
         ],
         "legendgroup": "Brunópolis",
         "lon": [
          -50.8684
         ],
         "marker": {
          "color": "#FECB52",
          "size": [
           2
          ],
          "sizemode": "area",
          "sizeref": 2.1525
         },
         "mode": "markers",
         "name": "Brunópolis",
         "showlegend": true,
         "subplot": "mapbox",
         "type": "scattermapbox"
        },
        {
         "hovertemplate": "Cidade=Brusque<br>Total Equipamentos=%{marker.size}<br>Latitude=%{lat}<br>Longitude=%{lon}<extra></extra>",
         "lat": [
          -27.0977
         ],
         "legendgroup": "Brusque",
         "lon": [
          -48.9107
         ],
         "marker": {
          "color": "#636efa",
          "size": [
           94
          ],
          "sizemode": "area",
          "sizeref": 2.1525
         },
         "mode": "markers",
         "name": "Brusque",
         "showlegend": true,
         "subplot": "mapbox",
         "type": "scattermapbox"
        },
        {
         "hovertemplate": "Cidade=Caçador<br>Total Equipamentos=%{marker.size}<br>Latitude=%{lat}<br>Longitude=%{lon}<extra></extra>",
         "lat": [
          -26.7757
         ],
         "legendgroup": "Caçador",
         "lon": [
          -51.012
         ],
         "marker": {
          "color": "#EF553B",
          "size": [
           40
          ],
          "sizemode": "area",
          "sizeref": 2.1525
         },
         "mode": "markers",
         "name": "Caçador",
         "showlegend": true,
         "subplot": "mapbox",
         "type": "scattermapbox"
        },
        {
         "hovertemplate": "Cidade=Caibi<br>Total Equipamentos=%{marker.size}<br>Latitude=%{lat}<br>Longitude=%{lon}<extra></extra>",
         "lat": [
          -27.0741
         ],
         "legendgroup": "Caibi",
         "lon": [
          -53.2458
         ],
         "marker": {
          "color": "#00cc96",
          "size": [
           1
          ],
          "sizemode": "area",
          "sizeref": 2.1525
         },
         "mode": "markers",
         "name": "Caibi",
         "showlegend": true,
         "subplot": "mapbox",
         "type": "scattermapbox"
        },
        {
         "hovertemplate": "Cidade=Calmon<br>Total Equipamentos=%{marker.size}<br>Latitude=%{lat}<br>Longitude=%{lon}<extra></extra>",
         "lat": [
          -26.5942
         ],
         "legendgroup": "Calmon",
         "lon": [
          -51.095
         ],
         "marker": {
          "color": "#ab63fa",
          "size": [
           2
          ],
          "sizemode": "area",
          "sizeref": 2.1525
         },
         "mode": "markers",
         "name": "Calmon",
         "showlegend": true,
         "subplot": "mapbox",
         "type": "scattermapbox"
        },
        {
         "hovertemplate": "Cidade=Camboriú<br>Total Equipamentos=%{marker.size}<br>Latitude=%{lat}<br>Longitude=%{lon}<extra></extra>",
         "lat": [
          -27.0241
         ],
         "legendgroup": "Camboriú",
         "lon": [
          -48.6503
         ],
         "marker": {
          "color": "#FFA15A",
          "size": [
           16
          ],
          "sizemode": "area",
          "sizeref": 2.1525
         },
         "mode": "markers",
         "name": "Camboriú",
         "showlegend": true,
         "subplot": "mapbox",
         "type": "scattermapbox"
        },
        {
         "hovertemplate": "Cidade=Campo Alegre<br>Total Equipamentos=%{marker.size}<br>Latitude=%{lat}<br>Longitude=%{lon}<extra></extra>",
         "lat": [
          -26.195
         ],
         "legendgroup": "Campo Alegre",
         "lon": [
          -49.2676
         ],
         "marker": {
          "color": "#19d3f3",
          "size": [
           7
          ],
          "sizemode": "area",
          "sizeref": 2.1525
         },
         "mode": "markers",
         "name": "Campo Alegre",
         "showlegend": true,
         "subplot": "mapbox",
         "type": "scattermapbox"
        },
        {
         "hovertemplate": "Cidade=Campo Belo do Sul<br>Total Equipamentos=%{marker.size}<br>Latitude=%{lat}<br>Longitude=%{lon}<extra></extra>",
         "lat": [
          -27.8975
         ],
         "legendgroup": "Campo Belo do Sul",
         "lon": [
          -50.7595
         ],
         "marker": {
          "color": "#FF6692",
          "size": [
           2
          ],
          "sizemode": "area",
          "sizeref": 2.1525
         },
         "mode": "markers",
         "name": "Campo Belo do Sul",
         "showlegend": true,
         "subplot": "mapbox",
         "type": "scattermapbox"
        },
        {
         "hovertemplate": "Cidade=Campo Erê<br>Total Equipamentos=%{marker.size}<br>Latitude=%{lat}<br>Longitude=%{lon}<extra></extra>",
         "lat": [
          -26.3931
         ],
         "legendgroup": "Campo Erê",
         "lon": [
          -53.0856
         ],
         "marker": {
          "color": "#B6E880",
          "size": [
           2
          ],
          "sizemode": "area",
          "sizeref": 2.1525
         },
         "mode": "markers",
         "name": "Campo Erê",
         "showlegend": true,
         "subplot": "mapbox",
         "type": "scattermapbox"
        },
        {
         "hovertemplate": "Cidade=Campos Novos<br>Total Equipamentos=%{marker.size}<br>Latitude=%{lat}<br>Longitude=%{lon}<extra></extra>",
         "lat": [
          -27.4002
         ],
         "legendgroup": "Campos Novos",
         "lon": [
          -51.2276
         ],
         "marker": {
          "color": "#FF97FF",
          "size": [
           30
          ],
          "sizemode": "area",
          "sizeref": 2.1525
         },
         "mode": "markers",
         "name": "Campos Novos",
         "showlegend": true,
         "subplot": "mapbox",
         "type": "scattermapbox"
        },
        {
         "hovertemplate": "Cidade=Canelinha<br>Total Equipamentos=%{marker.size}<br>Latitude=%{lat}<br>Longitude=%{lon}<extra></extra>",
         "lat": [
          -27.2616
         ],
         "legendgroup": "Canelinha",
         "lon": [
          -48.7658
         ],
         "marker": {
          "color": "#FECB52",
          "size": [
           6
          ],
          "sizemode": "area",
          "sizeref": 2.1525
         },
         "mode": "markers",
         "name": "Canelinha",
         "showlegend": true,
         "subplot": "mapbox",
         "type": "scattermapbox"
        },
        {
         "hovertemplate": "Cidade=Canoinhas<br>Total Equipamentos=%{marker.size}<br>Latitude=%{lat}<br>Longitude=%{lon}<extra></extra>",
         "lat": [
          -26.1766
         ],
         "legendgroup": "Canoinhas",
         "lon": [
          -50.395
         ],
         "marker": {
          "color": "#636efa",
          "size": [
           46
          ],
          "sizemode": "area",
          "sizeref": 2.1525
         },
         "mode": "markers",
         "name": "Canoinhas",
         "showlegend": true,
         "subplot": "mapbox",
         "type": "scattermapbox"
        },
        {
         "hovertemplate": "Cidade=Capinzal<br>Total Equipamentos=%{marker.size}<br>Latitude=%{lat}<br>Longitude=%{lon}<extra></extra>",
         "lat": [
          -27.3473
         ],
         "legendgroup": "Capinzal",
         "lon": [
          -51.6057
         ],
         "marker": {
          "color": "#EF553B",
          "size": [
           7
          ],
          "sizemode": "area",
          "sizeref": 2.1525
         },
         "mode": "markers",
         "name": "Capinzal",
         "showlegend": true,
         "subplot": "mapbox",
         "type": "scattermapbox"
        },
        {
         "hovertemplate": "Cidade=Capivari de Baixo<br>Total Equipamentos=%{marker.size}<br>Latitude=%{lat}<br>Longitude=%{lon}<extra></extra>",
         "lat": [
          -28.4498
         ],
         "legendgroup": "Capivari de Baixo",
         "lon": [
          -48.9631
         ],
         "marker": {
          "color": "#00cc96",
          "size": [
           7
          ],
          "sizemode": "area",
          "sizeref": 2.1525
         },
         "mode": "markers",
         "name": "Capivari de Baixo",
         "showlegend": true,
         "subplot": "mapbox",
         "type": "scattermapbox"
        },
        {
         "hovertemplate": "Cidade=Catanduvas<br>Total Equipamentos=%{marker.size}<br>Latitude=%{lat}<br>Longitude=%{lon}<extra></extra>",
         "lat": [
          -27.069000000000003
         ],
         "legendgroup": "Catanduvas",
         "lon": [
          -51.6602
         ],
         "marker": {
          "color": "#ab63fa",
          "size": [
           1
          ],
          "sizemode": "area",
          "sizeref": 2.1525
         },
         "mode": "markers",
         "name": "Catanduvas",
         "showlegend": true,
         "subplot": "mapbox",
         "type": "scattermapbox"
        },
        {
         "hovertemplate": "Cidade=Caxambu do Sul<br>Total Equipamentos=%{marker.size}<br>Latitude=%{lat}<br>Longitude=%{lon}<extra></extra>",
         "lat": [
          -27.1624
         ],
         "legendgroup": "Caxambu do Sul",
         "lon": [
          -52.8807
         ],
         "marker": {
          "color": "#FFA15A",
          "size": [
           1
          ],
          "sizemode": "area",
          "sizeref": 2.1525
         },
         "mode": "markers",
         "name": "Caxambu do Sul",
         "showlegend": true,
         "subplot": "mapbox",
         "type": "scattermapbox"
        },
        {
         "hovertemplate": "Cidade=Chapecó<br>Total Equipamentos=%{marker.size}<br>Latitude=%{lat}<br>Longitude=%{lon}<extra></extra>",
         "lat": [
          -27.1004
         ],
         "legendgroup": "Chapecó",
         "lon": [
          -52.6152
         ],
         "marker": {
          "color": "#19d3f3",
          "size": [
           334
          ],
          "sizemode": "area",
          "sizeref": 2.1525
         },
         "mode": "markers",
         "name": "Chapecó",
         "showlegend": true,
         "subplot": "mapbox",
         "type": "scattermapbox"
        },
        {
         "hovertemplate": "Cidade=Cocal do Sul<br>Total Equipamentos=%{marker.size}<br>Latitude=%{lat}<br>Longitude=%{lon}<extra></extra>",
         "lat": [
          -28.5986
         ],
         "legendgroup": "Cocal do Sul",
         "lon": [
          -49.3335
         ],
         "marker": {
          "color": "#FF6692",
          "size": [
           13
          ],
          "sizemode": "area",
          "sizeref": 2.1525
         },
         "mode": "markers",
         "name": "Cocal do Sul",
         "showlegend": true,
         "subplot": "mapbox",
         "type": "scattermapbox"
        },
        {
         "hovertemplate": "Cidade=Concórdia<br>Total Equipamentos=%{marker.size}<br>Latitude=%{lat}<br>Longitude=%{lon}<extra></extra>",
         "lat": [
          -27.2335
         ],
         "legendgroup": "Concórdia",
         "lon": [
          -52.026
         ],
         "marker": {
          "color": "#B6E880",
          "size": [
           114
          ],
          "sizemode": "area",
          "sizeref": 2.1525
         },
         "mode": "markers",
         "name": "Concórdia",
         "showlegend": true,
         "subplot": "mapbox",
         "type": "scattermapbox"
        },
        {
         "hovertemplate": "Cidade=Cordilheira Alta<br>Total Equipamentos=%{marker.size}<br>Latitude=%{lat}<br>Longitude=%{lon}<extra></extra>",
         "lat": [
          -26.9844
         ],
         "legendgroup": "Cordilheira Alta",
         "lon": [
          -52.6056
         ],
         "marker": {
          "color": "#FF97FF",
          "size": [
           1
          ],
          "sizemode": "area",
          "sizeref": 2.1525
         },
         "mode": "markers",
         "name": "Cordilheira Alta",
         "showlegend": true,
         "subplot": "mapbox",
         "type": "scattermapbox"
        },
        {
         "hovertemplate": "Cidade=Coronel Freitas<br>Total Equipamentos=%{marker.size}<br>Latitude=%{lat}<br>Longitude=%{lon}<extra></extra>",
         "lat": [
          -26.9057
         ],
         "legendgroup": "Coronel Freitas",
         "lon": [
          -52.7011
         ],
         "marker": {
          "color": "#FECB52",
          "size": [
           2
          ],
          "sizemode": "area",
          "sizeref": 2.1525
         },
         "mode": "markers",
         "name": "Coronel Freitas",
         "showlegend": true,
         "subplot": "mapbox",
         "type": "scattermapbox"
        },
        {
         "hovertemplate": "Cidade=Correia Pinto<br>Total Equipamentos=%{marker.size}<br>Latitude=%{lat}<br>Longitude=%{lon}<extra></extra>",
         "lat": [
          -27.5877
         ],
         "legendgroup": "Correia Pinto",
         "lon": [
          -50.3614
         ],
         "marker": {
          "color": "#636efa",
          "size": [
           3
          ],
          "sizemode": "area",
          "sizeref": 2.1525
         },
         "mode": "markers",
         "name": "Correia Pinto",
         "showlegend": true,
         "subplot": "mapbox",
         "type": "scattermapbox"
        },
        {
         "hovertemplate": "Cidade=Corupá<br>Total Equipamentos=%{marker.size}<br>Latitude=%{lat}<br>Longitude=%{lon}<extra></extra>",
         "lat": [
          -26.4246
         ],
         "legendgroup": "Corupá",
         "lon": [
          -49.246
         ],
         "marker": {
          "color": "#EF553B",
          "size": [
           10
          ],
          "sizemode": "area",
          "sizeref": 2.1525
         },
         "mode": "markers",
         "name": "Corupá",
         "showlegend": true,
         "subplot": "mapbox",
         "type": "scattermapbox"
        },
        {
         "hovertemplate": "Cidade=Criciúma<br>Total Equipamentos=%{marker.size}<br>Latitude=%{lat}<br>Longitude=%{lon}<extra></extra>",
         "lat": [
          -28.6723
         ],
         "legendgroup": "Criciúma",
         "lon": [
          -49.3729
         ],
         "marker": {
          "color": "#00cc96",
          "size": [
           241
          ],
          "sizemode": "area",
          "sizeref": 2.1525
         },
         "mode": "markers",
         "name": "Criciúma",
         "showlegend": true,
         "subplot": "mapbox",
         "type": "scattermapbox"
        },
        {
         "hovertemplate": "Cidade=Cunha Porã<br>Total Equipamentos=%{marker.size}<br>Latitude=%{lat}<br>Longitude=%{lon}<extra></extra>",
         "lat": [
          -26.895
         ],
         "legendgroup": "Cunha Porã",
         "lon": [
          -53.1662
         ],
         "marker": {
          "color": "#ab63fa",
          "size": [
           5
          ],
          "sizemode": "area",
          "sizeref": 2.1525
         },
         "mode": "markers",
         "name": "Cunha Porã",
         "showlegend": true,
         "subplot": "mapbox",
         "type": "scattermapbox"
        },
        {
         "hovertemplate": "Cidade=Cunhataí<br>Total Equipamentos=%{marker.size}<br>Latitude=%{lat}<br>Longitude=%{lon}<extra></extra>",
         "lat": [
          -26.9709
         ],
         "legendgroup": "Cunhataí",
         "lon": [
          -53.0895
         ],
         "marker": {
          "color": "#FFA15A",
          "size": [
           2
          ],
          "sizemode": "area",
          "sizeref": 2.1525
         },
         "mode": "markers",
         "name": "Cunhataí",
         "showlegend": true,
         "subplot": "mapbox",
         "type": "scattermapbox"
        },
        {
         "hovertemplate": "Cidade=Curitibanos<br>Total Equipamentos=%{marker.size}<br>Latitude=%{lat}<br>Longitude=%{lon}<extra></extra>",
         "lat": [
          -27.2824
         ],
         "legendgroup": "Curitibanos",
         "lon": [
          -50.5816
         ],
         "marker": {
          "color": "#19d3f3",
          "size": [
           27
          ],
          "sizemode": "area",
          "sizeref": 2.1525
         },
         "mode": "markers",
         "name": "Curitibanos",
         "showlegend": true,
         "subplot": "mapbox",
         "type": "scattermapbox"
        },
        {
         "hovertemplate": "Cidade=Descanso<br>Total Equipamentos=%{marker.size}<br>Latitude=%{lat}<br>Longitude=%{lon}<extra></extra>",
         "lat": [
          -26.826999999999998
         ],
         "legendgroup": "Descanso",
         "lon": [
          -53.5034
         ],
         "marker": {
          "color": "#FF6692",
          "size": [
           8
          ],
          "sizemode": "area",
          "sizeref": 2.1525
         },
         "mode": "markers",
         "name": "Descanso",
         "showlegend": true,
         "subplot": "mapbox",
         "type": "scattermapbox"
        },
        {
         "hovertemplate": "Cidade=Dionísio Cerqueira<br>Total Equipamentos=%{marker.size}<br>Latitude=%{lat}<br>Longitude=%{lon}<extra></extra>",
         "lat": [
          -26.2648
         ],
         "legendgroup": "Dionísio Cerqueira",
         "lon": [
          -53.6351
         ],
         "marker": {
          "color": "#B6E880",
          "size": [
           12
          ],
          "sizemode": "area",
          "sizeref": 2.1525
         },
         "mode": "markers",
         "name": "Dionísio Cerqueira",
         "showlegend": true,
         "subplot": "mapbox",
         "type": "scattermapbox"
        },
        {
         "hovertemplate": "Cidade=Dona Emma<br>Total Equipamentos=%{marker.size}<br>Latitude=%{lat}<br>Longitude=%{lon}<extra></extra>",
         "lat": [
          -26.980999999999998
         ],
         "legendgroup": "Dona Emma",
         "lon": [
          -49.7261
         ],
         "marker": {
          "color": "#FF97FF",
          "size": [
           3
          ],
          "sizemode": "area",
          "sizeref": 2.1525
         },
         "mode": "markers",
         "name": "Dona Emma",
         "showlegend": true,
         "subplot": "mapbox",
         "type": "scattermapbox"
        },
        {
         "hovertemplate": "Cidade=Entre Rios<br>Total Equipamentos=%{marker.size}<br>Latitude=%{lat}<br>Longitude=%{lon}<extra></extra>",
         "lat": [
          -26.7225
         ],
         "legendgroup": "Entre Rios",
         "lon": [
          -52.5585
         ],
         "marker": {
          "color": "#FECB52",
          "size": [
           2
          ],
          "sizemode": "area",
          "sizeref": 2.1525
         },
         "mode": "markers",
         "name": "Entre Rios",
         "showlegend": true,
         "subplot": "mapbox",
         "type": "scattermapbox"
        },
        {
         "hovertemplate": "Cidade=Erval Velho<br>Total Equipamentos=%{marker.size}<br>Latitude=%{lat}<br>Longitude=%{lon}<extra></extra>",
         "lat": [
          -27.2743
         ],
         "legendgroup": "Erval Velho",
         "lon": [
          -51.443000000000005
         ],
         "marker": {
          "color": "#636efa",
          "size": [
           2
          ],
          "sizemode": "area",
          "sizeref": 2.1525
         },
         "mode": "markers",
         "name": "Erval Velho",
         "showlegend": true,
         "subplot": "mapbox",
         "type": "scattermapbox"
        },
        {
         "hovertemplate": "Cidade=Faxinal dos Guedes<br>Total Equipamentos=%{marker.size}<br>Latitude=%{lat}<br>Longitude=%{lon}<extra></extra>",
         "lat": [
          -26.8451
         ],
         "legendgroup": "Faxinal dos Guedes",
         "lon": [
          -52.2596
         ],
         "marker": {
          "color": "#EF553B",
          "size": [
           6
          ],
          "sizemode": "area",
          "sizeref": 2.1525
         },
         "mode": "markers",
         "name": "Faxinal dos Guedes",
         "showlegend": true,
         "subplot": "mapbox",
         "type": "scattermapbox"
        },
        {
         "hovertemplate": "Cidade=Flor do Sertão<br>Total Equipamentos=%{marker.size}<br>Latitude=%{lat}<br>Longitude=%{lon}<extra></extra>",
         "lat": [
          -26.7811
         ],
         "legendgroup": "Flor do Sertão",
         "lon": [
          -53.3505
         ],
         "marker": {
          "color": "#00cc96",
          "size": [
           1
          ],
          "sizemode": "area",
          "sizeref": 2.1525
         },
         "mode": "markers",
         "name": "Flor do Sertão",
         "showlegend": true,
         "subplot": "mapbox",
         "type": "scattermapbox"
        },
        {
         "hovertemplate": "Cidade=Florianópolis<br>Total Equipamentos=%{marker.size}<br>Latitude=%{lat}<br>Longitude=%{lon}<extra></extra>",
         "lat": [
          -27.5945
         ],
         "legendgroup": "Florianópolis",
         "lon": [
          -48.5477
         ],
         "marker": {
          "color": "#ab63fa",
          "size": [
           861
          ],
          "sizemode": "area",
          "sizeref": 2.1525
         },
         "mode": "markers",
         "name": "Florianópolis",
         "showlegend": true,
         "subplot": "mapbox",
         "type": "scattermapbox"
        },
        {
         "hovertemplate": "Cidade=Formosa do Sul<br>Total Equipamentos=%{marker.size}<br>Latitude=%{lat}<br>Longitude=%{lon}<extra></extra>",
         "lat": [
          -26.6453
         ],
         "legendgroup": "Formosa do Sul",
         "lon": [
          -52.7946
         ],
         "marker": {
          "color": "#FFA15A",
          "size": [
           1
          ],
          "sizemode": "area",
          "sizeref": 2.1525
         },
         "mode": "markers",
         "name": "Formosa do Sul",
         "showlegend": true,
         "subplot": "mapbox",
         "type": "scattermapbox"
        },
        {
         "hovertemplate": "Cidade=Forquilhinha<br>Total Equipamentos=%{marker.size}<br>Latitude=%{lat}<br>Longitude=%{lon}<extra></extra>",
         "lat": [
          -28.7454
         ],
         "legendgroup": "Forquilhinha",
         "lon": [
          -49.4785
         ],
         "marker": {
          "color": "#19d3f3",
          "size": [
           9
          ],
          "sizemode": "area",
          "sizeref": 2.1525
         },
         "mode": "markers",
         "name": "Forquilhinha",
         "showlegend": true,
         "subplot": "mapbox",
         "type": "scattermapbox"
        },
        {
         "hovertemplate": "Cidade=Fraiburgo<br>Total Equipamentos=%{marker.size}<br>Latitude=%{lat}<br>Longitude=%{lon}<extra></extra>",
         "lat": [
          -27.0233
         ],
         "legendgroup": "Fraiburgo",
         "lon": [
          -50.92
         ],
         "marker": {
          "color": "#FF6692",
          "size": [
           41
          ],
          "sizemode": "area",
          "sizeref": 2.1525
         },
         "mode": "markers",
         "name": "Fraiburgo",
         "showlegend": true,
         "subplot": "mapbox",
         "type": "scattermapbox"
        },
        {
         "hovertemplate": "Cidade=Galvão<br>Total Equipamentos=%{marker.size}<br>Latitude=%{lat}<br>Longitude=%{lon}<extra></extra>",
         "lat": [
          -26.4549
         ],
         "legendgroup": "Galvão",
         "lon": [
          -52.6875
         ],
         "marker": {
          "color": "#B6E880",
          "size": [
           1
          ],
          "sizemode": "area",
          "sizeref": 2.1525
         },
         "mode": "markers",
         "name": "Galvão",
         "showlegend": true,
         "subplot": "mapbox",
         "type": "scattermapbox"
        },
        {
         "hovertemplate": "Cidade=Garopaba<br>Total Equipamentos=%{marker.size}<br>Latitude=%{lat}<br>Longitude=%{lon}<extra></extra>",
         "lat": [
          -28.0275
         ],
         "legendgroup": "Garopaba",
         "lon": [
          -48.6192
         ],
         "marker": {
          "color": "#FF97FF",
          "size": [
           21
          ],
          "sizemode": "area",
          "sizeref": 2.1525
         },
         "mode": "markers",
         "name": "Garopaba",
         "showlegend": true,
         "subplot": "mapbox",
         "type": "scattermapbox"
        },
        {
         "hovertemplate": "Cidade=Garuva<br>Total Equipamentos=%{marker.size}<br>Latitude=%{lat}<br>Longitude=%{lon}<extra></extra>",
         "lat": [
          -26.0292
         ],
         "legendgroup": "Garuva",
         "lon": [
          -48.852
         ],
         "marker": {
          "color": "#FECB52",
          "size": [
           9
          ],
          "sizemode": "area",
          "sizeref": 2.1525
         },
         "mode": "markers",
         "name": "Garuva",
         "showlegend": true,
         "subplot": "mapbox",
         "type": "scattermapbox"
        },
        {
         "hovertemplate": "Cidade=Gaspar<br>Total Equipamentos=%{marker.size}<br>Latitude=%{lat}<br>Longitude=%{lon}<extra></extra>",
         "lat": [
          -26.9336
         ],
         "legendgroup": "Gaspar",
         "lon": [
          -48.9534
         ],
         "marker": {
          "color": "#636efa",
          "size": [
           48
          ],
          "sizemode": "area",
          "sizeref": 2.1525
         },
         "mode": "markers",
         "name": "Gaspar",
         "showlegend": true,
         "subplot": "mapbox",
         "type": "scattermapbox"
        },
        {
         "hovertemplate": "Cidade=Governador Celso Ramos<br>Total Equipamentos=%{marker.size}<br>Latitude=%{lat}<br>Longitude=%{lon}<extra></extra>",
         "lat": [
          -27.3172
         ],
         "legendgroup": "Governador Celso Ramos",
         "lon": [
          -48.5576
         ],
         "marker": {
          "color": "#EF553B",
          "size": [
           1
          ],
          "sizemode": "area",
          "sizeref": 2.1525
         },
         "mode": "markers",
         "name": "Governador Celso Ramos",
         "showlegend": true,
         "subplot": "mapbox",
         "type": "scattermapbox"
        },
        {
         "hovertemplate": "Cidade=Grão Pará<br>Total Equipamentos=%{marker.size}<br>Latitude=%{lat}<br>Longitude=%{lon}<extra></extra>",
         "lat": [
          -28.1809
         ],
         "legendgroup": "Grão Pará",
         "lon": [
          -49.2252
         ],
         "marker": {
          "color": "#00cc96",
          "size": [
           2
          ],
          "sizemode": "area",
          "sizeref": 2.1525
         },
         "mode": "markers",
         "name": "Grão Pará",
         "showlegend": true,
         "subplot": "mapbox",
         "type": "scattermapbox"
        },
        {
         "hovertemplate": "Cidade=Gravatal<br>Total Equipamentos=%{marker.size}<br>Latitude=%{lat}<br>Longitude=%{lon}<extra></extra>",
         "lat": [
          -28.3208
         ],
         "legendgroup": "Gravatal",
         "lon": [
          -49.0427
         ],
         "marker": {
          "color": "#ab63fa",
          "size": [
           2
          ],
          "sizemode": "area",
          "sizeref": 2.1525
         },
         "mode": "markers",
         "name": "Gravatal",
         "showlegend": true,
         "subplot": "mapbox",
         "type": "scattermapbox"
        },
        {
         "hovertemplate": "Cidade=Guabiruba<br>Total Equipamentos=%{marker.size}<br>Latitude=%{lat}<br>Longitude=%{lon}<extra></extra>",
         "lat": [
          -27.0808
         ],
         "legendgroup": "Guabiruba",
         "lon": [
          -48.9804
         ],
         "marker": {
          "color": "#FFA15A",
          "size": [
           2
          ],
          "sizemode": "area",
          "sizeref": 2.1525
         },
         "mode": "markers",
         "name": "Guabiruba",
         "showlegend": true,
         "subplot": "mapbox",
         "type": "scattermapbox"
        },
        {
         "hovertemplate": "Cidade=Guaraciaba<br>Total Equipamentos=%{marker.size}<br>Latitude=%{lat}<br>Longitude=%{lon}<extra></extra>",
         "lat": [
          -26.6042
         ],
         "legendgroup": "Guaraciaba",
         "lon": [
          -53.5243
         ],
         "marker": {
          "color": "#19d3f3",
          "size": [
           7
          ],
          "sizemode": "area",
          "sizeref": 2.1525
         },
         "mode": "markers",
         "name": "Guaraciaba",
         "showlegend": true,
         "subplot": "mapbox",
         "type": "scattermapbox"
        },
        {
         "hovertemplate": "Cidade=Guaramirim<br>Total Equipamentos=%{marker.size}<br>Latitude=%{lat}<br>Longitude=%{lon}<extra></extra>",
         "lat": [
          -26.4688
         ],
         "legendgroup": "Guaramirim",
         "lon": [
          -49.0026
         ],
         "marker": {
          "color": "#FF6692",
          "size": [
           15
          ],
          "sizemode": "area",
          "sizeref": 2.1525
         },
         "mode": "markers",
         "name": "Guaramirim",
         "showlegend": true,
         "subplot": "mapbox",
         "type": "scattermapbox"
        },
        {
         "hovertemplate": "Cidade=Guarujá do Sul<br>Total Equipamentos=%{marker.size}<br>Latitude=%{lat}<br>Longitude=%{lon}<extra></extra>",
         "lat": [
          -26.3858
         ],
         "legendgroup": "Guarujá do Sul",
         "lon": [
          -53.5296
         ],
         "marker": {
          "color": "#B6E880",
          "size": [
           3
          ],
          "sizemode": "area",
          "sizeref": 2.1525
         },
         "mode": "markers",
         "name": "Guarujá do Sul",
         "showlegend": true,
         "subplot": "mapbox",
         "type": "scattermapbox"
        },
        {
         "hovertemplate": "Cidade=Guatambú<br>Total Equipamentos=%{marker.size}<br>Latitude=%{lat}<br>Longitude=%{lon}<extra></extra>",
         "lat": [
          -27.1341
         ],
         "legendgroup": "Guatambú",
         "lon": [
          -52.7887
         ],
         "marker": {
          "color": "#FF97FF",
          "size": [
           1
          ],
          "sizemode": "area",
          "sizeref": 2.1525
         },
         "mode": "markers",
         "name": "Guatambú",
         "showlegend": true,
         "subplot": "mapbox",
         "type": "scattermapbox"
        },
        {
         "hovertemplate": "Cidade=Herval d'Oeste<br>Total Equipamentos=%{marker.size}<br>Latitude=%{lat}<br>Longitude=%{lon}<extra></extra>",
         "lat": [
          -27.1903
         ],
         "legendgroup": "Herval d'Oeste",
         "lon": [
          -51.4917
         ],
         "marker": {
          "color": "#FECB52",
          "size": [
           7
          ],
          "sizemode": "area",
          "sizeref": 2.1525
         },
         "mode": "markers",
         "name": "Herval d'Oeste",
         "showlegend": true,
         "subplot": "mapbox",
         "type": "scattermapbox"
        },
        {
         "hovertemplate": "Cidade=Ibicaré<br>Total Equipamentos=%{marker.size}<br>Latitude=%{lat}<br>Longitude=%{lon}<extra></extra>",
         "lat": [
          -27.0881
         ],
         "legendgroup": "Ibicaré",
         "lon": [
          -51.3681
         ],
         "marker": {
          "color": "#636efa",
          "size": [
           2
          ],
          "sizemode": "area",
          "sizeref": 2.1525
         },
         "mode": "markers",
         "name": "Ibicaré",
         "showlegend": true,
         "subplot": "mapbox",
         "type": "scattermapbox"
        },
        {
         "hovertemplate": "Cidade=Ibirama<br>Total Equipamentos=%{marker.size}<br>Latitude=%{lat}<br>Longitude=%{lon}<extra></extra>",
         "lat": [
          -27.0547
         ],
         "legendgroup": "Ibirama",
         "lon": [
          -49.5193
         ],
         "marker": {
          "color": "#EF553B",
          "size": [
           16
          ],
          "sizemode": "area",
          "sizeref": 2.1525
         },
         "mode": "markers",
         "name": "Ibirama",
         "showlegend": true,
         "subplot": "mapbox",
         "type": "scattermapbox"
        },
        {
         "hovertemplate": "Cidade=Içara<br>Total Equipamentos=%{marker.size}<br>Latitude=%{lat}<br>Longitude=%{lon}<extra></extra>",
         "lat": [
          -28.7132
         ],
         "legendgroup": "Içara",
         "lon": [
          -49.3087
         ],
         "marker": {
          "color": "#00cc96",
          "size": [
           31
          ],
          "sizemode": "area",
          "sizeref": 2.1525
         },
         "mode": "markers",
         "name": "Içara",
         "showlegend": true,
         "subplot": "mapbox",
         "type": "scattermapbox"
        },
        {
         "hovertemplate": "Cidade=Ilhota<br>Total Equipamentos=%{marker.size}<br>Latitude=%{lat}<br>Longitude=%{lon}<extra></extra>",
         "lat": [
          -26.9023
         ],
         "legendgroup": "Ilhota",
         "lon": [
          -48.8251
         ],
         "marker": {
          "color": "#ab63fa",
          "size": [
           1
          ],
          "sizemode": "area",
          "sizeref": 2.1525
         },
         "mode": "markers",
         "name": "Ilhota",
         "showlegend": true,
         "subplot": "mapbox",
         "type": "scattermapbox"
        },
        {
         "hovertemplate": "Cidade=Imaruí<br>Total Equipamentos=%{marker.size}<br>Latitude=%{lat}<br>Longitude=%{lon}<extra></extra>",
         "lat": [
          -28.3339
         ],
         "legendgroup": "Imaruí",
         "lon": [
          -48.817
         ],
         "marker": {
          "color": "#FFA15A",
          "size": [
           1
          ],
          "sizemode": "area",
          "sizeref": 2.1525
         },
         "mode": "markers",
         "name": "Imaruí",
         "showlegend": true,
         "subplot": "mapbox",
         "type": "scattermapbox"
        },
        {
         "hovertemplate": "Cidade=Imbituba<br>Total Equipamentos=%{marker.size}<br>Latitude=%{lat}<br>Longitude=%{lon}<extra></extra>",
         "lat": [
          -28.2284
         ],
         "legendgroup": "Imbituba",
         "lon": [
          -48.6659
         ],
         "marker": {
          "color": "#19d3f3",
          "size": [
           45
          ],
          "sizemode": "area",
          "sizeref": 2.1525
         },
         "mode": "markers",
         "name": "Imbituba",
         "showlegend": true,
         "subplot": "mapbox",
         "type": "scattermapbox"
        },
        {
         "hovertemplate": "Cidade=Imbuia<br>Total Equipamentos=%{marker.size}<br>Latitude=%{lat}<br>Longitude=%{lon}<extra></extra>",
         "lat": [
          -27.4908
         ],
         "legendgroup": "Imbuia",
         "lon": [
          -49.4218
         ],
         "marker": {
          "color": "#FF6692",
          "size": [
           1
          ],
          "sizemode": "area",
          "sizeref": 2.1525
         },
         "mode": "markers",
         "name": "Imbuia",
         "showlegend": true,
         "subplot": "mapbox",
         "type": "scattermapbox"
        },
        {
         "hovertemplate": "Cidade=Indaial<br>Total Equipamentos=%{marker.size}<br>Latitude=%{lat}<br>Longitude=%{lon}<extra></extra>",
         "lat": [
          -26.8992
         ],
         "legendgroup": "Indaial",
         "lon": [
          -49.2354
         ],
         "marker": {
          "color": "#B6E880",
          "size": [
           66
          ],
          "sizemode": "area",
          "sizeref": 2.1525
         },
         "mode": "markers",
         "name": "Indaial",
         "showlegend": true,
         "subplot": "mapbox",
         "type": "scattermapbox"
        },
        {
         "hovertemplate": "Cidade=Ipira<br>Total Equipamentos=%{marker.size}<br>Latitude=%{lat}<br>Longitude=%{lon}<extra></extra>",
         "lat": [
          -27.4038
         ],
         "legendgroup": "Ipira",
         "lon": [
          -51.7758
         ],
         "marker": {
          "color": "#FF97FF",
          "size": [
           3
          ],
          "sizemode": "area",
          "sizeref": 2.1525
         },
         "mode": "markers",
         "name": "Ipira",
         "showlegend": true,
         "subplot": "mapbox",
         "type": "scattermapbox"
        },
        {
         "hovertemplate": "Cidade=Iporã do Oeste<br>Total Equipamentos=%{marker.size}<br>Latitude=%{lat}<br>Longitude=%{lon}<extra></extra>",
         "lat": [
          -26.9854
         ],
         "legendgroup": "Iporã do Oeste",
         "lon": [
          -53.5355
         ],
         "marker": {
          "color": "#FECB52",
          "size": [
           9
          ],
          "sizemode": "area",
          "sizeref": 2.1525
         },
         "mode": "markers",
         "name": "Iporã do Oeste",
         "showlegend": true,
         "subplot": "mapbox",
         "type": "scattermapbox"
        },
        {
         "hovertemplate": "Cidade=Ipuaçu<br>Total Equipamentos=%{marker.size}<br>Latitude=%{lat}<br>Longitude=%{lon}<extra></extra>",
         "lat": [
          -26.635
         ],
         "legendgroup": "Ipuaçu",
         "lon": [
          -52.4556
         ],
         "marker": {
          "color": "#636efa",
          "size": [
           1
          ],
          "sizemode": "area",
          "sizeref": 2.1525
         },
         "mode": "markers",
         "name": "Ipuaçu",
         "showlegend": true,
         "subplot": "mapbox",
         "type": "scattermapbox"
        },
        {
         "hovertemplate": "Cidade=Ipumirim<br>Total Equipamentos=%{marker.size}<br>Latitude=%{lat}<br>Longitude=%{lon}<extra></extra>",
         "lat": [
          -27.0772
         ],
         "legendgroup": "Ipumirim",
         "lon": [
          -52.1289
         ],
         "marker": {
          "color": "#EF553B",
          "size": [
           6
          ],
          "sizemode": "area",
          "sizeref": 2.1525
         },
         "mode": "markers",
         "name": "Ipumirim",
         "showlegend": true,
         "subplot": "mapbox",
         "type": "scattermapbox"
        },
        {
         "hovertemplate": "Cidade=Iraceminha<br>Total Equipamentos=%{marker.size}<br>Latitude=%{lat}<br>Longitude=%{lon}<extra></extra>",
         "lat": [
          -26.8215
         ],
         "legendgroup": "Iraceminha",
         "lon": [
          -53.2767
         ],
         "marker": {
          "color": "#00cc96",
          "size": [
           6
          ],
          "sizemode": "area",
          "sizeref": 2.1525
         },
         "mode": "markers",
         "name": "Iraceminha",
         "showlegend": true,
         "subplot": "mapbox",
         "type": "scattermapbox"
        },
        {
         "hovertemplate": "Cidade=Irani<br>Total Equipamentos=%{marker.size}<br>Latitude=%{lat}<br>Longitude=%{lon}<extra></extra>",
         "lat": [
          -27.0287
         ],
         "legendgroup": "Irani",
         "lon": [
          -51.9012
         ],
         "marker": {
          "color": "#ab63fa",
          "size": [
           2
          ],
          "sizemode": "area",
          "sizeref": 2.1525
         },
         "mode": "markers",
         "name": "Irani",
         "showlegend": true,
         "subplot": "mapbox",
         "type": "scattermapbox"
        },
        {
         "hovertemplate": "Cidade=Irineópolis<br>Total Equipamentos=%{marker.size}<br>Latitude=%{lat}<br>Longitude=%{lon}<extra></extra>",
         "lat": [
          -26.241999999999997
         ],
         "legendgroup": "Irineópolis",
         "lon": [
          -50.7957
         ],
         "marker": {
          "color": "#FFA15A",
          "size": [
           2
          ],
          "sizemode": "area",
          "sizeref": 2.1525
         },
         "mode": "markers",
         "name": "Irineópolis",
         "showlegend": true,
         "subplot": "mapbox",
         "type": "scattermapbox"
        },
        {
         "hovertemplate": "Cidade=Itá<br>Total Equipamentos=%{marker.size}<br>Latitude=%{lat}<br>Longitude=%{lon}<extra></extra>",
         "lat": [
          -27.2907
         ],
         "legendgroup": "Itá",
         "lon": [
          -52.3212
         ],
         "marker": {
          "color": "#19d3f3",
          "size": [
           7
          ],
          "sizemode": "area",
          "sizeref": 2.1525
         },
         "mode": "markers",
         "name": "Itá",
         "showlegend": true,
         "subplot": "mapbox",
         "type": "scattermapbox"
        },
        {
         "hovertemplate": "Cidade=Itaiópolis<br>Total Equipamentos=%{marker.size}<br>Latitude=%{lat}<br>Longitude=%{lon}<extra></extra>",
         "lat": [
          -26.339000000000002
         ],
         "legendgroup": "Itaiópolis",
         "lon": [
          -49.9092
         ],
         "marker": {
          "color": "#FF6692",
          "size": [
           13
          ],
          "sizemode": "area",
          "sizeref": 2.1525
         },
         "mode": "markers",
         "name": "Itaiópolis",
         "showlegend": true,
         "subplot": "mapbox",
         "type": "scattermapbox"
        },
        {
         "hovertemplate": "Cidade=Itajaí<br>Total Equipamentos=%{marker.size}<br>Latitude=%{lat}<br>Longitude=%{lon}<extra></extra>",
         "lat": [
          -26.9101
         ],
         "legendgroup": "Itajaí",
         "lon": [
          -48.6705
         ],
         "marker": {
          "color": "#B6E880",
          "size": [
           367
          ],
          "sizemode": "area",
          "sizeref": 2.1525
         },
         "mode": "markers",
         "name": "Itajaí",
         "showlegend": true,
         "subplot": "mapbox",
         "type": "scattermapbox"
        },
        {
         "hovertemplate": "Cidade=Itapema<br>Total Equipamentos=%{marker.size}<br>Latitude=%{lat}<br>Longitude=%{lon}<extra></extra>",
         "lat": [
          -27.0861
         ],
         "legendgroup": "Itapema",
         "lon": [
          -48.61600000000001
         ],
         "marker": {
          "color": "#FF97FF",
          "size": [
           75
          ],
          "sizemode": "area",
          "sizeref": 2.1525
         },
         "mode": "markers",
         "name": "Itapema",
         "showlegend": true,
         "subplot": "mapbox",
         "type": "scattermapbox"
        },
        {
         "hovertemplate": "Cidade=Itapiranga<br>Total Equipamentos=%{marker.size}<br>Latitude=%{lat}<br>Longitude=%{lon}<extra></extra>",
         "lat": [
          -27.1659
         ],
         "legendgroup": "Itapiranga",
         "lon": [
          -53.7166
         ],
         "marker": {
          "color": "#FECB52",
          "size": [
           11
          ],
          "sizemode": "area",
          "sizeref": 2.1525
         },
         "mode": "markers",
         "name": "Itapiranga",
         "showlegend": true,
         "subplot": "mapbox",
         "type": "scattermapbox"
        },
        {
         "hovertemplate": "Cidade=Itapoá<br>Total Equipamentos=%{marker.size}<br>Latitude=%{lat}<br>Longitude=%{lon}<extra></extra>",
         "lat": [
          -26.1158
         ],
         "legendgroup": "Itapoá",
         "lon": [
          -48.6182
         ],
         "marker": {
          "color": "#636efa",
          "size": [
           9
          ],
          "sizemode": "area",
          "sizeref": 2.1525
         },
         "mode": "markers",
         "name": "Itapoá",
         "showlegend": true,
         "subplot": "mapbox",
         "type": "scattermapbox"
        },
        {
         "hovertemplate": "Cidade=Ituporanga<br>Total Equipamentos=%{marker.size}<br>Latitude=%{lat}<br>Longitude=%{lon}<extra></extra>",
         "lat": [
          -27.4101
         ],
         "legendgroup": "Ituporanga",
         "lon": [
          -49.5963
         ],
         "marker": {
          "color": "#EF553B",
          "size": [
           20
          ],
          "sizemode": "area",
          "sizeref": 2.1525
         },
         "mode": "markers",
         "name": "Ituporanga",
         "showlegend": true,
         "subplot": "mapbox",
         "type": "scattermapbox"
        },
        {
         "hovertemplate": "Cidade=Jaborá<br>Total Equipamentos=%{marker.size}<br>Latitude=%{lat}<br>Longitude=%{lon}<extra></extra>",
         "lat": [
          -27.1782
         ],
         "legendgroup": "Jaborá",
         "lon": [
          -51.7279
         ],
         "marker": {
          "color": "#00cc96",
          "size": [
           2
          ],
          "sizemode": "area",
          "sizeref": 2.1525
         },
         "mode": "markers",
         "name": "Jaborá",
         "showlegend": true,
         "subplot": "mapbox",
         "type": "scattermapbox"
        },
        {
         "hovertemplate": "Cidade=Jacinto Machado<br>Total Equipamentos=%{marker.size}<br>Latitude=%{lat}<br>Longitude=%{lon}<extra></extra>",
         "lat": [
          -28.9961
         ],
         "legendgroup": "Jacinto Machado",
         "lon": [
          -49.7623
         ],
         "marker": {
          "color": "#ab63fa",
          "size": [
           1
          ],
          "sizemode": "area",
          "sizeref": 2.1525
         },
         "mode": "markers",
         "name": "Jacinto Machado",
         "showlegend": true,
         "subplot": "mapbox",
         "type": "scattermapbox"
        },
        {
         "hovertemplate": "Cidade=Jaguaruna<br>Total Equipamentos=%{marker.size}<br>Latitude=%{lat}<br>Longitude=%{lon}<extra></extra>",
         "lat": [
          -28.6146
         ],
         "legendgroup": "Jaguaruna",
         "lon": [
          -49.0296
         ],
         "marker": {
          "color": "#FFA15A",
          "size": [
           19
          ],
          "sizemode": "area",
          "sizeref": 2.1525
         },
         "mode": "markers",
         "name": "Jaguaruna",
         "showlegend": true,
         "subplot": "mapbox",
         "type": "scattermapbox"
        },
        {
         "hovertemplate": "Cidade=Jaraguá do Sul<br>Total Equipamentos=%{marker.size}<br>Latitude=%{lat}<br>Longitude=%{lon}<extra></extra>",
         "lat": [
          -26.4851
         ],
         "legendgroup": "Jaraguá do Sul",
         "lon": [
          -49.0713
         ],
         "marker": {
          "color": "#19d3f3",
          "size": [
           293
          ],
          "sizemode": "area",
          "sizeref": 2.1525
         },
         "mode": "markers",
         "name": "Jaraguá do Sul",
         "showlegend": true,
         "subplot": "mapbox",
         "type": "scattermapbox"
        },
        {
         "hovertemplate": "Cidade=Joaçaba<br>Total Equipamentos=%{marker.size}<br>Latitude=%{lat}<br>Longitude=%{lon}<extra></extra>",
         "lat": [
          -27.1721
         ],
         "legendgroup": "Joaçaba",
         "lon": [
          -51.5108
         ],
         "marker": {
          "color": "#FF6692",
          "size": [
           76
          ],
          "sizemode": "area",
          "sizeref": 2.1525
         },
         "mode": "markers",
         "name": "Joaçaba",
         "showlegend": true,
         "subplot": "mapbox",
         "type": "scattermapbox"
        },
        {
         "hovertemplate": "Cidade=Joinville<br>Total Equipamentos=%{marker.size}<br>Latitude=%{lat}<br>Longitude=%{lon}<extra></extra>",
         "lat": [
          -26.3045
         ],
         "legendgroup": "Joinville",
         "lon": [
          -48.8487
         ],
         "marker": {
          "color": "#B6E880",
          "size": [
           702
          ],
          "sizemode": "area",
          "sizeref": 2.1525
         },
         "mode": "markers",
         "name": "Joinville",
         "showlegend": true,
         "subplot": "mapbox",
         "type": "scattermapbox"
        },
        {
         "hovertemplate": "Cidade=José Boiteux<br>Total Equipamentos=%{marker.size}<br>Latitude=%{lat}<br>Longitude=%{lon}<extra></extra>",
         "lat": [
          -26.9566
         ],
         "legendgroup": "José Boiteux",
         "lon": [
          -49.6286
         ],
         "marker": {
          "color": "#FF97FF",
          "size": [
           1
          ],
          "sizemode": "area",
          "sizeref": 2.1525
         },
         "mode": "markers",
         "name": "José Boiteux",
         "showlegend": true,
         "subplot": "mapbox",
         "type": "scattermapbox"
        },
        {
         "hovertemplate": "Cidade=Jupiá<br>Total Equipamentos=%{marker.size}<br>Latitude=%{lat}<br>Longitude=%{lon}<extra></extra>",
         "lat": [
          -26.395
         ],
         "legendgroup": "Jupiá",
         "lon": [
          -52.7298
         ],
         "marker": {
          "color": "#FECB52",
          "size": [
           1
          ],
          "sizemode": "area",
          "sizeref": 2.1525
         },
         "mode": "markers",
         "name": "Jupiá",
         "showlegend": true,
         "subplot": "mapbox",
         "type": "scattermapbox"
        },
        {
         "hovertemplate": "Cidade=Lages<br>Total Equipamentos=%{marker.size}<br>Latitude=%{lat}<br>Longitude=%{lon}<extra></extra>",
         "lat": [
          -27.815
         ],
         "legendgroup": "Lages",
         "lon": [
          -50.3259
         ],
         "marker": {
          "color": "#636efa",
          "size": [
           277
          ],
          "sizemode": "area",
          "sizeref": 2.1525
         },
         "mode": "markers",
         "name": "Lages",
         "showlegend": true,
         "subplot": "mapbox",
         "type": "scattermapbox"
        },
        {
         "hovertemplate": "Cidade=Laguna<br>Total Equipamentos=%{marker.size}<br>Latitude=%{lat}<br>Longitude=%{lon}<extra></extra>",
         "lat": [
          -28.4843
         ],
         "legendgroup": "Laguna",
         "lon": [
          -48.7772
         ],
         "marker": {
          "color": "#EF553B",
          "size": [
           36
          ],
          "sizemode": "area",
          "sizeref": 2.1525
         },
         "mode": "markers",
         "name": "Laguna",
         "showlegend": true,
         "subplot": "mapbox",
         "type": "scattermapbox"
        },
        {
         "hovertemplate": "Cidade=Laurentino<br>Total Equipamentos=%{marker.size}<br>Latitude=%{lat}<br>Longitude=%{lon}<extra></extra>",
         "lat": [
          -27.2173
         ],
         "legendgroup": "Laurentino",
         "lon": [
          -49.7331
         ],
         "marker": {
          "color": "#00cc96",
          "size": [
           3
          ],
          "sizemode": "area",
          "sizeref": 2.1525
         },
         "mode": "markers",
         "name": "Laurentino",
         "showlegend": true,
         "subplot": "mapbox",
         "type": "scattermapbox"
        },
        {
         "hovertemplate": "Cidade=Lauro Muller<br>Total Equipamentos=%{marker.size}<br>Latitude=%{lat}<br>Longitude=%{lon}<extra></extra>",
         "lat": [
          -28.3859
         ],
         "legendgroup": "Lauro Muller",
         "lon": [
          -49.4035
         ],
         "marker": {
          "color": "#ab63fa",
          "size": [
           10
          ],
          "sizemode": "area",
          "sizeref": 2.1525
         },
         "mode": "markers",
         "name": "Lauro Muller",
         "showlegend": true,
         "subplot": "mapbox",
         "type": "scattermapbox"
        },
        {
         "hovertemplate": "Cidade=Lebon Régis<br>Total Equipamentos=%{marker.size}<br>Latitude=%{lat}<br>Longitude=%{lon}<extra></extra>",
         "lat": [
          -26.928
         ],
         "legendgroup": "Lebon Régis",
         "lon": [
          -50.6921
         ],
         "marker": {
          "color": "#FFA15A",
          "size": [
           2
          ],
          "sizemode": "area",
          "sizeref": 2.1525
         },
         "mode": "markers",
         "name": "Lebon Régis",
         "showlegend": true,
         "subplot": "mapbox",
         "type": "scattermapbox"
        },
        {
         "hovertemplate": "Cidade=Leoberto Leal<br>Total Equipamentos=%{marker.size}<br>Latitude=%{lat}<br>Longitude=%{lon}<extra></extra>",
         "lat": [
          -27.5081
         ],
         "legendgroup": "Leoberto Leal",
         "lon": [
          -49.2789
         ],
         "marker": {
          "color": "#19d3f3",
          "size": [
           2
          ],
          "sizemode": "area",
          "sizeref": 2.1525
         },
         "mode": "markers",
         "name": "Leoberto Leal",
         "showlegend": true,
         "subplot": "mapbox",
         "type": "scattermapbox"
        },
        {
         "hovertemplate": "Cidade=Lindóia do Sul<br>Total Equipamentos=%{marker.size}<br>Latitude=%{lat}<br>Longitude=%{lon}<extra></extra>",
         "lat": [
          -27.0545
         ],
         "legendgroup": "Lindóia do Sul",
         "lon": [
          -52.068999999999996
         ],
         "marker": {
          "color": "#FF6692",
          "size": [
           4
          ],
          "sizemode": "area",
          "sizeref": 2.1525
         },
         "mode": "markers",
         "name": "Lindóia do Sul",
         "showlegend": true,
         "subplot": "mapbox",
         "type": "scattermapbox"
        },
        {
         "hovertemplate": "Cidade=Lontras<br>Total Equipamentos=%{marker.size}<br>Latitude=%{lat}<br>Longitude=%{lon}<extra></extra>",
         "lat": [
          -27.1684
         ],
         "legendgroup": "Lontras",
         "lon": [
          -49.535
         ],
         "marker": {
          "color": "#B6E880",
          "size": [
           5
          ],
          "sizemode": "area",
          "sizeref": 2.1525
         },
         "mode": "markers",
         "name": "Lontras",
         "showlegend": true,
         "subplot": "mapbox",
         "type": "scattermapbox"
        },
        {
         "hovertemplate": "Cidade=Luiz Alves<br>Total Equipamentos=%{marker.size}<br>Latitude=%{lat}<br>Longitude=%{lon}<extra></extra>",
         "lat": [
          -26.7151
         ],
         "legendgroup": "Luiz Alves",
         "lon": [
          -48.9322
         ],
         "marker": {
          "color": "#FF97FF",
          "size": [
           9
          ],
          "sizemode": "area",
          "sizeref": 2.1525
         },
         "mode": "markers",
         "name": "Luiz Alves",
         "showlegend": true,
         "subplot": "mapbox",
         "type": "scattermapbox"
        },
        {
         "hovertemplate": "Cidade=Luzerna<br>Total Equipamentos=%{marker.size}<br>Latitude=%{lat}<br>Longitude=%{lon}<extra></extra>",
         "lat": [
          -27.1304
         ],
         "legendgroup": "Luzerna",
         "lon": [
          -51.4682
         ],
         "marker": {
          "color": "#FECB52",
          "size": [
           2
          ],
          "sizemode": "area",
          "sizeref": 2.1525
         },
         "mode": "markers",
         "name": "Luzerna",
         "showlegend": true,
         "subplot": "mapbox",
         "type": "scattermapbox"
        },
        {
         "hovertemplate": "Cidade=Mafra<br>Total Equipamentos=%{marker.size}<br>Latitude=%{lat}<br>Longitude=%{lon}<extra></extra>",
         "lat": [
          -26.1159
         ],
         "legendgroup": "Mafra",
         "lon": [
          -49.8086
         ],
         "marker": {
          "color": "#636efa",
          "size": [
           33
          ],
          "sizemode": "area",
          "sizeref": 2.1525
         },
         "mode": "markers",
         "name": "Mafra",
         "showlegend": true,
         "subplot": "mapbox",
         "type": "scattermapbox"
        },
        {
         "hovertemplate": "Cidade=Major Gercino<br>Total Equipamentos=%{marker.size}<br>Latitude=%{lat}<br>Longitude=%{lon}<extra></extra>",
         "lat": [
          -27.4192
         ],
         "legendgroup": "Major Gercino",
         "lon": [
          -48.9488
         ],
         "marker": {
          "color": "#EF553B",
          "size": [
           1
          ],
          "sizemode": "area",
          "sizeref": 2.1525
         },
         "mode": "markers",
         "name": "Major Gercino",
         "showlegend": true,
         "subplot": "mapbox",
         "type": "scattermapbox"
        },
        {
         "hovertemplate": "Cidade=Major Vieira<br>Total Equipamentos=%{marker.size}<br>Latitude=%{lat}<br>Longitude=%{lon}<extra></extra>",
         "lat": [
          -26.3709
         ],
         "legendgroup": "Major Vieira",
         "lon": [
          -50.3266
         ],
         "marker": {
          "color": "#00cc96",
          "size": [
           5
          ],
          "sizemode": "area",
          "sizeref": 2.1525
         },
         "mode": "markers",
         "name": "Major Vieira",
         "showlegend": true,
         "subplot": "mapbox",
         "type": "scattermapbox"
        },
        {
         "hovertemplate": "Cidade=Maracajá<br>Total Equipamentos=%{marker.size}<br>Latitude=%{lat}<br>Longitude=%{lon}<extra></extra>",
         "lat": [
          -28.8463
         ],
         "legendgroup": "Maracajá",
         "lon": [
          -49.4605
         ],
         "marker": {
          "color": "#ab63fa",
          "size": [
           2
          ],
          "sizemode": "area",
          "sizeref": 2.1525
         },
         "mode": "markers",
         "name": "Maracajá",
         "showlegend": true,
         "subplot": "mapbox",
         "type": "scattermapbox"
        },
        {
         "hovertemplate": "Cidade=Maravilha<br>Total Equipamentos=%{marker.size}<br>Latitude=%{lat}<br>Longitude=%{lon}<extra></extra>",
         "lat": [
          -26.7665
         ],
         "legendgroup": "Maravilha",
         "lon": [
          -53.1737
         ],
         "marker": {
          "color": "#FFA15A",
          "size": [
           33
          ],
          "sizemode": "area",
          "sizeref": 2.1525
         },
         "mode": "markers",
         "name": "Maravilha",
         "showlegend": true,
         "subplot": "mapbox",
         "type": "scattermapbox"
        },
        {
         "hovertemplate": "Cidade=Marema<br>Total Equipamentos=%{marker.size}<br>Latitude=%{lat}<br>Longitude=%{lon}<extra></extra>",
         "lat": [
          -26.8024
         ],
         "legendgroup": "Marema",
         "lon": [
          -52.6264
         ],
         "marker": {
          "color": "#19d3f3",
          "size": [
           1
          ],
          "sizemode": "area",
          "sizeref": 2.1525
         },
         "mode": "markers",
         "name": "Marema",
         "showlegend": true,
         "subplot": "mapbox",
         "type": "scattermapbox"
        },
        {
         "hovertemplate": "Cidade=Massaranduba<br>Total Equipamentos=%{marker.size}<br>Latitude=%{lat}<br>Longitude=%{lon}<extra></extra>",
         "lat": [
          -26.6109
         ],
         "legendgroup": "Massaranduba",
         "lon": [
          -49.0054
         ],
         "marker": {
          "color": "#FF6692",
          "size": [
           6
          ],
          "sizemode": "area",
          "sizeref": 2.1525
         },
         "mode": "markers",
         "name": "Massaranduba",
         "showlegend": true,
         "subplot": "mapbox",
         "type": "scattermapbox"
        },
        {
         "hovertemplate": "Cidade=Meleiro<br>Total Equipamentos=%{marker.size}<br>Latitude=%{lat}<br>Longitude=%{lon}<extra></extra>",
         "lat": [
          -28.8244
         ],
         "legendgroup": "Meleiro",
         "lon": [
          -49.6378
         ],
         "marker": {
          "color": "#B6E880",
          "size": [
           7
          ],
          "sizemode": "area",
          "sizeref": 2.1525
         },
         "mode": "markers",
         "name": "Meleiro",
         "showlegend": true,
         "subplot": "mapbox",
         "type": "scattermapbox"
        },
        {
         "hovertemplate": "Cidade=Modelo<br>Total Equipamentos=%{marker.size}<br>Latitude=%{lat}<br>Longitude=%{lon}<extra></extra>",
         "lat": [
          -26.7729
         ],
         "legendgroup": "Modelo",
         "lon": [
          -53.04
         ],
         "marker": {
          "color": "#FF97FF",
          "size": [
           2
          ],
          "sizemode": "area",
          "sizeref": 2.1525
         },
         "mode": "markers",
         "name": "Modelo",
         "showlegend": true,
         "subplot": "mapbox",
         "type": "scattermapbox"
        },
        {
         "hovertemplate": "Cidade=Mondaí<br>Total Equipamentos=%{marker.size}<br>Latitude=%{lat}<br>Longitude=%{lon}<extra></extra>",
         "lat": [
          -27.1008
         ],
         "legendgroup": "Mondaí",
         "lon": [
          -53.4032
         ],
         "marker": {
          "color": "#FECB52",
          "size": [
           7
          ],
          "sizemode": "area",
          "sizeref": 2.1525
         },
         "mode": "markers",
         "name": "Mondaí",
         "showlegend": true,
         "subplot": "mapbox",
         "type": "scattermapbox"
        },
        {
         "hovertemplate": "Cidade=Monte Carlo<br>Total Equipamentos=%{marker.size}<br>Latitude=%{lat}<br>Longitude=%{lon}<extra></extra>",
         "lat": [
          -27.2239
         ],
         "legendgroup": "Monte Carlo",
         "lon": [
          -50.9808
         ],
         "marker": {
          "color": "#636efa",
          "size": [
           1
          ],
          "sizemode": "area",
          "sizeref": 2.1525
         },
         "mode": "markers",
         "name": "Monte Carlo",
         "showlegend": true,
         "subplot": "mapbox",
         "type": "scattermapbox"
        },
        {
         "hovertemplate": "Cidade=Monte Castelo<br>Total Equipamentos=%{marker.size}<br>Latitude=%{lat}<br>Longitude=%{lon}<extra></extra>",
         "lat": [
          -26.461
         ],
         "legendgroup": "Monte Castelo",
         "lon": [
          -50.2327
         ],
         "marker": {
          "color": "#EF553B",
          "size": [
           4
          ],
          "sizemode": "area",
          "sizeref": 2.1525
         },
         "mode": "markers",
         "name": "Monte Castelo",
         "showlegend": true,
         "subplot": "mapbox",
         "type": "scattermapbox"
        },
        {
         "hovertemplate": "Cidade=Morro da Fumaça<br>Total Equipamentos=%{marker.size}<br>Latitude=%{lat}<br>Longitude=%{lon}<extra></extra>",
         "lat": [
          -28.6511
         ],
         "legendgroup": "Morro da Fumaça",
         "lon": [
          -49.2169
         ],
         "marker": {
          "color": "#00cc96",
          "size": [
           6
          ],
          "sizemode": "area",
          "sizeref": 2.1525
         },
         "mode": "markers",
         "name": "Morro da Fumaça",
         "showlegend": true,
         "subplot": "mapbox",
         "type": "scattermapbox"
        },
        {
         "hovertemplate": "Cidade=Morro Grande<br>Total Equipamentos=%{marker.size}<br>Latitude=%{lat}<br>Longitude=%{lon}<extra></extra>",
         "lat": [
          -28.8006
         ],
         "legendgroup": "Morro Grande",
         "lon": [
          -49.7214
         ],
         "marker": {
          "color": "#ab63fa",
          "size": [
           2
          ],
          "sizemode": "area",
          "sizeref": 2.1525
         },
         "mode": "markers",
         "name": "Morro Grande",
         "showlegend": true,
         "subplot": "mapbox",
         "type": "scattermapbox"
        },
        {
         "hovertemplate": "Cidade=Navegantes<br>Total Equipamentos=%{marker.size}<br>Latitude=%{lat}<br>Longitude=%{lon}<extra></extra>",
         "lat": [
          -26.8943
         ],
         "legendgroup": "Navegantes",
         "lon": [
          -48.6546
         ],
         "marker": {
          "color": "#FFA15A",
          "size": [
           44
          ],
          "sizemode": "area",
          "sizeref": 2.1525
         },
         "mode": "markers",
         "name": "Navegantes",
         "showlegend": true,
         "subplot": "mapbox",
         "type": "scattermapbox"
        },
        {
         "hovertemplate": "Cidade=Nova Erechim<br>Total Equipamentos=%{marker.size}<br>Latitude=%{lat}<br>Longitude=%{lon}<extra></extra>",
         "lat": [
          -26.8982
         ],
         "legendgroup": "Nova Erechim",
         "lon": [
          -52.9066
         ],
         "marker": {
          "color": "#19d3f3",
          "size": [
           10
          ],
          "sizemode": "area",
          "sizeref": 2.1525
         },
         "mode": "markers",
         "name": "Nova Erechim",
         "showlegend": true,
         "subplot": "mapbox",
         "type": "scattermapbox"
        },
        {
         "hovertemplate": "Cidade=Nova Trento<br>Total Equipamentos=%{marker.size}<br>Latitude=%{lat}<br>Longitude=%{lon}<extra></extra>",
         "lat": [
          -27.278000000000002
         ],
         "legendgroup": "Nova Trento",
         "lon": [
          -48.9298
         ],
         "marker": {
          "color": "#FF6692",
          "size": [
           12
          ],
          "sizemode": "area",
          "sizeref": 2.1525
         },
         "mode": "markers",
         "name": "Nova Trento",
         "showlegend": true,
         "subplot": "mapbox",
         "type": "scattermapbox"
        },
        {
         "hovertemplate": "Cidade=Nova Veneza<br>Total Equipamentos=%{marker.size}<br>Latitude=%{lat}<br>Longitude=%{lon}<extra></extra>",
         "lat": [
          -28.6338
         ],
         "legendgroup": "Nova Veneza",
         "lon": [
          -49.5055
         ],
         "marker": {
          "color": "#B6E880",
          "size": [
           12
          ],
          "sizemode": "area",
          "sizeref": 2.1525
         },
         "mode": "markers",
         "name": "Nova Veneza",
         "showlegend": true,
         "subplot": "mapbox",
         "type": "scattermapbox"
        },
        {
         "hovertemplate": "Cidade=Orleans<br>Total Equipamentos=%{marker.size}<br>Latitude=%{lat}<br>Longitude=%{lon}<extra></extra>",
         "lat": [
          -28.3487
         ],
         "legendgroup": "Orleans",
         "lon": [
          -49.2986
         ],
         "marker": {
          "color": "#FF97FF",
          "size": [
           27
          ],
          "sizemode": "area",
          "sizeref": 2.1525
         },
         "mode": "markers",
         "name": "Orleans",
         "showlegend": true,
         "subplot": "mapbox",
         "type": "scattermapbox"
        },
        {
         "hovertemplate": "Cidade=Otacílio Costa<br>Total Equipamentos=%{marker.size}<br>Latitude=%{lat}<br>Longitude=%{lon}<extra></extra>",
         "lat": [
          -27.4789
         ],
         "legendgroup": "Otacílio Costa",
         "lon": [
          -50.1231
         ],
         "marker": {
          "color": "#FECB52",
          "size": [
           6
          ],
          "sizemode": "area",
          "sizeref": 2.1525
         },
         "mode": "markers",
         "name": "Otacílio Costa",
         "showlegend": true,
         "subplot": "mapbox",
         "type": "scattermapbox"
        },
        {
         "hovertemplate": "Cidade=Ouro<br>Total Equipamentos=%{marker.size}<br>Latitude=%{lat}<br>Longitude=%{lon}<extra></extra>",
         "lat": [
          -27.3379
         ],
         "legendgroup": "Ouro",
         "lon": [
          -51.6194
         ],
         "marker": {
          "color": "#636efa",
          "size": [
           2
          ],
          "sizemode": "area",
          "sizeref": 2.1525
         },
         "mode": "markers",
         "name": "Ouro",
         "showlegend": true,
         "subplot": "mapbox",
         "type": "scattermapbox"
        },
        {
         "hovertemplate": "Cidade=Paial<br>Total Equipamentos=%{marker.size}<br>Latitude=%{lat}<br>Longitude=%{lon}<extra></extra>",
         "lat": [
          -27.2541
         ],
         "legendgroup": "Paial",
         "lon": [
          -52.4975
         ],
         "marker": {
          "color": "#EF553B",
          "size": [
           2
          ],
          "sizemode": "area",
          "sizeref": 2.1525
         },
         "mode": "markers",
         "name": "Paial",
         "showlegend": true,
         "subplot": "mapbox",
         "type": "scattermapbox"
        },
        {
         "hovertemplate": "Cidade=Palhoça<br>Total Equipamentos=%{marker.size}<br>Latitude=%{lat}<br>Longitude=%{lon}<extra></extra>",
         "lat": [
          -27.6455
         ],
         "legendgroup": "Palhoça",
         "lon": [
          -48.6697
         ],
         "marker": {
          "color": "#00cc96",
          "size": [
           90
          ],
          "sizemode": "area",
          "sizeref": 2.1525
         },
         "mode": "markers",
         "name": "Palhoça",
         "showlegend": true,
         "subplot": "mapbox",
         "type": "scattermapbox"
        },
        {
         "hovertemplate": "Cidade=Palma Sola<br>Total Equipamentos=%{marker.size}<br>Latitude=%{lat}<br>Longitude=%{lon}<extra></extra>",
         "lat": [
          -26.3471
         ],
         "legendgroup": "Palma Sola",
         "lon": [
          -53.2771
         ],
         "marker": {
          "color": "#ab63fa",
          "size": [
           5
          ],
          "sizemode": "area",
          "sizeref": 2.1525
         },
         "mode": "markers",
         "name": "Palma Sola",
         "showlegend": true,
         "subplot": "mapbox",
         "type": "scattermapbox"
        },
        {
         "hovertemplate": "Cidade=Palmitos<br>Total Equipamentos=%{marker.size}<br>Latitude=%{lat}<br>Longitude=%{lon}<extra></extra>",
         "lat": [
          -27.0702
         ],
         "legendgroup": "Palmitos",
         "lon": [
          -53.1586
         ],
         "marker": {
          "color": "#FFA15A",
          "size": [
           15
          ],
          "sizemode": "area",
          "sizeref": 2.1525
         },
         "mode": "markers",
         "name": "Palmitos",
         "showlegend": true,
         "subplot": "mapbox",
         "type": "scattermapbox"
        },
        {
         "hovertemplate": "Cidade=Papanduva<br>Total Equipamentos=%{marker.size}<br>Latitude=%{lat}<br>Longitude=%{lon}<extra></extra>",
         "lat": [
          -26.3777
         ],
         "legendgroup": "Papanduva",
         "lon": [
          -50.1419
         ],
         "marker": {
          "color": "#19d3f3",
          "size": [
           8
          ],
          "sizemode": "area",
          "sizeref": 2.1525
         },
         "mode": "markers",
         "name": "Papanduva",
         "showlegend": true,
         "subplot": "mapbox",
         "type": "scattermapbox"
        },
        {
         "hovertemplate": "Cidade=Paraíso<br>Total Equipamentos=%{marker.size}<br>Latitude=%{lat}<br>Longitude=%{lon}<extra></extra>",
         "lat": [
          -26.62
         ],
         "legendgroup": "Paraíso",
         "lon": [
          -53.6716
         ],
         "marker": {
          "color": "#FF6692",
          "size": [
           2
          ],
          "sizemode": "area",
          "sizeref": 2.1525
         },
         "mode": "markers",
         "name": "Paraíso",
         "showlegend": true,
         "subplot": "mapbox",
         "type": "scattermapbox"
        },
        {
         "hovertemplate": "Cidade=Passo de Torres<br>Total Equipamentos=%{marker.size}<br>Latitude=%{lat}<br>Longitude=%{lon}<extra></extra>",
         "lat": [
          -29.3099
         ],
         "legendgroup": "Passo de Torres",
         "lon": [
          -49.722
         ],
         "marker": {
          "color": "#B6E880",
          "size": [
           1
          ],
          "sizemode": "area",
          "sizeref": 2.1525
         },
         "mode": "markers",
         "name": "Passo de Torres",
         "showlegend": true,
         "subplot": "mapbox",
         "type": "scattermapbox"
        },
        {
         "hovertemplate": "Cidade=Passos Maia<br>Total Equipamentos=%{marker.size}<br>Latitude=%{lat}<br>Longitude=%{lon}<extra></extra>",
         "lat": [
          -26.7829
         ],
         "legendgroup": "Passos Maia",
         "lon": [
          -52.0568
         ],
         "marker": {
          "color": "#FF97FF",
          "size": [
           1
          ],
          "sizemode": "area",
          "sizeref": 2.1525
         },
         "mode": "markers",
         "name": "Passos Maia",
         "showlegend": true,
         "subplot": "mapbox",
         "type": "scattermapbox"
        },
        {
         "hovertemplate": "Cidade=Paulo Lopes<br>Total Equipamentos=%{marker.size}<br>Latitude=%{lat}<br>Longitude=%{lon}<extra></extra>",
         "lat": [
          -27.9607
         ],
         "legendgroup": "Paulo Lopes",
         "lon": [
          -48.6864
         ],
         "marker": {
          "color": "#FECB52",
          "size": [
           2
          ],
          "sizemode": "area",
          "sizeref": 2.1525
         },
         "mode": "markers",
         "name": "Paulo Lopes",
         "showlegend": true,
         "subplot": "mapbox",
         "type": "scattermapbox"
        },
        {
         "hovertemplate": "Cidade=Pedras Grandes<br>Total Equipamentos=%{marker.size}<br>Latitude=%{lat}<br>Longitude=%{lon}<extra></extra>",
         "lat": [
          -28.4339
         ],
         "legendgroup": "Pedras Grandes",
         "lon": [
          -49.1949
         ],
         "marker": {
          "color": "#636efa",
          "size": [
           1
          ],
          "sizemode": "area",
          "sizeref": 2.1525
         },
         "mode": "markers",
         "name": "Pedras Grandes",
         "showlegend": true,
         "subplot": "mapbox",
         "type": "scattermapbox"
        },
        {
         "hovertemplate": "Cidade=Penha<br>Total Equipamentos=%{marker.size}<br>Latitude=%{lat}<br>Longitude=%{lon}<extra></extra>",
         "lat": [
          -26.7754
         ],
         "legendgroup": "Penha",
         "lon": [
          -48.6465
         ],
         "marker": {
          "color": "#EF553B",
          "size": [
           7
          ],
          "sizemode": "area",
          "sizeref": 2.1525
         },
         "mode": "markers",
         "name": "Penha",
         "showlegend": true,
         "subplot": "mapbox",
         "type": "scattermapbox"
        },
        {
         "hovertemplate": "Cidade=Peritiba<br>Total Equipamentos=%{marker.size}<br>Latitude=%{lat}<br>Longitude=%{lon}<extra></extra>",
         "lat": [
          -27.3754
         ],
         "legendgroup": "Peritiba",
         "lon": [
          -51.9018
         ],
         "marker": {
          "color": "#00cc96",
          "size": [
           1
          ],
          "sizemode": "area",
          "sizeref": 2.1525
         },
         "mode": "markers",
         "name": "Peritiba",
         "showlegend": true,
         "subplot": "mapbox",
         "type": "scattermapbox"
        },
        {
         "hovertemplate": "Cidade=Petrolândia<br>Total Equipamentos=%{marker.size}<br>Latitude=%{lat}<br>Longitude=%{lon}<extra></extra>",
         "lat": [
          -27.5346
         ],
         "legendgroup": "Petrolândia",
         "lon": [
          -49.6937
         ],
         "marker": {
          "color": "#ab63fa",
          "size": [
           3
          ],
          "sizemode": "area",
          "sizeref": 2.1525
         },
         "mode": "markers",
         "name": "Petrolândia",
         "showlegend": true,
         "subplot": "mapbox",
         "type": "scattermapbox"
        },
        {
         "hovertemplate": "Cidade=Pinhalzinho<br>Total Equipamentos=%{marker.size}<br>Latitude=%{lat}<br>Longitude=%{lon}<extra></extra>",
         "lat": [
          -26.8495
         ],
         "legendgroup": "Pinhalzinho",
         "lon": [
          -52.9913
         ],
         "marker": {
          "color": "#FFA15A",
          "size": [
           40
          ],
          "sizemode": "area",
          "sizeref": 2.1525
         },
         "mode": "markers",
         "name": "Pinhalzinho",
         "showlegend": true,
         "subplot": "mapbox",
         "type": "scattermapbox"
        },
        {
         "hovertemplate": "Cidade=Piratuba<br>Total Equipamentos=%{marker.size}<br>Latitude=%{lat}<br>Longitude=%{lon}<extra></extra>",
         "lat": [
          -27.4242
         ],
         "legendgroup": "Piratuba",
         "lon": [
          -51.7668
         ],
         "marker": {
          "color": "#19d3f3",
          "size": [
           1
          ],
          "sizemode": "area",
          "sizeref": 2.1525
         },
         "mode": "markers",
         "name": "Piratuba",
         "showlegend": true,
         "subplot": "mapbox",
         "type": "scattermapbox"
        },
        {
         "hovertemplate": "Cidade=Planalto Alegre<br>Total Equipamentos=%{marker.size}<br>Latitude=%{lat}<br>Longitude=%{lon}<extra></extra>",
         "lat": [
          -27.0704
         ],
         "legendgroup": "Planalto Alegre",
         "lon": [
          -52.867
         ],
         "marker": {
          "color": "#FF6692",
          "size": [
           1
          ],
          "sizemode": "area",
          "sizeref": 2.1525
         },
         "mode": "markers",
         "name": "Planalto Alegre",
         "showlegend": true,
         "subplot": "mapbox",
         "type": "scattermapbox"
        },
        {
         "hovertemplate": "Cidade=Pomerode<br>Total Equipamentos=%{marker.size}<br>Latitude=%{lat}<br>Longitude=%{lon}<extra></extra>",
         "lat": [
          -26.7384
         ],
         "legendgroup": "Pomerode",
         "lon": [
          -49.1785
         ],
         "marker": {
          "color": "#B6E880",
          "size": [
           13
          ],
          "sizemode": "area",
          "sizeref": 2.1525
         },
         "mode": "markers",
         "name": "Pomerode",
         "showlegend": true,
         "subplot": "mapbox",
         "type": "scattermapbox"
        },
        {
         "hovertemplate": "Cidade=Ponte Alta do Norte<br>Total Equipamentos=%{marker.size}<br>Latitude=%{lat}<br>Longitude=%{lon}<extra></extra>",
         "lat": [
          -27.1591
         ],
         "legendgroup": "Ponte Alta do Norte",
         "lon": [
          -50.4659
         ],
         "marker": {
          "color": "#FF97FF",
          "size": [
           4
          ],
          "sizemode": "area",
          "sizeref": 2.1525
         },
         "mode": "markers",
         "name": "Ponte Alta do Norte",
         "showlegend": true,
         "subplot": "mapbox",
         "type": "scattermapbox"
        },
        {
         "hovertemplate": "Cidade=Ponte Serrada<br>Total Equipamentos=%{marker.size}<br>Latitude=%{lat}<br>Longitude=%{lon}<extra></extra>",
         "lat": [
          -26.8733
         ],
         "legendgroup": "Ponte Serrada",
         "lon": [
          -52.0112
         ],
         "marker": {
          "color": "#FECB52",
          "size": [
           17
          ],
          "sizemode": "area",
          "sizeref": 2.1525
         },
         "mode": "markers",
         "name": "Ponte Serrada",
         "showlegend": true,
         "subplot": "mapbox",
         "type": "scattermapbox"
        },
        {
         "hovertemplate": "Cidade=Porto Belo<br>Total Equipamentos=%{marker.size}<br>Latitude=%{lat}<br>Longitude=%{lon}<extra></extra>",
         "lat": [
          -27.1586
         ],
         "legendgroup": "Porto Belo",
         "lon": [
          -48.5469
         ],
         "marker": {
          "color": "#636efa",
          "size": [
           22
          ],
          "sizemode": "area",
          "sizeref": 2.1525
         },
         "mode": "markers",
         "name": "Porto Belo",
         "showlegend": true,
         "subplot": "mapbox",
         "type": "scattermapbox"
        },
        {
         "hovertemplate": "Cidade=Porto União<br>Total Equipamentos=%{marker.size}<br>Latitude=%{lat}<br>Longitude=%{lon}<extra></extra>",
         "lat": [
          -26.2451
         ],
         "legendgroup": "Porto União",
         "lon": [
          -51.0759
         ],
         "marker": {
          "color": "#EF553B",
          "size": [
           38
          ],
          "sizemode": "area",
          "sizeref": 2.1525
         },
         "mode": "markers",
         "name": "Porto União",
         "showlegend": true,
         "subplot": "mapbox",
         "type": "scattermapbox"
        },
        {
         "hovertemplate": "Cidade=Pouso Redondo<br>Total Equipamentos=%{marker.size}<br>Latitude=%{lat}<br>Longitude=%{lon}<extra></extra>",
         "lat": [
          -27.2567
         ],
         "legendgroup": "Pouso Redondo",
         "lon": [
          -49.9301
         ],
         "marker": {
          "color": "#00cc96",
          "size": [
           8
          ],
          "sizemode": "area",
          "sizeref": 2.1525
         },
         "mode": "markers",
         "name": "Pouso Redondo",
         "showlegend": true,
         "subplot": "mapbox",
         "type": "scattermapbox"
        },
        {
         "hovertemplate": "Cidade=Praia Grande<br>Total Equipamentos=%{marker.size}<br>Latitude=%{lat}<br>Longitude=%{lon}<extra></extra>",
         "lat": [
          -29.1918
         ],
         "legendgroup": "Praia Grande",
         "lon": [
          -49.9525
         ],
         "marker": {
          "color": "#ab63fa",
          "size": [
           9
          ],
          "sizemode": "area",
          "sizeref": 2.1525
         },
         "mode": "markers",
         "name": "Praia Grande",
         "showlegend": true,
         "subplot": "mapbox",
         "type": "scattermapbox"
        },
        {
         "hovertemplate": "Cidade=Presidente Castello Branco<br>Total Equipamentos=%{marker.size}<br>Latitude=%{lat}<br>Longitude=%{lon}<extra></extra>",
         "lat": [
          -27.2218
         ],
         "legendgroup": "Presidente Castello Branco",
         "lon": [
          -51.8089
         ],
         "marker": {
          "color": "#FFA15A",
          "size": [
           1
          ],
          "sizemode": "area",
          "sizeref": 2.1525
         },
         "mode": "markers",
         "name": "Presidente Castello Branco",
         "showlegend": true,
         "subplot": "mapbox",
         "type": "scattermapbox"
        },
        {
         "hovertemplate": "Cidade=Presidente Getúlio<br>Total Equipamentos=%{marker.size}<br>Latitude=%{lat}<br>Longitude=%{lon}<extra></extra>",
         "lat": [
          -27.0474
         ],
         "legendgroup": "Presidente Getúlio",
         "lon": [
          -49.6246
         ],
         "marker": {
          "color": "#19d3f3",
          "size": [
           11
          ],
          "sizemode": "area",
          "sizeref": 2.1525
         },
         "mode": "markers",
         "name": "Presidente Getúlio",
         "showlegend": true,
         "subplot": "mapbox",
         "type": "scattermapbox"
        },
        {
         "hovertemplate": "Cidade=Princesa<br>Total Equipamentos=%{marker.size}<br>Latitude=%{lat}<br>Longitude=%{lon}<extra></extra>",
         "lat": [
          -26.4441
         ],
         "legendgroup": "Princesa",
         "lon": [
          -53.5994
         ],
         "marker": {
          "color": "#FF6692",
          "size": [
           1
          ],
          "sizemode": "area",
          "sizeref": 2.1525
         },
         "mode": "markers",
         "name": "Princesa",
         "showlegend": true,
         "subplot": "mapbox",
         "type": "scattermapbox"
        },
        {
         "hovertemplate": "Cidade=Quilombo<br>Total Equipamentos=%{marker.size}<br>Latitude=%{lat}<br>Longitude=%{lon}<extra></extra>",
         "lat": [
          -26.7264
         ],
         "legendgroup": "Quilombo",
         "lon": [
          -52.724
         ],
         "marker": {
          "color": "#B6E880",
          "size": [
           7
          ],
          "sizemode": "area",
          "sizeref": 2.1525
         },
         "mode": "markers",
         "name": "Quilombo",
         "showlegend": true,
         "subplot": "mapbox",
         "type": "scattermapbox"
        },
        {
         "hovertemplate": "Cidade=Rancho Queimado<br>Total Equipamentos=%{marker.size}<br>Latitude=%{lat}<br>Longitude=%{lon}<extra></extra>",
         "lat": [
          -27.6727
         ],
         "legendgroup": "Rancho Queimado",
         "lon": [
          -49.0191
         ],
         "marker": {
          "color": "#FF97FF",
          "size": [
           3
          ],
          "sizemode": "area",
          "sizeref": 2.1525
         },
         "mode": "markers",
         "name": "Rancho Queimado",
         "showlegend": true,
         "subplot": "mapbox",
         "type": "scattermapbox"
        },
        {
         "hovertemplate": "Cidade=Rio do Campo<br>Total Equipamentos=%{marker.size}<br>Latitude=%{lat}<br>Longitude=%{lon}<extra></extra>",
         "lat": [
          -26.9452
         ],
         "legendgroup": "Rio do Campo",
         "lon": [
          -50.136
         ],
         "marker": {
          "color": "#FECB52",
          "size": [
           3
          ],
          "sizemode": "area",
          "sizeref": 2.1525
         },
         "mode": "markers",
         "name": "Rio do Campo",
         "showlegend": true,
         "subplot": "mapbox",
         "type": "scattermapbox"
        },
        {
         "hovertemplate": "Cidade=Rio do Oeste<br>Total Equipamentos=%{marker.size}<br>Latitude=%{lat}<br>Longitude=%{lon}<extra></extra>",
         "lat": [
          -27.1952
         ],
         "legendgroup": "Rio do Oeste",
         "lon": [
          -49.7989
         ],
         "marker": {
          "color": "#636efa",
          "size": [
           2
          ],
          "sizemode": "area",
          "sizeref": 2.1525
         },
         "mode": "markers",
         "name": "Rio do Oeste",
         "showlegend": true,
         "subplot": "mapbox",
         "type": "scattermapbox"
        },
        {
         "hovertemplate": "Cidade=Rio do Sul<br>Total Equipamentos=%{marker.size}<br>Latitude=%{lat}<br>Longitude=%{lon}<extra></extra>",
         "lat": [
          -27.2156
         ],
         "legendgroup": "Rio do Sul",
         "lon": [
          -49.643
         ],
         "marker": {
          "color": "#EF553B",
          "size": [
           69
          ],
          "sizemode": "area",
          "sizeref": 2.1525
         },
         "mode": "markers",
         "name": "Rio do Sul",
         "showlegend": true,
         "subplot": "mapbox",
         "type": "scattermapbox"
        },
        {
         "hovertemplate": "Cidade=Rio dos Cedros<br>Total Equipamentos=%{marker.size}<br>Latitude=%{lat}<br>Longitude=%{lon}<extra></extra>",
         "lat": [
          -26.7398
         ],
         "legendgroup": "Rio dos Cedros",
         "lon": [
          -49.2718
         ],
         "marker": {
          "color": "#00cc96",
          "size": [
           4
          ],
          "sizemode": "area",
          "sizeref": 2.1525
         },
         "mode": "markers",
         "name": "Rio dos Cedros",
         "showlegend": true,
         "subplot": "mapbox",
         "type": "scattermapbox"
        },
        {
         "hovertemplate": "Cidade=Rio Fortuna<br>Total Equipamentos=%{marker.size}<br>Latitude=%{lat}<br>Longitude=%{lon}<extra></extra>",
         "lat": [
          -28.1244
         ],
         "legendgroup": "Rio Fortuna",
         "lon": [
          -49.1068
         ],
         "marker": {
          "color": "#ab63fa",
          "size": [
           2
          ],
          "sizemode": "area",
          "sizeref": 2.1525
         },
         "mode": "markers",
         "name": "Rio Fortuna",
         "showlegend": true,
         "subplot": "mapbox",
         "type": "scattermapbox"
        },
        {
         "hovertemplate": "Cidade=Rio Negrinho<br>Total Equipamentos=%{marker.size}<br>Latitude=%{lat}<br>Longitude=%{lon}<extra></extra>",
         "lat": [
          -26.2591
         ],
         "legendgroup": "Rio Negrinho",
         "lon": [
          -49.5177
         ],
         "marker": {
          "color": "#FFA15A",
          "size": [
           25
          ],
          "sizemode": "area",
          "sizeref": 2.1525
         },
         "mode": "markers",
         "name": "Rio Negrinho",
         "showlegend": true,
         "subplot": "mapbox",
         "type": "scattermapbox"
        },
        {
         "hovertemplate": "Cidade=Riqueza<br>Total Equipamentos=%{marker.size}<br>Latitude=%{lat}<br>Longitude=%{lon}<extra></extra>",
         "lat": [
          -27.0653
         ],
         "legendgroup": "Riqueza",
         "lon": [
          -53.3265
         ],
         "marker": {
          "color": "#19d3f3",
          "size": [
           2
          ],
          "sizemode": "area",
          "sizeref": 2.1525
         },
         "mode": "markers",
         "name": "Riqueza",
         "showlegend": true,
         "subplot": "mapbox",
         "type": "scattermapbox"
        },
        {
         "hovertemplate": "Cidade=Rodeio<br>Total Equipamentos=%{marker.size}<br>Latitude=%{lat}<br>Longitude=%{lon}<extra></extra>",
         "lat": [
          -26.9243
         ],
         "legendgroup": "Rodeio",
         "lon": [
          -49.3649
         ],
         "marker": {
          "color": "#FF6692",
          "size": [
           5
          ],
          "sizemode": "area",
          "sizeref": 2.1525
         },
         "mode": "markers",
         "name": "Rodeio",
         "showlegend": true,
         "subplot": "mapbox",
         "type": "scattermapbox"
        },
        {
         "hovertemplate": "Cidade=Romelândia<br>Total Equipamentos=%{marker.size}<br>Latitude=%{lat}<br>Longitude=%{lon}<extra></extra>",
         "lat": [
          -26.6809
         ],
         "legendgroup": "Romelândia",
         "lon": [
          -53.3172
         ],
         "marker": {
          "color": "#B6E880",
          "size": [
           4
          ],
          "sizemode": "area",
          "sizeref": 2.1525
         },
         "mode": "markers",
         "name": "Romelândia",
         "showlegend": true,
         "subplot": "mapbox",
         "type": "scattermapbox"
        },
        {
         "hovertemplate": "Cidade=Salete<br>Total Equipamentos=%{marker.size}<br>Latitude=%{lat}<br>Longitude=%{lon}<extra></extra>",
         "lat": [
          -26.9798
         ],
         "legendgroup": "Salete",
         "lon": [
          -49.9988
         ],
         "marker": {
          "color": "#FF97FF",
          "size": [
           4
          ],
          "sizemode": "area",
          "sizeref": 2.1525
         },
         "mode": "markers",
         "name": "Salete",
         "showlegend": true,
         "subplot": "mapbox",
         "type": "scattermapbox"
        },
        {
         "hovertemplate": "Cidade=Salto Veloso<br>Total Equipamentos=%{marker.size}<br>Latitude=%{lat}<br>Longitude=%{lon}<extra></extra>",
         "lat": [
          -26.903000000000002
         ],
         "legendgroup": "Salto Veloso",
         "lon": [
          -51.4043
         ],
         "marker": {
          "color": "#FECB52",
          "size": [
           1
          ],
          "sizemode": "area",
          "sizeref": 2.1525
         },
         "mode": "markers",
         "name": "Salto Veloso",
         "showlegend": true,
         "subplot": "mapbox",
         "type": "scattermapbox"
        },
        {
         "hovertemplate": "Cidade=Sangão<br>Total Equipamentos=%{marker.size}<br>Latitude=%{lat}<br>Longitude=%{lon}<extra></extra>",
         "lat": [
          -28.6326
         ],
         "legendgroup": "Sangão",
         "lon": [
          -49.1322
         ],
         "marker": {
          "color": "#636efa",
          "size": [
           3
          ],
          "sizemode": "area",
          "sizeref": 2.1525
         },
         "mode": "markers",
         "name": "Sangão",
         "showlegend": true,
         "subplot": "mapbox",
         "type": "scattermapbox"
        },
        {
         "hovertemplate": "Cidade=Santa Cecília<br>Total Equipamentos=%{marker.size}<br>Latitude=%{lat}<br>Longitude=%{lon}<extra></extra>",
         "lat": [
          -26.9592
         ],
         "legendgroup": "Santa Cecília",
         "lon": [
          -50.4252
         ],
         "marker": {
          "color": "#EF553B",
          "size": [
           6
          ],
          "sizemode": "area",
          "sizeref": 2.1525
         },
         "mode": "markers",
         "name": "Santa Cecília",
         "showlegend": true,
         "subplot": "mapbox",
         "type": "scattermapbox"
        },
        {
         "hovertemplate": "Cidade=Santa Rosa do Sul<br>Total Equipamentos=%{marker.size}<br>Latitude=%{lat}<br>Longitude=%{lon}<extra></extra>",
         "lat": [
          -29.1313
         ],
         "legendgroup": "Santa Rosa do Sul",
         "lon": [
          -49.7109
         ],
         "marker": {
          "color": "#00cc96",
          "size": [
           2
          ],
          "sizemode": "area",
          "sizeref": 2.1525
         },
         "mode": "markers",
         "name": "Santa Rosa do Sul",
         "showlegend": true,
         "subplot": "mapbox",
         "type": "scattermapbox"
        },
        {
         "hovertemplate": "Cidade=Santa Terezinha do Progresso<br>Total Equipamentos=%{marker.size}<br>Latitude=%{lat}<br>Longitude=%{lon}<extra></extra>",
         "lat": [
          -26.624000000000002
         ],
         "legendgroup": "Santa Terezinha do Progresso",
         "lon": [
          -53.1997
         ],
         "marker": {
          "color": "#ab63fa",
          "size": [
           1
          ],
          "sizemode": "area",
          "sizeref": 2.1525
         },
         "mode": "markers",
         "name": "Santa Terezinha do Progresso",
         "showlegend": true,
         "subplot": "mapbox",
         "type": "scattermapbox"
        },
        {
         "hovertemplate": "Cidade=Santiago do Sul<br>Total Equipamentos=%{marker.size}<br>Latitude=%{lat}<br>Longitude=%{lon}<extra></extra>",
         "lat": [
          -26.6388
         ],
         "legendgroup": "Santiago do Sul",
         "lon": [
          -52.6799
         ],
         "marker": {
          "color": "#FFA15A",
          "size": [
           1
          ],
          "sizemode": "area",
          "sizeref": 2.1525
         },
         "mode": "markers",
         "name": "Santiago do Sul",
         "showlegend": true,
         "subplot": "mapbox",
         "type": "scattermapbox"
        },
        {
         "hovertemplate": "Cidade=Santo Amaro da Imperatriz<br>Total Equipamentos=%{marker.size}<br>Latitude=%{lat}<br>Longitude=%{lon}<extra></extra>",
         "lat": [
          -27.6852
         ],
         "legendgroup": "Santo Amaro da Imperatriz",
         "lon": [
          -48.7813
         ],
         "marker": {
          "color": "#19d3f3",
          "size": [
           22
          ],
          "sizemode": "area",
          "sizeref": 2.1525
         },
         "mode": "markers",
         "name": "Santo Amaro da Imperatriz",
         "showlegend": true,
         "subplot": "mapbox",
         "type": "scattermapbox"
        },
        {
         "hovertemplate": "Cidade=São Bento do Sul<br>Total Equipamentos=%{marker.size}<br>Latitude=%{lat}<br>Longitude=%{lon}<extra></extra>",
         "lat": [
          -26.2495
         ],
         "legendgroup": "São Bento do Sul",
         "lon": [
          -49.3831
         ],
         "marker": {
          "color": "#FF6692",
          "size": [
           90
          ],
          "sizemode": "area",
          "sizeref": 2.1525
         },
         "mode": "markers",
         "name": "São Bento do Sul",
         "showlegend": true,
         "subplot": "mapbox",
         "type": "scattermapbox"
        },
        {
         "hovertemplate": "Cidade=São Bonifácio<br>Total Equipamentos=%{marker.size}<br>Latitude=%{lat}<br>Longitude=%{lon}<extra></extra>",
         "lat": [
          -27.9009
         ],
         "legendgroup": "São Bonifácio",
         "lon": [
          -48.9326
         ],
         "marker": {
          "color": "#B6E880",
          "size": [
           7
          ],
          "sizemode": "area",
          "sizeref": 2.1525
         },
         "mode": "markers",
         "name": "São Bonifácio",
         "showlegend": true,
         "subplot": "mapbox",
         "type": "scattermapbox"
        },
        {
         "hovertemplate": "Cidade=São Carlos<br>Total Equipamentos=%{marker.size}<br>Latitude=%{lat}<br>Longitude=%{lon}<extra></extra>",
         "lat": [
          -27.0798
         ],
         "legendgroup": "São Carlos",
         "lon": [
          -53.0037
         ],
         "marker": {
          "color": "#FF97FF",
          "size": [
           7
          ],
          "sizemode": "area",
          "sizeref": 2.1525
         },
         "mode": "markers",
         "name": "São Carlos",
         "showlegend": true,
         "subplot": "mapbox",
         "type": "scattermapbox"
        },
        {
         "hovertemplate": "Cidade=São Domingos<br>Total Equipamentos=%{marker.size}<br>Latitude=%{lat}<br>Longitude=%{lon}<extra></extra>",
         "lat": [
          -26.5548
         ],
         "legendgroup": "São Domingos",
         "lon": [
          -52.5313
         ],
         "marker": {
          "color": "#FECB52",
          "size": [
           4
          ],
          "sizemode": "area",
          "sizeref": 2.1525
         },
         "mode": "markers",
         "name": "São Domingos",
         "showlegend": true,
         "subplot": "mapbox",
         "type": "scattermapbox"
        },
        {
         "hovertemplate": "Cidade=São Francisco do Sul<br>Total Equipamentos=%{marker.size}<br>Latitude=%{lat}<br>Longitude=%{lon}<extra></extra>",
         "lat": [
          -26.2579
         ],
         "legendgroup": "São Francisco do Sul",
         "lon": [
          -48.6344
         ],
         "marker": {
          "color": "#636efa",
          "size": [
           40
          ],
          "sizemode": "area",
          "sizeref": 2.1525
         },
         "mode": "markers",
         "name": "São Francisco do Sul",
         "showlegend": true,
         "subplot": "mapbox",
         "type": "scattermapbox"
        },
        {
         "hovertemplate": "Cidade=São João Batista<br>Total Equipamentos=%{marker.size}<br>Latitude=%{lat}<br>Longitude=%{lon}<extra></extra>",
         "lat": [
          -27.2772
         ],
         "legendgroup": "São João Batista",
         "lon": [
          -48.8474
         ],
         "marker": {
          "color": "#EF553B",
          "size": [
           24
          ],
          "sizemode": "area",
          "sizeref": 2.1525
         },
         "mode": "markers",
         "name": "São João Batista",
         "showlegend": true,
         "subplot": "mapbox",
         "type": "scattermapbox"
        },
        {
         "hovertemplate": "Cidade=São João do Itaperiú<br>Total Equipamentos=%{marker.size}<br>Latitude=%{lat}<br>Longitude=%{lon}<extra></extra>",
         "lat": [
          -26.6213
         ],
         "legendgroup": "São João do Itaperiú",
         "lon": [
          -48.7683
         ],
         "marker": {
          "color": "#00cc96",
          "size": [
           5
          ],
          "sizemode": "area",
          "sizeref": 2.1525
         },
         "mode": "markers",
         "name": "São João do Itaperiú",
         "showlegend": true,
         "subplot": "mapbox",
         "type": "scattermapbox"
        },
        {
         "hovertemplate": "Cidade=São João do Oeste<br>Total Equipamentos=%{marker.size}<br>Latitude=%{lat}<br>Longitude=%{lon}<extra></extra>",
         "lat": [
          -27.0984
         ],
         "legendgroup": "São João do Oeste",
         "lon": [
          -53.5977
         ],
         "marker": {
          "color": "#ab63fa",
          "size": [
           3
          ],
          "sizemode": "area",
          "sizeref": 2.1525
         },
         "mode": "markers",
         "name": "São João do Oeste",
         "showlegend": true,
         "subplot": "mapbox",
         "type": "scattermapbox"
        },
        {
         "hovertemplate": "Cidade=São João do Sul<br>Total Equipamentos=%{marker.size}<br>Latitude=%{lat}<br>Longitude=%{lon}<extra></extra>",
         "lat": [
          -29.2154
         ],
         "legendgroup": "São João do Sul",
         "lon": [
          -49.8094
         ],
         "marker": {
          "color": "#FFA15A",
          "size": [
           3
          ],
          "sizemode": "area",
          "sizeref": 2.1525
         },
         "mode": "markers",
         "name": "São João do Sul",
         "showlegend": true,
         "subplot": "mapbox",
         "type": "scattermapbox"
        },
        {
         "hovertemplate": "Cidade=São Joaquim<br>Total Equipamentos=%{marker.size}<br>Latitude=%{lat}<br>Longitude=%{lon}<extra></extra>",
         "lat": [
          -28.2887
         ],
         "legendgroup": "São Joaquim",
         "lon": [
          -49.9457
         ],
         "marker": {
          "color": "#19d3f3",
          "size": [
           2
          ],
          "sizemode": "area",
          "sizeref": 2.1525
         },
         "mode": "markers",
         "name": "São Joaquim",
         "showlegend": true,
         "subplot": "mapbox",
         "type": "scattermapbox"
        },
        {
         "hovertemplate": "Cidade=São José<br>Total Equipamentos=%{marker.size}<br>Latitude=%{lat}<br>Longitude=%{lon}<extra></extra>",
         "lat": [
          -27.6136
         ],
         "legendgroup": "São José",
         "lon": [
          -48.6366
         ],
         "marker": {
          "color": "#FF6692",
          "size": [
           209
          ],
          "sizemode": "area",
          "sizeref": 2.1525
         },
         "mode": "markers",
         "name": "São José",
         "showlegend": true,
         "subplot": "mapbox",
         "type": "scattermapbox"
        },
        {
         "hovertemplate": "Cidade=São José do Cedro<br>Total Equipamentos=%{marker.size}<br>Latitude=%{lat}<br>Longitude=%{lon}<extra></extra>",
         "lat": [
          -26.4561
         ],
         "legendgroup": "São José do Cedro",
         "lon": [
          -53.4955
         ],
         "marker": {
          "color": "#B6E880",
          "size": [
           15
          ],
          "sizemode": "area",
          "sizeref": 2.1525
         },
         "mode": "markers",
         "name": "São José do Cedro",
         "showlegend": true,
         "subplot": "mapbox",
         "type": "scattermapbox"
        },
        {
         "hovertemplate": "Cidade=São Lourenço do Oeste<br>Total Equipamentos=%{marker.size}<br>Latitude=%{lat}<br>Longitude=%{lon}<extra></extra>",
         "lat": [
          -26.3557
         ],
         "legendgroup": "São Lourenço do Oeste",
         "lon": [
          -52.8498
         ],
         "marker": {
          "color": "#FF97FF",
          "size": [
           21
          ],
          "sizemode": "area",
          "sizeref": 2.1525
         },
         "mode": "markers",
         "name": "São Lourenço do Oeste",
         "showlegend": true,
         "subplot": "mapbox",
         "type": "scattermapbox"
        },
        {
         "hovertemplate": "Cidade=São Ludgero<br>Total Equipamentos=%{marker.size}<br>Latitude=%{lat}<br>Longitude=%{lon}<extra></extra>",
         "lat": [
          -28.3144
         ],
         "legendgroup": "São Ludgero",
         "lon": [
          -49.1806
         ],
         "marker": {
          "color": "#FECB52",
          "size": [
           1
          ],
          "sizemode": "area",
          "sizeref": 2.1525
         },
         "mode": "markers",
         "name": "São Ludgero",
         "showlegend": true,
         "subplot": "mapbox",
         "type": "scattermapbox"
        },
        {
         "hovertemplate": "Cidade=São Martinho<br>Total Equipamentos=%{marker.size}<br>Latitude=%{lat}<br>Longitude=%{lon}<extra></extra>",
         "lat": [
          -28.1609
         ],
         "legendgroup": "São Martinho",
         "lon": [
          -48.9867
         ],
         "marker": {
          "color": "#636efa",
          "size": [
           1
          ],
          "sizemode": "area",
          "sizeref": 2.1525
         },
         "mode": "markers",
         "name": "São Martinho",
         "showlegend": true,
         "subplot": "mapbox",
         "type": "scattermapbox"
        },
        {
         "hovertemplate": "Cidade=São Miguel do Oeste<br>Total Equipamentos=%{marker.size}<br>Latitude=%{lat}<br>Longitude=%{lon}<extra></extra>",
         "lat": [
          -26.7242
         ],
         "legendgroup": "São Miguel do Oeste",
         "lon": [
          -53.5163
         ],
         "marker": {
          "color": "#EF553B",
          "size": [
           91
          ],
          "sizemode": "area",
          "sizeref": 2.1525
         },
         "mode": "markers",
         "name": "São Miguel do Oeste",
         "showlegend": true,
         "subplot": "mapbox",
         "type": "scattermapbox"
        },
        {
         "hovertemplate": "Cidade=São Pedro de Alcântara<br>Total Equipamentos=%{marker.size}<br>Latitude=%{lat}<br>Longitude=%{lon}<extra></extra>",
         "lat": [
          -27.5665
         ],
         "legendgroup": "São Pedro de Alcântara",
         "lon": [
          -48.8048
         ],
         "marker": {
          "color": "#00cc96",
          "size": [
           2
          ],
          "sizemode": "area",
          "sizeref": 2.1525
         },
         "mode": "markers",
         "name": "São Pedro de Alcântara",
         "showlegend": true,
         "subplot": "mapbox",
         "type": "scattermapbox"
        },
        {
         "hovertemplate": "Cidade=Saudades<br>Total Equipamentos=%{marker.size}<br>Latitude=%{lat}<br>Longitude=%{lon}<extra></extra>",
         "lat": [
          -26.9317
         ],
         "legendgroup": "Saudades",
         "lon": [
          -53.0021
         ],
         "marker": {
          "color": "#ab63fa",
          "size": [
           5
          ],
          "sizemode": "area",
          "sizeref": 2.1525
         },
         "mode": "markers",
         "name": "Saudades",
         "showlegend": true,
         "subplot": "mapbox",
         "type": "scattermapbox"
        },
        {
         "hovertemplate": "Cidade=Schroeder<br>Total Equipamentos=%{marker.size}<br>Latitude=%{lat}<br>Longitude=%{lon}<extra></extra>",
         "lat": [
          -26.4116
         ],
         "legendgroup": "Schroeder",
         "lon": [
          -49.074
         ],
         "marker": {
          "color": "#FFA15A",
          "size": [
           6
          ],
          "sizemode": "area",
          "sizeref": 2.1525
         },
         "mode": "markers",
         "name": "Schroeder",
         "showlegend": true,
         "subplot": "mapbox",
         "type": "scattermapbox"
        },
        {
         "hovertemplate": "Cidade=Seara<br>Total Equipamentos=%{marker.size}<br>Latitude=%{lat}<br>Longitude=%{lon}<extra></extra>",
         "lat": [
          -27.1564
         ],
         "legendgroup": "Seara",
         "lon": [
          -52.299
         ],
         "marker": {
          "color": "#19d3f3",
          "size": [
           14
          ],
          "sizemode": "area",
          "sizeref": 2.1525
         },
         "mode": "markers",
         "name": "Seara",
         "showlegend": true,
         "subplot": "mapbox",
         "type": "scattermapbox"
        },
        {
         "hovertemplate": "Cidade=Siderópolis<br>Total Equipamentos=%{marker.size}<br>Latitude=%{lat}<br>Longitude=%{lon}<extra></extra>",
         "lat": [
          -28.5955
         ],
         "legendgroup": "Siderópolis",
         "lon": [
          -49.4314
         ],
         "marker": {
          "color": "#FF6692",
          "size": [
           5
          ],
          "sizemode": "area",
          "sizeref": 2.1525
         },
         "mode": "markers",
         "name": "Siderópolis",
         "showlegend": true,
         "subplot": "mapbox",
         "type": "scattermapbox"
        },
        {
         "hovertemplate": "Cidade=Sombrio<br>Total Equipamentos=%{marker.size}<br>Latitude=%{lat}<br>Longitude=%{lon}<extra></extra>",
         "lat": [
          -29.108
         ],
         "legendgroup": "Sombrio",
         "lon": [
          -49.6328
         ],
         "marker": {
          "color": "#B6E880",
          "size": [
           20
          ],
          "sizemode": "area",
          "sizeref": 2.1525
         },
         "mode": "markers",
         "name": "Sombrio",
         "showlegend": true,
         "subplot": "mapbox",
         "type": "scattermapbox"
        },
        {
         "hovertemplate": "Cidade=Sul Brasil<br>Total Equipamentos=%{marker.size}<br>Latitude=%{lat}<br>Longitude=%{lon}<extra></extra>",
         "lat": [
          -26.7351
         ],
         "legendgroup": "Sul Brasil",
         "lon": [
          -52.964
         ],
         "marker": {
          "color": "#FF97FF",
          "size": [
           1
          ],
          "sizemode": "area",
          "sizeref": 2.1525
         },
         "mode": "markers",
         "name": "Sul Brasil",
         "showlegend": true,
         "subplot": "mapbox",
         "type": "scattermapbox"
        },
        {
         "hovertemplate": "Cidade=Taió<br>Total Equipamentos=%{marker.size}<br>Latitude=%{lat}<br>Longitude=%{lon}<extra></extra>",
         "lat": [
          -27.121
         ],
         "legendgroup": "Taió",
         "lon": [
          -49.9942
         ],
         "marker": {
          "color": "#FECB52",
          "size": [
           13
          ],
          "sizemode": "area",
          "sizeref": 2.1525
         },
         "mode": "markers",
         "name": "Taió",
         "showlegend": true,
         "subplot": "mapbox",
         "type": "scattermapbox"
        },
        {
         "hovertemplate": "Cidade=Tangará<br>Total Equipamentos=%{marker.size}<br>Latitude=%{lat}<br>Longitude=%{lon}<extra></extra>",
         "lat": [
          -27.0996
         ],
         "legendgroup": "Tangará",
         "lon": [
          -51.2473
         ],
         "marker": {
          "color": "#636efa",
          "size": [
           7
          ],
          "sizemode": "area",
          "sizeref": 2.1525
         },
         "mode": "markers",
         "name": "Tangará",
         "showlegend": true,
         "subplot": "mapbox",
         "type": "scattermapbox"
        },
        {
         "hovertemplate": "Cidade=Tigrinhos<br>Total Equipamentos=%{marker.size}<br>Latitude=%{lat}<br>Longitude=%{lon}<extra></extra>",
         "lat": [
          -26.6876
         ],
         "legendgroup": "Tigrinhos",
         "lon": [
          -53.1545
         ],
         "marker": {
          "color": "#EF553B",
          "size": [
           1
          ],
          "sizemode": "area",
          "sizeref": 2.1525
         },
         "mode": "markers",
         "name": "Tigrinhos",
         "showlegend": true,
         "subplot": "mapbox",
         "type": "scattermapbox"
        },
        {
         "hovertemplate": "Cidade=Tijucas<br>Total Equipamentos=%{marker.size}<br>Latitude=%{lat}<br>Longitude=%{lon}<extra></extra>",
         "lat": [
          -27.2354
         ],
         "legendgroup": "Tijucas",
         "lon": [
          -48.6322
         ],
         "marker": {
          "color": "#00cc96",
          "size": [
           30
          ],
          "sizemode": "area",
          "sizeref": 2.1525
         },
         "mode": "markers",
         "name": "Tijucas",
         "showlegend": true,
         "subplot": "mapbox",
         "type": "scattermapbox"
        },
        {
         "hovertemplate": "Cidade=Timbé do Sul<br>Total Equipamentos=%{marker.size}<br>Latitude=%{lat}<br>Longitude=%{lon}<extra></extra>",
         "lat": [
          -28.8287
         ],
         "legendgroup": "Timbé do Sul",
         "lon": [
          -49.842
         ],
         "marker": {
          "color": "#ab63fa",
          "size": [
           1
          ],
          "sizemode": "area",
          "sizeref": 2.1525
         },
         "mode": "markers",
         "name": "Timbé do Sul",
         "showlegend": true,
         "subplot": "mapbox",
         "type": "scattermapbox"
        },
        {
         "hovertemplate": "Cidade=Timbó<br>Total Equipamentos=%{marker.size}<br>Latitude=%{lat}<br>Longitude=%{lon}<extra></extra>",
         "lat": [
          -26.8246
         ],
         "legendgroup": "Timbó",
         "lon": [
          -49.269
         ],
         "marker": {
          "color": "#FFA15A",
          "size": [
           44
          ],
          "sizemode": "area",
          "sizeref": 2.1525
         },
         "mode": "markers",
         "name": "Timbó",
         "showlegend": true,
         "subplot": "mapbox",
         "type": "scattermapbox"
        },
        {
         "hovertemplate": "Cidade=Timbó Grande<br>Total Equipamentos=%{marker.size}<br>Latitude=%{lat}<br>Longitude=%{lon}<extra></extra>",
         "lat": [
          -26.6127
         ],
         "legendgroup": "Timbó Grande",
         "lon": [
          -50.6607
         ],
         "marker": {
          "color": "#19d3f3",
          "size": [
           2
          ],
          "sizemode": "area",
          "sizeref": 2.1525
         },
         "mode": "markers",
         "name": "Timbó Grande",
         "showlegend": true,
         "subplot": "mapbox",
         "type": "scattermapbox"
        },
        {
         "hovertemplate": "Cidade=Três Barras<br>Total Equipamentos=%{marker.size}<br>Latitude=%{lat}<br>Longitude=%{lon}<extra></extra>",
         "lat": [
          -26.1056
         ],
         "legendgroup": "Três Barras",
         "lon": [
          -50.3197
         ],
         "marker": {
          "color": "#FF6692",
          "size": [
           3
          ],
          "sizemode": "area",
          "sizeref": 2.1525
         },
         "mode": "markers",
         "name": "Três Barras",
         "showlegend": true,
         "subplot": "mapbox",
         "type": "scattermapbox"
        },
        {
         "hovertemplate": "Cidade=Treviso<br>Total Equipamentos=%{marker.size}<br>Latitude=%{lat}<br>Longitude=%{lon}<extra></extra>",
         "lat": [
          -28.5097
         ],
         "legendgroup": "Treviso",
         "lon": [
          -49.4634
         ],
         "marker": {
          "color": "#B6E880",
          "size": [
           1
          ],
          "sizemode": "area",
          "sizeref": 2.1525
         },
         "mode": "markers",
         "name": "Treviso",
         "showlegend": true,
         "subplot": "mapbox",
         "type": "scattermapbox"
        },
        {
         "hovertemplate": "Cidade=Treze de Maio<br>Total Equipamentos=%{marker.size}<br>Latitude=%{lat}<br>Longitude=%{lon}<extra></extra>",
         "lat": [
          -28.5537
         ],
         "legendgroup": "Treze de Maio",
         "lon": [
          -49.1565
         ],
         "marker": {
          "color": "#FF97FF",
          "size": [
           4
          ],
          "sizemode": "area",
          "sizeref": 2.1525
         },
         "mode": "markers",
         "name": "Treze de Maio",
         "showlegend": true,
         "subplot": "mapbox",
         "type": "scattermapbox"
        },
        {
         "hovertemplate": "Cidade=Treze Tílias<br>Total Equipamentos=%{marker.size}<br>Latitude=%{lat}<br>Longitude=%{lon}<extra></extra>",
         "lat": [
          -27.0026
         ],
         "legendgroup": "Treze Tílias",
         "lon": [
          -51.4084
         ],
         "marker": {
          "color": "#FECB52",
          "size": [
           2
          ],
          "sizemode": "area",
          "sizeref": 2.1525
         },
         "mode": "markers",
         "name": "Treze Tílias",
         "showlegend": true,
         "subplot": "mapbox",
         "type": "scattermapbox"
        },
        {
         "hovertemplate": "Cidade=Trombudo Central<br>Total Equipamentos=%{marker.size}<br>Latitude=%{lat}<br>Longitude=%{lon}<extra></extra>",
         "lat": [
          -27.3033
         ],
         "legendgroup": "Trombudo Central",
         "lon": [
          -49.793
         ],
         "marker": {
          "color": "#636efa",
          "size": [
           7
          ],
          "sizemode": "area",
          "sizeref": 2.1525
         },
         "mode": "markers",
         "name": "Trombudo Central",
         "showlegend": true,
         "subplot": "mapbox",
         "type": "scattermapbox"
        },
        {
         "hovertemplate": "Cidade=Tubarão<br>Total Equipamentos=%{marker.size}<br>Latitude=%{lat}<br>Longitude=%{lon}<extra></extra>",
         "lat": [
          -28.4713
         ],
         "legendgroup": "Tubarão",
         "lon": [
          -49.0144
         ],
         "marker": {
          "color": "#EF553B",
          "size": [
           128
          ],
          "sizemode": "area",
          "sizeref": 2.1525
         },
         "mode": "markers",
         "name": "Tubarão",
         "showlegend": true,
         "subplot": "mapbox",
         "type": "scattermapbox"
        },
        {
         "hovertemplate": "Cidade=Tunápolis<br>Total Equipamentos=%{marker.size}<br>Latitude=%{lat}<br>Longitude=%{lon}<extra></extra>",
         "lat": [
          -26.9681
         ],
         "legendgroup": "Tunápolis",
         "lon": [
          -53.6417
         ],
         "marker": {
          "color": "#00cc96",
          "size": [
           5
          ],
          "sizemode": "area",
          "sizeref": 2.1525
         },
         "mode": "markers",
         "name": "Tunápolis",
         "showlegend": true,
         "subplot": "mapbox",
         "type": "scattermapbox"
        },
        {
         "hovertemplate": "Cidade=Turvo<br>Total Equipamentos=%{marker.size}<br>Latitude=%{lat}<br>Longitude=%{lon}<extra></extra>",
         "lat": [
          -28.9272
         ],
         "legendgroup": "Turvo",
         "lon": [
          -49.6831
         ],
         "marker": {
          "color": "#ab63fa",
          "size": [
           14
          ],
          "sizemode": "area",
          "sizeref": 2.1525
         },
         "mode": "markers",
         "name": "Turvo",
         "showlegend": true,
         "subplot": "mapbox",
         "type": "scattermapbox"
        },
        {
         "hovertemplate": "Cidade=União do Oeste<br>Total Equipamentos=%{marker.size}<br>Latitude=%{lat}<br>Longitude=%{lon}<extra></extra>",
         "lat": [
          -26.761999999999997
         ],
         "legendgroup": "União do Oeste",
         "lon": [
          -52.8541
         ],
         "marker": {
          "color": "#FFA15A",
          "size": [
           1
          ],
          "sizemode": "area",
          "sizeref": 2.1525
         },
         "mode": "markers",
         "name": "União do Oeste",
         "showlegend": true,
         "subplot": "mapbox",
         "type": "scattermapbox"
        },
        {
         "hovertemplate": "Cidade=Urubici<br>Total Equipamentos=%{marker.size}<br>Latitude=%{lat}<br>Longitude=%{lon}<extra></extra>",
         "lat": [
          -28.0157
         ],
         "legendgroup": "Urubici",
         "lon": [
          -49.5925
         ],
         "marker": {
          "color": "#19d3f3",
          "size": [
           8
          ],
          "sizemode": "area",
          "sizeref": 2.1525
         },
         "mode": "markers",
         "name": "Urubici",
         "showlegend": true,
         "subplot": "mapbox",
         "type": "scattermapbox"
        },
        {
         "hovertemplate": "Cidade=Urussanga<br>Total Equipamentos=%{marker.size}<br>Latitude=%{lat}<br>Longitude=%{lon}<extra></extra>",
         "lat": [
          -28.518
         ],
         "legendgroup": "Urussanga",
         "lon": [
          -49.3238
         ],
         "marker": {
          "color": "#FF6692",
          "size": [
           13
          ],
          "sizemode": "area",
          "sizeref": 2.1525
         },
         "mode": "markers",
         "name": "Urussanga",
         "showlegend": true,
         "subplot": "mapbox",
         "type": "scattermapbox"
        },
        {
         "hovertemplate": "Cidade=Vargeão<br>Total Equipamentos=%{marker.size}<br>Latitude=%{lat}<br>Longitude=%{lon}<extra></extra>",
         "lat": [
          -26.8621
         ],
         "legendgroup": "Vargeão",
         "lon": [
          -52.1549
         ],
         "marker": {
          "color": "#B6E880",
          "size": [
           4
          ],
          "sizemode": "area",
          "sizeref": 2.1525
         },
         "mode": "markers",
         "name": "Vargeão",
         "showlegend": true,
         "subplot": "mapbox",
         "type": "scattermapbox"
        },
        {
         "hovertemplate": "Cidade=Vargem<br>Total Equipamentos=%{marker.size}<br>Latitude=%{lat}<br>Longitude=%{lon}<extra></extra>",
         "lat": [
          -27.4867
         ],
         "legendgroup": "Vargem",
         "lon": [
          -50.9724
         ],
         "marker": {
          "color": "#FF97FF",
          "size": [
           1
          ],
          "sizemode": "area",
          "sizeref": 2.1525
         },
         "mode": "markers",
         "name": "Vargem",
         "showlegend": true,
         "subplot": "mapbox",
         "type": "scattermapbox"
        },
        {
         "hovertemplate": "Cidade=Vargem Bonita<br>Total Equipamentos=%{marker.size}<br>Latitude=%{lat}<br>Longitude=%{lon}<extra></extra>",
         "lat": [
          -27.0055
         ],
         "legendgroup": "Vargem Bonita",
         "lon": [
          -51.7402
         ],
         "marker": {
          "color": "#FECB52",
          "size": [
           3
          ],
          "sizemode": "area",
          "sizeref": 2.1525
         },
         "mode": "markers",
         "name": "Vargem Bonita",
         "showlegend": true,
         "subplot": "mapbox",
         "type": "scattermapbox"
        },
        {
         "hovertemplate": "Cidade=Vidal Ramos<br>Total Equipamentos=%{marker.size}<br>Latitude=%{lat}<br>Longitude=%{lon}<extra></extra>",
         "lat": [
          -27.3886
         ],
         "legendgroup": "Vidal Ramos",
         "lon": [
          -49.3593
         ],
         "marker": {
          "color": "#636efa",
          "size": [
           2
          ],
          "sizemode": "area",
          "sizeref": 2.1525
         },
         "mode": "markers",
         "name": "Vidal Ramos",
         "showlegend": true,
         "subplot": "mapbox",
         "type": "scattermapbox"
        },
        {
         "hovertemplate": "Cidade=Videira<br>Total Equipamentos=%{marker.size}<br>Latitude=%{lat}<br>Longitude=%{lon}<extra></extra>",
         "lat": [
          -27.0086
         ],
         "legendgroup": "Videira",
         "lon": [
          -51.1543
         ],
         "marker": {
          "color": "#EF553B",
          "size": [
           69
          ],
          "sizemode": "area",
          "sizeref": 2.1525
         },
         "mode": "markers",
         "name": "Videira",
         "showlegend": true,
         "subplot": "mapbox",
         "type": "scattermapbox"
        },
        {
         "hovertemplate": "Cidade=Vitor Meireles<br>Total Equipamentos=%{marker.size}<br>Latitude=%{lat}<br>Longitude=%{lon}<extra></extra>",
         "lat": [
          -26.8782
         ],
         "legendgroup": "Vitor Meireles",
         "lon": [
          -49.8328
         ],
         "marker": {
          "color": "#00cc96",
          "size": [
           2
          ],
          "sizemode": "area",
          "sizeref": 2.1525
         },
         "mode": "markers",
         "name": "Vitor Meireles",
         "showlegend": true,
         "subplot": "mapbox",
         "type": "scattermapbox"
        },
        {
         "hovertemplate": "Cidade=Witmarsum<br>Total Equipamentos=%{marker.size}<br>Latitude=%{lat}<br>Longitude=%{lon}<extra></extra>",
         "lat": [
          -26.9275
         ],
         "legendgroup": "Witmarsum",
         "lon": [
          -49.7947
         ],
         "marker": {
          "color": "#ab63fa",
          "size": [
           2
          ],
          "sizemode": "area",
          "sizeref": 2.1525
         },
         "mode": "markers",
         "name": "Witmarsum",
         "showlegend": true,
         "subplot": "mapbox",
         "type": "scattermapbox"
        },
        {
         "hovertemplate": "Cidade=Xanxerê<br>Total Equipamentos=%{marker.size}<br>Latitude=%{lat}<br>Longitude=%{lon}<extra></extra>",
         "lat": [
          -26.8747
         ],
         "legendgroup": "Xanxerê",
         "lon": [
          -52.4036
         ],
         "marker": {
          "color": "#FFA15A",
          "size": [
           38
          ],
          "sizemode": "area",
          "sizeref": 2.1525
         },
         "mode": "markers",
         "name": "Xanxerê",
         "showlegend": true,
         "subplot": "mapbox",
         "type": "scattermapbox"
        },
        {
         "hovertemplate": "Cidade=Xavantina<br>Total Equipamentos=%{marker.size}<br>Latitude=%{lat}<br>Longitude=%{lon}<extra></extra>",
         "lat": [
          -27.0667
         ],
         "legendgroup": "Xavantina",
         "lon": [
          -52.343
         ],
         "marker": {
          "color": "#19d3f3",
          "size": [
           2
          ],
          "sizemode": "area",
          "sizeref": 2.1525
         },
         "mode": "markers",
         "name": "Xavantina",
         "showlegend": true,
         "subplot": "mapbox",
         "type": "scattermapbox"
        },
        {
         "hovertemplate": "Cidade=Xaxim<br>Total Equipamentos=%{marker.size}<br>Latitude=%{lat}<br>Longitude=%{lon}<extra></extra>",
         "lat": [
          -26.9596
         ],
         "legendgroup": "Xaxim",
         "lon": [
          -52.5374
         ],
         "marker": {
          "color": "#FF6692",
          "size": [
           37
          ],
          "sizemode": "area",
          "sizeref": 2.1525
         },
         "mode": "markers",
         "name": "Xaxim",
         "showlegend": true,
         "subplot": "mapbox",
         "type": "scattermapbox"
        }
       ],
       "layout": {
        "legend": {
         "itemsizing": "constant",
         "title": {
          "text": "Cidade"
         },
         "tracegroupgap": 0
        },
        "mapbox": {
         "accesstoken": "pk.eyJ1IjoiYXJ0dXNjIiwiYSI6ImNrZnBuNDExOTAwOHIycW9jamFnaThwaTAifQ.xbicttjuyTvaI0Nl2xqI-g",
         "center": {
          "lat": -27.258146153846162,
          "lon": -50.61898785425101
         },
         "domain": {
          "x": [
           0,
           1
          ],
          "y": [
           0,
           1
          ]
         },
         "zoom": 6
        },
        "margin": {
         "b": 0,
         "l": 0,
         "r": 0,
         "t": 0
        },
        "template": {
         "data": {
          "bar": [
           {
            "error_x": {
             "color": "#2a3f5f"
            },
            "error_y": {
             "color": "#2a3f5f"
            },
            "marker": {
             "line": {
              "color": "#E5ECF6",
              "width": 0.5
             }
            },
            "type": "bar"
           }
          ],
          "barpolar": [
           {
            "marker": {
             "line": {
              "color": "#E5ECF6",
              "width": 0.5
             }
            },
            "type": "barpolar"
           }
          ],
          "carpet": [
           {
            "aaxis": {
             "endlinecolor": "#2a3f5f",
             "gridcolor": "white",
             "linecolor": "white",
             "minorgridcolor": "white",
             "startlinecolor": "#2a3f5f"
            },
            "baxis": {
             "endlinecolor": "#2a3f5f",
             "gridcolor": "white",
             "linecolor": "white",
             "minorgridcolor": "white",
             "startlinecolor": "#2a3f5f"
            },
            "type": "carpet"
           }
          ],
          "choropleth": [
           {
            "colorbar": {
             "outlinewidth": 0,
             "ticks": ""
            },
            "type": "choropleth"
           }
          ],
          "contour": [
           {
            "colorbar": {
             "outlinewidth": 0,
             "ticks": ""
            },
            "colorscale": [
             [
              0,
              "#0d0887"
             ],
             [
              0.1111111111111111,
              "#46039f"
             ],
             [
              0.2222222222222222,
              "#7201a8"
             ],
             [
              0.3333333333333333,
              "#9c179e"
             ],
             [
              0.4444444444444444,
              "#bd3786"
             ],
             [
              0.5555555555555556,
              "#d8576b"
             ],
             [
              0.6666666666666666,
              "#ed7953"
             ],
             [
              0.7777777777777778,
              "#fb9f3a"
             ],
             [
              0.8888888888888888,
              "#fdca26"
             ],
             [
              1,
              "#f0f921"
             ]
            ],
            "type": "contour"
           }
          ],
          "contourcarpet": [
           {
            "colorbar": {
             "outlinewidth": 0,
             "ticks": ""
            },
            "type": "contourcarpet"
           }
          ],
          "heatmap": [
           {
            "colorbar": {
             "outlinewidth": 0,
             "ticks": ""
            },
            "colorscale": [
             [
              0,
              "#0d0887"
             ],
             [
              0.1111111111111111,
              "#46039f"
             ],
             [
              0.2222222222222222,
              "#7201a8"
             ],
             [
              0.3333333333333333,
              "#9c179e"
             ],
             [
              0.4444444444444444,
              "#bd3786"
             ],
             [
              0.5555555555555556,
              "#d8576b"
             ],
             [
              0.6666666666666666,
              "#ed7953"
             ],
             [
              0.7777777777777778,
              "#fb9f3a"
             ],
             [
              0.8888888888888888,
              "#fdca26"
             ],
             [
              1,
              "#f0f921"
             ]
            ],
            "type": "heatmap"
           }
          ],
          "heatmapgl": [
           {
            "colorbar": {
             "outlinewidth": 0,
             "ticks": ""
            },
            "colorscale": [
             [
              0,
              "#0d0887"
             ],
             [
              0.1111111111111111,
              "#46039f"
             ],
             [
              0.2222222222222222,
              "#7201a8"
             ],
             [
              0.3333333333333333,
              "#9c179e"
             ],
             [
              0.4444444444444444,
              "#bd3786"
             ],
             [
              0.5555555555555556,
              "#d8576b"
             ],
             [
              0.6666666666666666,
              "#ed7953"
             ],
             [
              0.7777777777777778,
              "#fb9f3a"
             ],
             [
              0.8888888888888888,
              "#fdca26"
             ],
             [
              1,
              "#f0f921"
             ]
            ],
            "type": "heatmapgl"
           }
          ],
          "histogram": [
           {
            "marker": {
             "colorbar": {
              "outlinewidth": 0,
              "ticks": ""
             }
            },
            "type": "histogram"
           }
          ],
          "histogram2d": [
           {
            "colorbar": {
             "outlinewidth": 0,
             "ticks": ""
            },
            "colorscale": [
             [
              0,
              "#0d0887"
             ],
             [
              0.1111111111111111,
              "#46039f"
             ],
             [
              0.2222222222222222,
              "#7201a8"
             ],
             [
              0.3333333333333333,
              "#9c179e"
             ],
             [
              0.4444444444444444,
              "#bd3786"
             ],
             [
              0.5555555555555556,
              "#d8576b"
             ],
             [
              0.6666666666666666,
              "#ed7953"
             ],
             [
              0.7777777777777778,
              "#fb9f3a"
             ],
             [
              0.8888888888888888,
              "#fdca26"
             ],
             [
              1,
              "#f0f921"
             ]
            ],
            "type": "histogram2d"
           }
          ],
          "histogram2dcontour": [
           {
            "colorbar": {
             "outlinewidth": 0,
             "ticks": ""
            },
            "colorscale": [
             [
              0,
              "#0d0887"
             ],
             [
              0.1111111111111111,
              "#46039f"
             ],
             [
              0.2222222222222222,
              "#7201a8"
             ],
             [
              0.3333333333333333,
              "#9c179e"
             ],
             [
              0.4444444444444444,
              "#bd3786"
             ],
             [
              0.5555555555555556,
              "#d8576b"
             ],
             [
              0.6666666666666666,
              "#ed7953"
             ],
             [
              0.7777777777777778,
              "#fb9f3a"
             ],
             [
              0.8888888888888888,
              "#fdca26"
             ],
             [
              1,
              "#f0f921"
             ]
            ],
            "type": "histogram2dcontour"
           }
          ],
          "mesh3d": [
           {
            "colorbar": {
             "outlinewidth": 0,
             "ticks": ""
            },
            "type": "mesh3d"
           }
          ],
          "parcoords": [
           {
            "line": {
             "colorbar": {
              "outlinewidth": 0,
              "ticks": ""
             }
            },
            "type": "parcoords"
           }
          ],
          "pie": [
           {
            "automargin": true,
            "type": "pie"
           }
          ],
          "scatter": [
           {
            "marker": {
             "colorbar": {
              "outlinewidth": 0,
              "ticks": ""
             }
            },
            "type": "scatter"
           }
          ],
          "scatter3d": [
           {
            "line": {
             "colorbar": {
              "outlinewidth": 0,
              "ticks": ""
             }
            },
            "marker": {
             "colorbar": {
              "outlinewidth": 0,
              "ticks": ""
             }
            },
            "type": "scatter3d"
           }
          ],
          "scattercarpet": [
           {
            "marker": {
             "colorbar": {
              "outlinewidth": 0,
              "ticks": ""
             }
            },
            "type": "scattercarpet"
           }
          ],
          "scattergeo": [
           {
            "marker": {
             "colorbar": {
              "outlinewidth": 0,
              "ticks": ""
             }
            },
            "type": "scattergeo"
           }
          ],
          "scattergl": [
           {
            "marker": {
             "colorbar": {
              "outlinewidth": 0,
              "ticks": ""
             }
            },
            "type": "scattergl"
           }
          ],
          "scattermapbox": [
           {
            "marker": {
             "colorbar": {
              "outlinewidth": 0,
              "ticks": ""
             }
            },
            "type": "scattermapbox"
           }
          ],
          "scatterpolar": [
           {
            "marker": {
             "colorbar": {
              "outlinewidth": 0,
              "ticks": ""
             }
            },
            "type": "scatterpolar"
           }
          ],
          "scatterpolargl": [
           {
            "marker": {
             "colorbar": {
              "outlinewidth": 0,
              "ticks": ""
             }
            },
            "type": "scatterpolargl"
           }
          ],
          "scatterternary": [
           {
            "marker": {
             "colorbar": {
              "outlinewidth": 0,
              "ticks": ""
             }
            },
            "type": "scatterternary"
           }
          ],
          "surface": [
           {
            "colorbar": {
             "outlinewidth": 0,
             "ticks": ""
            },
            "colorscale": [
             [
              0,
              "#0d0887"
             ],
             [
              0.1111111111111111,
              "#46039f"
             ],
             [
              0.2222222222222222,
              "#7201a8"
             ],
             [
              0.3333333333333333,
              "#9c179e"
             ],
             [
              0.4444444444444444,
              "#bd3786"
             ],
             [
              0.5555555555555556,
              "#d8576b"
             ],
             [
              0.6666666666666666,
              "#ed7953"
             ],
             [
              0.7777777777777778,
              "#fb9f3a"
             ],
             [
              0.8888888888888888,
              "#fdca26"
             ],
             [
              1,
              "#f0f921"
             ]
            ],
            "type": "surface"
           }
          ],
          "table": [
           {
            "cells": {
             "fill": {
              "color": "#EBF0F8"
             },
             "line": {
              "color": "white"
             }
            },
            "header": {
             "fill": {
              "color": "#C8D4E3"
             },
             "line": {
              "color": "white"
             }
            },
            "type": "table"
           }
          ]
         },
         "layout": {
          "annotationdefaults": {
           "arrowcolor": "#2a3f5f",
           "arrowhead": 0,
           "arrowwidth": 1
          },
          "coloraxis": {
           "colorbar": {
            "outlinewidth": 0,
            "ticks": ""
           }
          },
          "colorscale": {
           "diverging": [
            [
             0,
             "#8e0152"
            ],
            [
             0.1,
             "#c51b7d"
            ],
            [
             0.2,
             "#de77ae"
            ],
            [
             0.3,
             "#f1b6da"
            ],
            [
             0.4,
             "#fde0ef"
            ],
            [
             0.5,
             "#f7f7f7"
            ],
            [
             0.6,
             "#e6f5d0"
            ],
            [
             0.7,
             "#b8e186"
            ],
            [
             0.8,
             "#7fbc41"
            ],
            [
             0.9,
             "#4d9221"
            ],
            [
             1,
             "#276419"
            ]
           ],
           "sequential": [
            [
             0,
             "#0d0887"
            ],
            [
             0.1111111111111111,
             "#46039f"
            ],
            [
             0.2222222222222222,
             "#7201a8"
            ],
            [
             0.3333333333333333,
             "#9c179e"
            ],
            [
             0.4444444444444444,
             "#bd3786"
            ],
            [
             0.5555555555555556,
             "#d8576b"
            ],
            [
             0.6666666666666666,
             "#ed7953"
            ],
            [
             0.7777777777777778,
             "#fb9f3a"
            ],
            [
             0.8888888888888888,
             "#fdca26"
            ],
            [
             1,
             "#f0f921"
            ]
           ],
           "sequentialminus": [
            [
             0,
             "#0d0887"
            ],
            [
             0.1111111111111111,
             "#46039f"
            ],
            [
             0.2222222222222222,
             "#7201a8"
            ],
            [
             0.3333333333333333,
             "#9c179e"
            ],
            [
             0.4444444444444444,
             "#bd3786"
            ],
            [
             0.5555555555555556,
             "#d8576b"
            ],
            [
             0.6666666666666666,
             "#ed7953"
            ],
            [
             0.7777777777777778,
             "#fb9f3a"
            ],
            [
             0.8888888888888888,
             "#fdca26"
            ],
            [
             1,
             "#f0f921"
            ]
           ]
          },
          "colorway": [
           "#636efa",
           "#EF553B",
           "#00cc96",
           "#ab63fa",
           "#FFA15A",
           "#19d3f3",
           "#FF6692",
           "#B6E880",
           "#FF97FF",
           "#FECB52"
          ],
          "font": {
           "color": "#2a3f5f"
          },
          "geo": {
           "bgcolor": "white",
           "lakecolor": "white",
           "landcolor": "#E5ECF6",
           "showlakes": true,
           "showland": true,
           "subunitcolor": "white"
          },
          "hoverlabel": {
           "align": "left"
          },
          "hovermode": "closest",
          "mapbox": {
           "style": "light"
          },
          "paper_bgcolor": "white",
          "plot_bgcolor": "#E5ECF6",
          "polar": {
           "angularaxis": {
            "gridcolor": "white",
            "linecolor": "white",
            "ticks": ""
           },
           "bgcolor": "#E5ECF6",
           "radialaxis": {
            "gridcolor": "white",
            "linecolor": "white",
            "ticks": ""
           }
          },
          "scene": {
           "xaxis": {
            "backgroundcolor": "#E5ECF6",
            "gridcolor": "white",
            "gridwidth": 2,
            "linecolor": "white",
            "showbackground": true,
            "ticks": "",
            "zerolinecolor": "white"
           },
           "yaxis": {
            "backgroundcolor": "#E5ECF6",
            "gridcolor": "white",
            "gridwidth": 2,
            "linecolor": "white",
            "showbackground": true,
            "ticks": "",
            "zerolinecolor": "white"
           },
           "zaxis": {
            "backgroundcolor": "#E5ECF6",
            "gridcolor": "white",
            "gridwidth": 2,
            "linecolor": "white",
            "showbackground": true,
            "ticks": "",
            "zerolinecolor": "white"
           }
          },
          "shapedefaults": {
           "line": {
            "color": "#2a3f5f"
           }
          },
          "ternary": {
           "aaxis": {
            "gridcolor": "white",
            "linecolor": "white",
            "ticks": ""
           },
           "baxis": {
            "gridcolor": "white",
            "linecolor": "white",
            "ticks": ""
           },
           "bgcolor": "#E5ECF6",
           "caxis": {
            "gridcolor": "white",
            "linecolor": "white",
            "ticks": ""
           }
          },
          "title": {
           "x": 0.05
          },
          "xaxis": {
           "automargin": true,
           "gridcolor": "white",
           "linecolor": "white",
           "ticks": "",
           "title": {
            "standoff": 15
           },
           "zerolinecolor": "white",
           "zerolinewidth": 2
          },
          "yaxis": {
           "automargin": true,
           "gridcolor": "white",
           "linecolor": "white",
           "ticks": "",
           "title": {
            "standoff": 15
           },
           "zerolinecolor": "white",
           "zerolinewidth": 2
          }
         }
        }
       }
      },
      "text/html": [
       "<div>                            <div id=\"1fba4aa4-2680-4c00-9c0d-31e9f86df861\" class=\"plotly-graph-div\" style=\"height:525px; width:100%;\"></div>            <script type=\"text/javascript\">                require([\"plotly\"], function(Plotly) {                    window.PLOTLYENV=window.PLOTLYENV || {};                                    if (document.getElementById(\"1fba4aa4-2680-4c00-9c0d-31e9f86df861\")) {                    Plotly.newPlot(                        \"1fba4aa4-2680-4c00-9c0d-31e9f86df861\",                        [{\"hovertemplate\": \"Cidade=Abdon Batista<br>Total Equipamentos=%{marker.size}<br>Latitude=%{lat}<br>Longitude=%{lon}<extra></extra>\", \"lat\": [-27.6126], \"legendgroup\": \"Abdon Batista\", \"lon\": [-51.0233], \"marker\": {\"color\": \"#636efa\", \"size\": [3], \"sizemode\": \"area\", \"sizeref\": 2.1525}, \"mode\": \"markers\", \"name\": \"Abdon Batista\", \"showlegend\": true, \"subplot\": \"mapbox\", \"type\": \"scattermapbox\"}, {\"hovertemplate\": \"Cidade=Abelardo Luz<br>Total Equipamentos=%{marker.size}<br>Latitude=%{lat}<br>Longitude=%{lon}<extra></extra>\", \"lat\": [-26.5716], \"legendgroup\": \"Abelardo Luz\", \"lon\": [-52.3229], \"marker\": {\"color\": \"#EF553B\", \"size\": [9], \"sizemode\": \"area\", \"sizeref\": 2.1525}, \"mode\": \"markers\", \"name\": \"Abelardo Luz\", \"showlegend\": true, \"subplot\": \"mapbox\", \"type\": \"scattermapbox\"}, {\"hovertemplate\": \"Cidade=Agrol\\u00e2ndia<br>Total Equipamentos=%{marker.size}<br>Latitude=%{lat}<br>Longitude=%{lon}<extra></extra>\", \"lat\": [-27.4087], \"legendgroup\": \"Agrol\\u00e2ndia\", \"lon\": [-49.821999999999996], \"marker\": {\"color\": \"#00cc96\", \"size\": [1], \"sizemode\": \"area\", \"sizeref\": 2.1525}, \"mode\": \"markers\", \"name\": \"Agrol\\u00e2ndia\", \"showlegend\": true, \"subplot\": \"mapbox\", \"type\": \"scattermapbox\"}, {\"hovertemplate\": \"Cidade=Agron\\u00f4mica<br>Total Equipamentos=%{marker.size}<br>Latitude=%{lat}<br>Longitude=%{lon}<extra></extra>\", \"lat\": [-27.2662], \"legendgroup\": \"Agron\\u00f4mica\", \"lon\": [-49.708], \"marker\": {\"color\": \"#ab63fa\", \"size\": [1], \"sizemode\": \"area\", \"sizeref\": 2.1525}, \"mode\": \"markers\", \"name\": \"Agron\\u00f4mica\", \"showlegend\": true, \"subplot\": \"mapbox\", \"type\": \"scattermapbox\"}, {\"hovertemplate\": \"Cidade=\\u00c1gua Doce<br>Total Equipamentos=%{marker.size}<br>Latitude=%{lat}<br>Longitude=%{lon}<extra></extra>\", \"lat\": [-26.9985], \"legendgroup\": \"\\u00c1gua Doce\", \"lon\": [-51.5528], \"marker\": {\"color\": \"#FFA15A\", \"size\": [5], \"sizemode\": \"area\", \"sizeref\": 2.1525}, \"mode\": \"markers\", \"name\": \"\\u00c1gua Doce\", \"showlegend\": true, \"subplot\": \"mapbox\", \"type\": \"scattermapbox\"}, {\"hovertemplate\": \"Cidade=\\u00c1guas de Chapec\\u00f3<br>Total Equipamentos=%{marker.size}<br>Latitude=%{lat}<br>Longitude=%{lon}<extra></extra>\", \"lat\": [-27.0754], \"legendgroup\": \"\\u00c1guas de Chapec\\u00f3\", \"lon\": [-52.9808], \"marker\": {\"color\": \"#19d3f3\", \"size\": [3], \"sizemode\": \"area\", \"sizeref\": 2.1525}, \"mode\": \"markers\", \"name\": \"\\u00c1guas de Chapec\\u00f3\", \"showlegend\": true, \"subplot\": \"mapbox\", \"type\": \"scattermapbox\"}, {\"hovertemplate\": \"Cidade=\\u00c1guas Mornas<br>Total Equipamentos=%{marker.size}<br>Latitude=%{lat}<br>Longitude=%{lon}<extra></extra>\", \"lat\": [-27.6963], \"legendgroup\": \"\\u00c1guas Mornas\", \"lon\": [-48.8243], \"marker\": {\"color\": \"#FF6692\", \"size\": [3], \"sizemode\": \"area\", \"sizeref\": 2.1525}, \"mode\": \"markers\", \"name\": \"\\u00c1guas Mornas\", \"showlegend\": true, \"subplot\": \"mapbox\", \"type\": \"scattermapbox\"}, {\"hovertemplate\": \"Cidade=Alfredo Wagner<br>Total Equipamentos=%{marker.size}<br>Latitude=%{lat}<br>Longitude=%{lon}<extra></extra>\", \"lat\": [-27.7001], \"legendgroup\": \"Alfredo Wagner\", \"lon\": [-49.3273], \"marker\": {\"color\": \"#B6E880\", \"size\": [7], \"sizemode\": \"area\", \"sizeref\": 2.1525}, \"mode\": \"markers\", \"name\": \"Alfredo Wagner\", \"showlegend\": true, \"subplot\": \"mapbox\", \"type\": \"scattermapbox\"}, {\"hovertemplate\": \"Cidade=Alto Bela Vista<br>Total Equipamentos=%{marker.size}<br>Latitude=%{lat}<br>Longitude=%{lon}<extra></extra>\", \"lat\": [-27.4333], \"legendgroup\": \"Alto Bela Vista\", \"lon\": [-51.9044], \"marker\": {\"color\": \"#FF97FF\", \"size\": [2], \"sizemode\": \"area\", \"sizeref\": 2.1525}, \"mode\": \"markers\", \"name\": \"Alto Bela Vista\", \"showlegend\": true, \"subplot\": \"mapbox\", \"type\": \"scattermapbox\"}, {\"hovertemplate\": \"Cidade=Anchieta<br>Total Equipamentos=%{marker.size}<br>Latitude=%{lat}<br>Longitude=%{lon}<extra></extra>\", \"lat\": [-26.5382], \"legendgroup\": \"Anchieta\", \"lon\": [-53.3319], \"marker\": {\"color\": \"#FECB52\", \"size\": [1], \"sizemode\": \"area\", \"sizeref\": 2.1525}, \"mode\": \"markers\", \"name\": \"Anchieta\", \"showlegend\": true, \"subplot\": \"mapbox\", \"type\": \"scattermapbox\"}, {\"hovertemplate\": \"Cidade=Angelina<br>Total Equipamentos=%{marker.size}<br>Latitude=%{lat}<br>Longitude=%{lon}<extra></extra>\", \"lat\": [-27.5704], \"legendgroup\": \"Angelina\", \"lon\": [-48.9879], \"marker\": {\"color\": \"#636efa\", \"size\": [4], \"sizemode\": \"area\", \"sizeref\": 2.1525}, \"mode\": \"markers\", \"name\": \"Angelina\", \"showlegend\": true, \"subplot\": \"mapbox\", \"type\": \"scattermapbox\"}, {\"hovertemplate\": \"Cidade=Anita Garibaldi<br>Total Equipamentos=%{marker.size}<br>Latitude=%{lat}<br>Longitude=%{lon}<extra></extra>\", \"lat\": [-27.6897], \"legendgroup\": \"Anita Garibaldi\", \"lon\": [-51.1271], \"marker\": {\"color\": \"#EF553B\", \"size\": [2], \"sizemode\": \"area\", \"sizeref\": 2.1525}, \"mode\": \"markers\", \"name\": \"Anita Garibaldi\", \"showlegend\": true, \"subplot\": \"mapbox\", \"type\": \"scattermapbox\"}, {\"hovertemplate\": \"Cidade=Anit\\u00e1polis<br>Total Equipamentos=%{marker.size}<br>Latitude=%{lat}<br>Longitude=%{lon}<extra></extra>\", \"lat\": [-27.9012], \"legendgroup\": \"Anit\\u00e1polis\", \"lon\": [-49.1316], \"marker\": {\"color\": \"#00cc96\", \"size\": [2], \"sizemode\": \"area\", \"sizeref\": 2.1525}, \"mode\": \"markers\", \"name\": \"Anit\\u00e1polis\", \"showlegend\": true, \"subplot\": \"mapbox\", \"type\": \"scattermapbox\"}, {\"hovertemplate\": \"Cidade=Ant\\u00f4nio Carlos<br>Total Equipamentos=%{marker.size}<br>Latitude=%{lat}<br>Longitude=%{lon}<extra></extra>\", \"lat\": [-27.5191], \"legendgroup\": \"Ant\\u00f4nio Carlos\", \"lon\": [-48.766000000000005], \"marker\": {\"color\": \"#ab63fa\", \"size\": [3], \"sizemode\": \"area\", \"sizeref\": 2.1525}, \"mode\": \"markers\", \"name\": \"Ant\\u00f4nio Carlos\", \"showlegend\": true, \"subplot\": \"mapbox\", \"type\": \"scattermapbox\"}, {\"hovertemplate\": \"Cidade=Araquari<br>Total Equipamentos=%{marker.size}<br>Latitude=%{lat}<br>Longitude=%{lon}<extra></extra>\", \"lat\": [-26.3754], \"legendgroup\": \"Araquari\", \"lon\": [-48.7188], \"marker\": {\"color\": \"#FFA15A\", \"size\": [5], \"sizemode\": \"area\", \"sizeref\": 2.1525}, \"mode\": \"markers\", \"name\": \"Araquari\", \"showlegend\": true, \"subplot\": \"mapbox\", \"type\": \"scattermapbox\"}, {\"hovertemplate\": \"Cidade=Ararangu\\u00e1<br>Total Equipamentos=%{marker.size}<br>Latitude=%{lat}<br>Longitude=%{lon}<extra></extra>\", \"lat\": [-28.9356], \"legendgroup\": \"Ararangu\\u00e1\", \"lon\": [-49.4918], \"marker\": {\"color\": \"#19d3f3\", \"size\": [37], \"sizemode\": \"area\", \"sizeref\": 2.1525}, \"mode\": \"markers\", \"name\": \"Ararangu\\u00e1\", \"showlegend\": true, \"subplot\": \"mapbox\", \"type\": \"scattermapbox\"}, {\"hovertemplate\": \"Cidade=Armaz\\u00e9m<br>Total Equipamentos=%{marker.size}<br>Latitude=%{lat}<br>Longitude=%{lon}<extra></extra>\", \"lat\": [-28.2448], \"legendgroup\": \"Armaz\\u00e9m\", \"lon\": [-49.0215], \"marker\": {\"color\": \"#FF6692\", \"size\": [1], \"sizemode\": \"area\", \"sizeref\": 2.1525}, \"mode\": \"markers\", \"name\": \"Armaz\\u00e9m\", \"showlegend\": true, \"subplot\": \"mapbox\", \"type\": \"scattermapbox\"}, {\"hovertemplate\": \"Cidade=Arroio Trinta<br>Total Equipamentos=%{marker.size}<br>Latitude=%{lat}<br>Longitude=%{lon}<extra></extra>\", \"lat\": [-26.9257], \"legendgroup\": \"Arroio Trinta\", \"lon\": [-51.3407], \"marker\": {\"color\": \"#B6E880\", \"size\": [3], \"sizemode\": \"area\", \"sizeref\": 2.1525}, \"mode\": \"markers\", \"name\": \"Arroio Trinta\", \"showlegend\": true, \"subplot\": \"mapbox\", \"type\": \"scattermapbox\"}, {\"hovertemplate\": \"Cidade=Arvoredo<br>Total Equipamentos=%{marker.size}<br>Latitude=%{lat}<br>Longitude=%{lon}<extra></extra>\", \"lat\": [-27.0748], \"legendgroup\": \"Arvoredo\", \"lon\": [-52.4543], \"marker\": {\"color\": \"#FF97FF\", \"size\": [1], \"sizemode\": \"area\", \"sizeref\": 2.1525}, \"mode\": \"markers\", \"name\": \"Arvoredo\", \"showlegend\": true, \"subplot\": \"mapbox\", \"type\": \"scattermapbox\"}, {\"hovertemplate\": \"Cidade=Ascurra<br>Total Equipamentos=%{marker.size}<br>Latitude=%{lat}<br>Longitude=%{lon}<extra></extra>\", \"lat\": [-26.9548], \"legendgroup\": \"Ascurra\", \"lon\": [-49.3783], \"marker\": {\"color\": \"#FECB52\", \"size\": [2], \"sizemode\": \"area\", \"sizeref\": 2.1525}, \"mode\": \"markers\", \"name\": \"Ascurra\", \"showlegend\": true, \"subplot\": \"mapbox\", \"type\": \"scattermapbox\"}, {\"hovertemplate\": \"Cidade=Atalanta<br>Total Equipamentos=%{marker.size}<br>Latitude=%{lat}<br>Longitude=%{lon}<extra></extra>\", \"lat\": [-27.4219], \"legendgroup\": \"Atalanta\", \"lon\": [-49.7789], \"marker\": {\"color\": \"#636efa\", \"size\": [1], \"sizemode\": \"area\", \"sizeref\": 2.1525}, \"mode\": \"markers\", \"name\": \"Atalanta\", \"showlegend\": true, \"subplot\": \"mapbox\", \"type\": \"scattermapbox\"}, {\"hovertemplate\": \"Cidade=Balne\\u00e1rio Barra do Sul<br>Total Equipamentos=%{marker.size}<br>Latitude=%{lat}<br>Longitude=%{lon}<extra></extra>\", \"lat\": [-26.4597], \"legendgroup\": \"Balne\\u00e1rio Barra do Sul\", \"lon\": [-48.6123], \"marker\": {\"color\": \"#EF553B\", \"size\": [3], \"sizemode\": \"area\", \"sizeref\": 2.1525}, \"mode\": \"markers\", \"name\": \"Balne\\u00e1rio Barra do Sul\", \"showlegend\": true, \"subplot\": \"mapbox\", \"type\": \"scattermapbox\"}, {\"hovertemplate\": \"Cidade=Balne\\u00e1rio Cambori\\u00fa<br>Total Equipamentos=%{marker.size}<br>Latitude=%{lat}<br>Longitude=%{lon}<extra></extra>\", \"lat\": [-26.9926], \"legendgroup\": \"Balne\\u00e1rio Cambori\\u00fa\", \"lon\": [-48.6352], \"marker\": {\"color\": \"#00cc96\", \"size\": [81], \"sizemode\": \"area\", \"sizeref\": 2.1525}, \"mode\": \"markers\", \"name\": \"Balne\\u00e1rio Cambori\\u00fa\", \"showlegend\": true, \"subplot\": \"mapbox\", \"type\": \"scattermapbox\"}, {\"hovertemplate\": \"Cidade=Balne\\u00e1rio Pi\\u00e7arras<br>Total Equipamentos=%{marker.size}<br>Latitude=%{lat}<br>Longitude=%{lon}<extra></extra>\", \"lat\": [-26.7639], \"legendgroup\": \"Balne\\u00e1rio Pi\\u00e7arras\", \"lon\": [-48.6717], \"marker\": {\"color\": \"#ab63fa\", \"size\": [17], \"sizemode\": \"area\", \"sizeref\": 2.1525}, \"mode\": \"markers\", \"name\": \"Balne\\u00e1rio Pi\\u00e7arras\", \"showlegend\": true, \"subplot\": \"mapbox\", \"type\": \"scattermapbox\"}, {\"hovertemplate\": \"Cidade=Balne\\u00e1rio Rinc\\u00e3o<br>Total Equipamentos=%{marker.size}<br>Latitude=%{lat}<br>Longitude=%{lon}<extra></extra>\", \"lat\": [-28.8314], \"legendgroup\": \"Balne\\u00e1rio Rinc\\u00e3o\", \"lon\": [-49.2352], \"marker\": {\"color\": \"#FFA15A\", \"size\": [6], \"sizemode\": \"area\", \"sizeref\": 2.1525}, \"mode\": \"markers\", \"name\": \"Balne\\u00e1rio Rinc\\u00e3o\", \"showlegend\": true, \"subplot\": \"mapbox\", \"type\": \"scattermapbox\"}, {\"hovertemplate\": \"Cidade=Bandeirante<br>Total Equipamentos=%{marker.size}<br>Latitude=%{lat}<br>Longitude=%{lon}<extra></extra>\", \"lat\": [-26.7705], \"legendgroup\": \"Bandeirante\", \"lon\": [-53.6413], \"marker\": {\"color\": \"#19d3f3\", \"size\": [2], \"sizemode\": \"area\", \"sizeref\": 2.1525}, \"mode\": \"markers\", \"name\": \"Bandeirante\", \"showlegend\": true, \"subplot\": \"mapbox\", \"type\": \"scattermapbox\"}, {\"hovertemplate\": \"Cidade=Barra Bonita<br>Total Equipamentos=%{marker.size}<br>Latitude=%{lat}<br>Longitude=%{lon}<extra></extra>\", \"lat\": [-26.654], \"legendgroup\": \"Barra Bonita\", \"lon\": [-53.44], \"marker\": {\"color\": \"#FF6692\", \"size\": [2], \"sizemode\": \"area\", \"sizeref\": 2.1525}, \"mode\": \"markers\", \"name\": \"Barra Bonita\", \"showlegend\": true, \"subplot\": \"mapbox\", \"type\": \"scattermapbox\"}, {\"hovertemplate\": \"Cidade=Barra Velha<br>Total Equipamentos=%{marker.size}<br>Latitude=%{lat}<br>Longitude=%{lon}<extra></extra>\", \"lat\": [-26.636999999999997], \"legendgroup\": \"Barra Velha\", \"lon\": [-48.6933], \"marker\": {\"color\": \"#B6E880\", \"size\": [6], \"sizemode\": \"area\", \"sizeref\": 2.1525}, \"mode\": \"markers\", \"name\": \"Barra Velha\", \"showlegend\": true, \"subplot\": \"mapbox\", \"type\": \"scattermapbox\"}, {\"hovertemplate\": \"Cidade=Bela Vista do Toldo<br>Total Equipamentos=%{marker.size}<br>Latitude=%{lat}<br>Longitude=%{lon}<extra></extra>\", \"lat\": [-26.2746], \"legendgroup\": \"Bela Vista do Toldo\", \"lon\": [-50.4664], \"marker\": {\"color\": \"#FF97FF\", \"size\": [1], \"sizemode\": \"area\", \"sizeref\": 2.1525}, \"mode\": \"markers\", \"name\": \"Bela Vista do Toldo\", \"showlegend\": true, \"subplot\": \"mapbox\", \"type\": \"scattermapbox\"}, {\"hovertemplate\": \"Cidade=Benedito Novo<br>Total Equipamentos=%{marker.size}<br>Latitude=%{lat}<br>Longitude=%{lon}<extra></extra>\", \"lat\": [-26.781], \"legendgroup\": \"Benedito Novo\", \"lon\": [-49.3593], \"marker\": {\"color\": \"#FECB52\", \"size\": [1], \"sizemode\": \"area\", \"sizeref\": 2.1525}, \"mode\": \"markers\", \"name\": \"Benedito Novo\", \"showlegend\": true, \"subplot\": \"mapbox\", \"type\": \"scattermapbox\"}, {\"hovertemplate\": \"Cidade=Bigua\\u00e7u<br>Total Equipamentos=%{marker.size}<br>Latitude=%{lat}<br>Longitude=%{lon}<extra></extra>\", \"lat\": [-27.496], \"legendgroup\": \"Bigua\\u00e7u\", \"lon\": [-48.6598], \"marker\": {\"color\": \"#636efa\", \"size\": [35], \"sizemode\": \"area\", \"sizeref\": 2.1525}, \"mode\": \"markers\", \"name\": \"Bigua\\u00e7u\", \"showlegend\": true, \"subplot\": \"mapbox\", \"type\": \"scattermapbox\"}, {\"hovertemplate\": \"Cidade=Blumenau<br>Total Equipamentos=%{marker.size}<br>Latitude=%{lat}<br>Longitude=%{lon}<extra></extra>\", \"lat\": [-26.9155], \"legendgroup\": \"Blumenau\", \"lon\": [-49.0709], \"marker\": {\"color\": \"#EF553B\", \"size\": [273], \"sizemode\": \"area\", \"sizeref\": 2.1525}, \"mode\": \"markers\", \"name\": \"Blumenau\", \"showlegend\": true, \"subplot\": \"mapbox\", \"type\": \"scattermapbox\"}, {\"hovertemplate\": \"Cidade=Bocaina do Sul<br>Total Equipamentos=%{marker.size}<br>Latitude=%{lat}<br>Longitude=%{lon}<extra></extra>\", \"lat\": [-27.7455], \"legendgroup\": \"Bocaina do Sul\", \"lon\": [-49.9423], \"marker\": {\"color\": \"#00cc96\", \"size\": [1], \"sizemode\": \"area\", \"sizeref\": 2.1525}, \"mode\": \"markers\", \"name\": \"Bocaina do Sul\", \"showlegend\": true, \"subplot\": \"mapbox\", \"type\": \"scattermapbox\"}, {\"hovertemplate\": \"Cidade=Bom Jesus<br>Total Equipamentos=%{marker.size}<br>Latitude=%{lat}<br>Longitude=%{lon}<extra></extra>\", \"lat\": [-26.7326], \"legendgroup\": \"Bom Jesus\", \"lon\": [-52.3919], \"marker\": {\"color\": \"#ab63fa\", \"size\": [1], \"sizemode\": \"area\", \"sizeref\": 2.1525}, \"mode\": \"markers\", \"name\": \"Bom Jesus\", \"showlegend\": true, \"subplot\": \"mapbox\", \"type\": \"scattermapbox\"}, {\"hovertemplate\": \"Cidade=Bom Retiro<br>Total Equipamentos=%{marker.size}<br>Latitude=%{lat}<br>Longitude=%{lon}<extra></extra>\", \"lat\": [-27.799], \"legendgroup\": \"Bom Retiro\", \"lon\": [-49.486999999999995], \"marker\": {\"color\": \"#FFA15A\", \"size\": [3], \"sizemode\": \"area\", \"sizeref\": 2.1525}, \"mode\": \"markers\", \"name\": \"Bom Retiro\", \"showlegend\": true, \"subplot\": \"mapbox\", \"type\": \"scattermapbox\"}, {\"hovertemplate\": \"Cidade=Bombinhas<br>Total Equipamentos=%{marker.size}<br>Latitude=%{lat}<br>Longitude=%{lon}<extra></extra>\", \"lat\": [-27.1382], \"legendgroup\": \"Bombinhas\", \"lon\": [-48.5146], \"marker\": {\"color\": \"#19d3f3\", \"size\": [7], \"sizemode\": \"area\", \"sizeref\": 2.1525}, \"mode\": \"markers\", \"name\": \"Bombinhas\", \"showlegend\": true, \"subplot\": \"mapbox\", \"type\": \"scattermapbox\"}, {\"hovertemplate\": \"Cidade=Botuver\\u00e1<br>Total Equipamentos=%{marker.size}<br>Latitude=%{lat}<br>Longitude=%{lon}<extra></extra>\", \"lat\": [-27.2007], \"legendgroup\": \"Botuver\\u00e1\", \"lon\": [-49.0689], \"marker\": {\"color\": \"#FF6692\", \"size\": [1], \"sizemode\": \"area\", \"sizeref\": 2.1525}, \"mode\": \"markers\", \"name\": \"Botuver\\u00e1\", \"showlegend\": true, \"subplot\": \"mapbox\", \"type\": \"scattermapbox\"}, {\"hovertemplate\": \"Cidade=Bra\\u00e7o do Norte<br>Total Equipamentos=%{marker.size}<br>Latitude=%{lat}<br>Longitude=%{lon}<extra></extra>\", \"lat\": [-28.2681], \"legendgroup\": \"Bra\\u00e7o do Norte\", \"lon\": [-49.1701], \"marker\": {\"color\": \"#B6E880\", \"size\": [35], \"sizemode\": \"area\", \"sizeref\": 2.1525}, \"mode\": \"markers\", \"name\": \"Bra\\u00e7o do Norte\", \"showlegend\": true, \"subplot\": \"mapbox\", \"type\": \"scattermapbox\"}, {\"hovertemplate\": \"Cidade=Bra\\u00e7o do Trombudo<br>Total Equipamentos=%{marker.size}<br>Latitude=%{lat}<br>Longitude=%{lon}<extra></extra>\", \"lat\": [-27.3586], \"legendgroup\": \"Bra\\u00e7o do Trombudo\", \"lon\": [-49.8821], \"marker\": {\"color\": \"#FF97FF\", \"size\": [1], \"sizemode\": \"area\", \"sizeref\": 2.1525}, \"mode\": \"markers\", \"name\": \"Bra\\u00e7o do Trombudo\", \"showlegend\": true, \"subplot\": \"mapbox\", \"type\": \"scattermapbox\"}, {\"hovertemplate\": \"Cidade=Brun\\u00f3polis<br>Total Equipamentos=%{marker.size}<br>Latitude=%{lat}<br>Longitude=%{lon}<extra></extra>\", \"lat\": [-27.3058], \"legendgroup\": \"Brun\\u00f3polis\", \"lon\": [-50.8684], \"marker\": {\"color\": \"#FECB52\", \"size\": [2], \"sizemode\": \"area\", \"sizeref\": 2.1525}, \"mode\": \"markers\", \"name\": \"Brun\\u00f3polis\", \"showlegend\": true, \"subplot\": \"mapbox\", \"type\": \"scattermapbox\"}, {\"hovertemplate\": \"Cidade=Brusque<br>Total Equipamentos=%{marker.size}<br>Latitude=%{lat}<br>Longitude=%{lon}<extra></extra>\", \"lat\": [-27.0977], \"legendgroup\": \"Brusque\", \"lon\": [-48.9107], \"marker\": {\"color\": \"#636efa\", \"size\": [94], \"sizemode\": \"area\", \"sizeref\": 2.1525}, \"mode\": \"markers\", \"name\": \"Brusque\", \"showlegend\": true, \"subplot\": \"mapbox\", \"type\": \"scattermapbox\"}, {\"hovertemplate\": \"Cidade=Ca\\u00e7ador<br>Total Equipamentos=%{marker.size}<br>Latitude=%{lat}<br>Longitude=%{lon}<extra></extra>\", \"lat\": [-26.7757], \"legendgroup\": \"Ca\\u00e7ador\", \"lon\": [-51.012], \"marker\": {\"color\": \"#EF553B\", \"size\": [40], \"sizemode\": \"area\", \"sizeref\": 2.1525}, \"mode\": \"markers\", \"name\": \"Ca\\u00e7ador\", \"showlegend\": true, \"subplot\": \"mapbox\", \"type\": \"scattermapbox\"}, {\"hovertemplate\": \"Cidade=Caibi<br>Total Equipamentos=%{marker.size}<br>Latitude=%{lat}<br>Longitude=%{lon}<extra></extra>\", \"lat\": [-27.0741], \"legendgroup\": \"Caibi\", \"lon\": [-53.2458], \"marker\": {\"color\": \"#00cc96\", \"size\": [1], \"sizemode\": \"area\", \"sizeref\": 2.1525}, \"mode\": \"markers\", \"name\": \"Caibi\", \"showlegend\": true, \"subplot\": \"mapbox\", \"type\": \"scattermapbox\"}, {\"hovertemplate\": \"Cidade=Calmon<br>Total Equipamentos=%{marker.size}<br>Latitude=%{lat}<br>Longitude=%{lon}<extra></extra>\", \"lat\": [-26.5942], \"legendgroup\": \"Calmon\", \"lon\": [-51.095], \"marker\": {\"color\": \"#ab63fa\", \"size\": [2], \"sizemode\": \"area\", \"sizeref\": 2.1525}, \"mode\": \"markers\", \"name\": \"Calmon\", \"showlegend\": true, \"subplot\": \"mapbox\", \"type\": \"scattermapbox\"}, {\"hovertemplate\": \"Cidade=Cambori\\u00fa<br>Total Equipamentos=%{marker.size}<br>Latitude=%{lat}<br>Longitude=%{lon}<extra></extra>\", \"lat\": [-27.0241], \"legendgroup\": \"Cambori\\u00fa\", \"lon\": [-48.6503], \"marker\": {\"color\": \"#FFA15A\", \"size\": [16], \"sizemode\": \"area\", \"sizeref\": 2.1525}, \"mode\": \"markers\", \"name\": \"Cambori\\u00fa\", \"showlegend\": true, \"subplot\": \"mapbox\", \"type\": \"scattermapbox\"}, {\"hovertemplate\": \"Cidade=Campo Alegre<br>Total Equipamentos=%{marker.size}<br>Latitude=%{lat}<br>Longitude=%{lon}<extra></extra>\", \"lat\": [-26.195], \"legendgroup\": \"Campo Alegre\", \"lon\": [-49.2676], \"marker\": {\"color\": \"#19d3f3\", \"size\": [7], \"sizemode\": \"area\", \"sizeref\": 2.1525}, \"mode\": \"markers\", \"name\": \"Campo Alegre\", \"showlegend\": true, \"subplot\": \"mapbox\", \"type\": \"scattermapbox\"}, {\"hovertemplate\": \"Cidade=Campo Belo do Sul<br>Total Equipamentos=%{marker.size}<br>Latitude=%{lat}<br>Longitude=%{lon}<extra></extra>\", \"lat\": [-27.8975], \"legendgroup\": \"Campo Belo do Sul\", \"lon\": [-50.7595], \"marker\": {\"color\": \"#FF6692\", \"size\": [2], \"sizemode\": \"area\", \"sizeref\": 2.1525}, \"mode\": \"markers\", \"name\": \"Campo Belo do Sul\", \"showlegend\": true, \"subplot\": \"mapbox\", \"type\": \"scattermapbox\"}, {\"hovertemplate\": \"Cidade=Campo Er\\u00ea<br>Total Equipamentos=%{marker.size}<br>Latitude=%{lat}<br>Longitude=%{lon}<extra></extra>\", \"lat\": [-26.3931], \"legendgroup\": \"Campo Er\\u00ea\", \"lon\": [-53.0856], \"marker\": {\"color\": \"#B6E880\", \"size\": [2], \"sizemode\": \"area\", \"sizeref\": 2.1525}, \"mode\": \"markers\", \"name\": \"Campo Er\\u00ea\", \"showlegend\": true, \"subplot\": \"mapbox\", \"type\": \"scattermapbox\"}, {\"hovertemplate\": \"Cidade=Campos Novos<br>Total Equipamentos=%{marker.size}<br>Latitude=%{lat}<br>Longitude=%{lon}<extra></extra>\", \"lat\": [-27.4002], \"legendgroup\": \"Campos Novos\", \"lon\": [-51.2276], \"marker\": {\"color\": \"#FF97FF\", \"size\": [30], \"sizemode\": \"area\", \"sizeref\": 2.1525}, \"mode\": \"markers\", \"name\": \"Campos Novos\", \"showlegend\": true, \"subplot\": \"mapbox\", \"type\": \"scattermapbox\"}, {\"hovertemplate\": \"Cidade=Canelinha<br>Total Equipamentos=%{marker.size}<br>Latitude=%{lat}<br>Longitude=%{lon}<extra></extra>\", \"lat\": [-27.2616], \"legendgroup\": \"Canelinha\", \"lon\": [-48.7658], \"marker\": {\"color\": \"#FECB52\", \"size\": [6], \"sizemode\": \"area\", \"sizeref\": 2.1525}, \"mode\": \"markers\", \"name\": \"Canelinha\", \"showlegend\": true, \"subplot\": \"mapbox\", \"type\": \"scattermapbox\"}, {\"hovertemplate\": \"Cidade=Canoinhas<br>Total Equipamentos=%{marker.size}<br>Latitude=%{lat}<br>Longitude=%{lon}<extra></extra>\", \"lat\": [-26.1766], \"legendgroup\": \"Canoinhas\", \"lon\": [-50.395], \"marker\": {\"color\": \"#636efa\", \"size\": [46], \"sizemode\": \"area\", \"sizeref\": 2.1525}, \"mode\": \"markers\", \"name\": \"Canoinhas\", \"showlegend\": true, \"subplot\": \"mapbox\", \"type\": \"scattermapbox\"}, {\"hovertemplate\": \"Cidade=Capinzal<br>Total Equipamentos=%{marker.size}<br>Latitude=%{lat}<br>Longitude=%{lon}<extra></extra>\", \"lat\": [-27.3473], \"legendgroup\": \"Capinzal\", \"lon\": [-51.6057], \"marker\": {\"color\": \"#EF553B\", \"size\": [7], \"sizemode\": \"area\", \"sizeref\": 2.1525}, \"mode\": \"markers\", \"name\": \"Capinzal\", \"showlegend\": true, \"subplot\": \"mapbox\", \"type\": \"scattermapbox\"}, {\"hovertemplate\": \"Cidade=Capivari de Baixo<br>Total Equipamentos=%{marker.size}<br>Latitude=%{lat}<br>Longitude=%{lon}<extra></extra>\", \"lat\": [-28.4498], \"legendgroup\": \"Capivari de Baixo\", \"lon\": [-48.9631], \"marker\": {\"color\": \"#00cc96\", \"size\": [7], \"sizemode\": \"area\", \"sizeref\": 2.1525}, \"mode\": \"markers\", \"name\": \"Capivari de Baixo\", \"showlegend\": true, \"subplot\": \"mapbox\", \"type\": \"scattermapbox\"}, {\"hovertemplate\": \"Cidade=Catanduvas<br>Total Equipamentos=%{marker.size}<br>Latitude=%{lat}<br>Longitude=%{lon}<extra></extra>\", \"lat\": [-27.069000000000003], \"legendgroup\": \"Catanduvas\", \"lon\": [-51.6602], \"marker\": {\"color\": \"#ab63fa\", \"size\": [1], \"sizemode\": \"area\", \"sizeref\": 2.1525}, \"mode\": \"markers\", \"name\": \"Catanduvas\", \"showlegend\": true, \"subplot\": \"mapbox\", \"type\": \"scattermapbox\"}, {\"hovertemplate\": \"Cidade=Caxambu do Sul<br>Total Equipamentos=%{marker.size}<br>Latitude=%{lat}<br>Longitude=%{lon}<extra></extra>\", \"lat\": [-27.1624], \"legendgroup\": \"Caxambu do Sul\", \"lon\": [-52.8807], \"marker\": {\"color\": \"#FFA15A\", \"size\": [1], \"sizemode\": \"area\", \"sizeref\": 2.1525}, \"mode\": \"markers\", \"name\": \"Caxambu do Sul\", \"showlegend\": true, \"subplot\": \"mapbox\", \"type\": \"scattermapbox\"}, {\"hovertemplate\": \"Cidade=Chapec\\u00f3<br>Total Equipamentos=%{marker.size}<br>Latitude=%{lat}<br>Longitude=%{lon}<extra></extra>\", \"lat\": [-27.1004], \"legendgroup\": \"Chapec\\u00f3\", \"lon\": [-52.6152], \"marker\": {\"color\": \"#19d3f3\", \"size\": [334], \"sizemode\": \"area\", \"sizeref\": 2.1525}, \"mode\": \"markers\", \"name\": \"Chapec\\u00f3\", \"showlegend\": true, \"subplot\": \"mapbox\", \"type\": \"scattermapbox\"}, {\"hovertemplate\": \"Cidade=Cocal do Sul<br>Total Equipamentos=%{marker.size}<br>Latitude=%{lat}<br>Longitude=%{lon}<extra></extra>\", \"lat\": [-28.5986], \"legendgroup\": \"Cocal do Sul\", \"lon\": [-49.3335], \"marker\": {\"color\": \"#FF6692\", \"size\": [13], \"sizemode\": \"area\", \"sizeref\": 2.1525}, \"mode\": \"markers\", \"name\": \"Cocal do Sul\", \"showlegend\": true, \"subplot\": \"mapbox\", \"type\": \"scattermapbox\"}, {\"hovertemplate\": \"Cidade=Conc\\u00f3rdia<br>Total Equipamentos=%{marker.size}<br>Latitude=%{lat}<br>Longitude=%{lon}<extra></extra>\", \"lat\": [-27.2335], \"legendgroup\": \"Conc\\u00f3rdia\", \"lon\": [-52.026], \"marker\": {\"color\": \"#B6E880\", \"size\": [114], \"sizemode\": \"area\", \"sizeref\": 2.1525}, \"mode\": \"markers\", \"name\": \"Conc\\u00f3rdia\", \"showlegend\": true, \"subplot\": \"mapbox\", \"type\": \"scattermapbox\"}, {\"hovertemplate\": \"Cidade=Cordilheira Alta<br>Total Equipamentos=%{marker.size}<br>Latitude=%{lat}<br>Longitude=%{lon}<extra></extra>\", \"lat\": [-26.9844], \"legendgroup\": \"Cordilheira Alta\", \"lon\": [-52.6056], \"marker\": {\"color\": \"#FF97FF\", \"size\": [1], \"sizemode\": \"area\", \"sizeref\": 2.1525}, \"mode\": \"markers\", \"name\": \"Cordilheira Alta\", \"showlegend\": true, \"subplot\": \"mapbox\", \"type\": \"scattermapbox\"}, {\"hovertemplate\": \"Cidade=Coronel Freitas<br>Total Equipamentos=%{marker.size}<br>Latitude=%{lat}<br>Longitude=%{lon}<extra></extra>\", \"lat\": [-26.9057], \"legendgroup\": \"Coronel Freitas\", \"lon\": [-52.7011], \"marker\": {\"color\": \"#FECB52\", \"size\": [2], \"sizemode\": \"area\", \"sizeref\": 2.1525}, \"mode\": \"markers\", \"name\": \"Coronel Freitas\", \"showlegend\": true, \"subplot\": \"mapbox\", \"type\": \"scattermapbox\"}, {\"hovertemplate\": \"Cidade=Correia Pinto<br>Total Equipamentos=%{marker.size}<br>Latitude=%{lat}<br>Longitude=%{lon}<extra></extra>\", \"lat\": [-27.5877], \"legendgroup\": \"Correia Pinto\", \"lon\": [-50.3614], \"marker\": {\"color\": \"#636efa\", \"size\": [3], \"sizemode\": \"area\", \"sizeref\": 2.1525}, \"mode\": \"markers\", \"name\": \"Correia Pinto\", \"showlegend\": true, \"subplot\": \"mapbox\", \"type\": \"scattermapbox\"}, {\"hovertemplate\": \"Cidade=Corup\\u00e1<br>Total Equipamentos=%{marker.size}<br>Latitude=%{lat}<br>Longitude=%{lon}<extra></extra>\", \"lat\": [-26.4246], \"legendgroup\": \"Corup\\u00e1\", \"lon\": [-49.246], \"marker\": {\"color\": \"#EF553B\", \"size\": [10], \"sizemode\": \"area\", \"sizeref\": 2.1525}, \"mode\": \"markers\", \"name\": \"Corup\\u00e1\", \"showlegend\": true, \"subplot\": \"mapbox\", \"type\": \"scattermapbox\"}, {\"hovertemplate\": \"Cidade=Crici\\u00fama<br>Total Equipamentos=%{marker.size}<br>Latitude=%{lat}<br>Longitude=%{lon}<extra></extra>\", \"lat\": [-28.6723], \"legendgroup\": \"Crici\\u00fama\", \"lon\": [-49.3729], \"marker\": {\"color\": \"#00cc96\", \"size\": [241], \"sizemode\": \"area\", \"sizeref\": 2.1525}, \"mode\": \"markers\", \"name\": \"Crici\\u00fama\", \"showlegend\": true, \"subplot\": \"mapbox\", \"type\": \"scattermapbox\"}, {\"hovertemplate\": \"Cidade=Cunha Por\\u00e3<br>Total Equipamentos=%{marker.size}<br>Latitude=%{lat}<br>Longitude=%{lon}<extra></extra>\", \"lat\": [-26.895], \"legendgroup\": \"Cunha Por\\u00e3\", \"lon\": [-53.1662], \"marker\": {\"color\": \"#ab63fa\", \"size\": [5], \"sizemode\": \"area\", \"sizeref\": 2.1525}, \"mode\": \"markers\", \"name\": \"Cunha Por\\u00e3\", \"showlegend\": true, \"subplot\": \"mapbox\", \"type\": \"scattermapbox\"}, {\"hovertemplate\": \"Cidade=Cunhata\\u00ed<br>Total Equipamentos=%{marker.size}<br>Latitude=%{lat}<br>Longitude=%{lon}<extra></extra>\", \"lat\": [-26.9709], \"legendgroup\": \"Cunhata\\u00ed\", \"lon\": [-53.0895], \"marker\": {\"color\": \"#FFA15A\", \"size\": [2], \"sizemode\": \"area\", \"sizeref\": 2.1525}, \"mode\": \"markers\", \"name\": \"Cunhata\\u00ed\", \"showlegend\": true, \"subplot\": \"mapbox\", \"type\": \"scattermapbox\"}, {\"hovertemplate\": \"Cidade=Curitibanos<br>Total Equipamentos=%{marker.size}<br>Latitude=%{lat}<br>Longitude=%{lon}<extra></extra>\", \"lat\": [-27.2824], \"legendgroup\": \"Curitibanos\", \"lon\": [-50.5816], \"marker\": {\"color\": \"#19d3f3\", \"size\": [27], \"sizemode\": \"area\", \"sizeref\": 2.1525}, \"mode\": \"markers\", \"name\": \"Curitibanos\", \"showlegend\": true, \"subplot\": \"mapbox\", \"type\": \"scattermapbox\"}, {\"hovertemplate\": \"Cidade=Descanso<br>Total Equipamentos=%{marker.size}<br>Latitude=%{lat}<br>Longitude=%{lon}<extra></extra>\", \"lat\": [-26.826999999999998], \"legendgroup\": \"Descanso\", \"lon\": [-53.5034], \"marker\": {\"color\": \"#FF6692\", \"size\": [8], \"sizemode\": \"area\", \"sizeref\": 2.1525}, \"mode\": \"markers\", \"name\": \"Descanso\", \"showlegend\": true, \"subplot\": \"mapbox\", \"type\": \"scattermapbox\"}, {\"hovertemplate\": \"Cidade=Dion\\u00edsio Cerqueira<br>Total Equipamentos=%{marker.size}<br>Latitude=%{lat}<br>Longitude=%{lon}<extra></extra>\", \"lat\": [-26.2648], \"legendgroup\": \"Dion\\u00edsio Cerqueira\", \"lon\": [-53.6351], \"marker\": {\"color\": \"#B6E880\", \"size\": [12], \"sizemode\": \"area\", \"sizeref\": 2.1525}, \"mode\": \"markers\", \"name\": \"Dion\\u00edsio Cerqueira\", \"showlegend\": true, \"subplot\": \"mapbox\", \"type\": \"scattermapbox\"}, {\"hovertemplate\": \"Cidade=Dona Emma<br>Total Equipamentos=%{marker.size}<br>Latitude=%{lat}<br>Longitude=%{lon}<extra></extra>\", \"lat\": [-26.980999999999998], \"legendgroup\": \"Dona Emma\", \"lon\": [-49.7261], \"marker\": {\"color\": \"#FF97FF\", \"size\": [3], \"sizemode\": \"area\", \"sizeref\": 2.1525}, \"mode\": \"markers\", \"name\": \"Dona Emma\", \"showlegend\": true, \"subplot\": \"mapbox\", \"type\": \"scattermapbox\"}, {\"hovertemplate\": \"Cidade=Entre Rios<br>Total Equipamentos=%{marker.size}<br>Latitude=%{lat}<br>Longitude=%{lon}<extra></extra>\", \"lat\": [-26.7225], \"legendgroup\": \"Entre Rios\", \"lon\": [-52.5585], \"marker\": {\"color\": \"#FECB52\", \"size\": [2], \"sizemode\": \"area\", \"sizeref\": 2.1525}, \"mode\": \"markers\", \"name\": \"Entre Rios\", \"showlegend\": true, \"subplot\": \"mapbox\", \"type\": \"scattermapbox\"}, {\"hovertemplate\": \"Cidade=Erval Velho<br>Total Equipamentos=%{marker.size}<br>Latitude=%{lat}<br>Longitude=%{lon}<extra></extra>\", \"lat\": [-27.2743], \"legendgroup\": \"Erval Velho\", \"lon\": [-51.443000000000005], \"marker\": {\"color\": \"#636efa\", \"size\": [2], \"sizemode\": \"area\", \"sizeref\": 2.1525}, \"mode\": \"markers\", \"name\": \"Erval Velho\", \"showlegend\": true, \"subplot\": \"mapbox\", \"type\": \"scattermapbox\"}, {\"hovertemplate\": \"Cidade=Faxinal dos Guedes<br>Total Equipamentos=%{marker.size}<br>Latitude=%{lat}<br>Longitude=%{lon}<extra></extra>\", \"lat\": [-26.8451], \"legendgroup\": \"Faxinal dos Guedes\", \"lon\": [-52.2596], \"marker\": {\"color\": \"#EF553B\", \"size\": [6], \"sizemode\": \"area\", \"sizeref\": 2.1525}, \"mode\": \"markers\", \"name\": \"Faxinal dos Guedes\", \"showlegend\": true, \"subplot\": \"mapbox\", \"type\": \"scattermapbox\"}, {\"hovertemplate\": \"Cidade=Flor do Sert\\u00e3o<br>Total Equipamentos=%{marker.size}<br>Latitude=%{lat}<br>Longitude=%{lon}<extra></extra>\", \"lat\": [-26.7811], \"legendgroup\": \"Flor do Sert\\u00e3o\", \"lon\": [-53.3505], \"marker\": {\"color\": \"#00cc96\", \"size\": [1], \"sizemode\": \"area\", \"sizeref\": 2.1525}, \"mode\": \"markers\", \"name\": \"Flor do Sert\\u00e3o\", \"showlegend\": true, \"subplot\": \"mapbox\", \"type\": \"scattermapbox\"}, {\"hovertemplate\": \"Cidade=Florian\\u00f3polis<br>Total Equipamentos=%{marker.size}<br>Latitude=%{lat}<br>Longitude=%{lon}<extra></extra>\", \"lat\": [-27.5945], \"legendgroup\": \"Florian\\u00f3polis\", \"lon\": [-48.5477], \"marker\": {\"color\": \"#ab63fa\", \"size\": [861], \"sizemode\": \"area\", \"sizeref\": 2.1525}, \"mode\": \"markers\", \"name\": \"Florian\\u00f3polis\", \"showlegend\": true, \"subplot\": \"mapbox\", \"type\": \"scattermapbox\"}, {\"hovertemplate\": \"Cidade=Formosa do Sul<br>Total Equipamentos=%{marker.size}<br>Latitude=%{lat}<br>Longitude=%{lon}<extra></extra>\", \"lat\": [-26.6453], \"legendgroup\": \"Formosa do Sul\", \"lon\": [-52.7946], \"marker\": {\"color\": \"#FFA15A\", \"size\": [1], \"sizemode\": \"area\", \"sizeref\": 2.1525}, \"mode\": \"markers\", \"name\": \"Formosa do Sul\", \"showlegend\": true, \"subplot\": \"mapbox\", \"type\": \"scattermapbox\"}, {\"hovertemplate\": \"Cidade=Forquilhinha<br>Total Equipamentos=%{marker.size}<br>Latitude=%{lat}<br>Longitude=%{lon}<extra></extra>\", \"lat\": [-28.7454], \"legendgroup\": \"Forquilhinha\", \"lon\": [-49.4785], \"marker\": {\"color\": \"#19d3f3\", \"size\": [9], \"sizemode\": \"area\", \"sizeref\": 2.1525}, \"mode\": \"markers\", \"name\": \"Forquilhinha\", \"showlegend\": true, \"subplot\": \"mapbox\", \"type\": \"scattermapbox\"}, {\"hovertemplate\": \"Cidade=Fraiburgo<br>Total Equipamentos=%{marker.size}<br>Latitude=%{lat}<br>Longitude=%{lon}<extra></extra>\", \"lat\": [-27.0233], \"legendgroup\": \"Fraiburgo\", \"lon\": [-50.92], \"marker\": {\"color\": \"#FF6692\", \"size\": [41], \"sizemode\": \"area\", \"sizeref\": 2.1525}, \"mode\": \"markers\", \"name\": \"Fraiburgo\", \"showlegend\": true, \"subplot\": \"mapbox\", \"type\": \"scattermapbox\"}, {\"hovertemplate\": \"Cidade=Galv\\u00e3o<br>Total Equipamentos=%{marker.size}<br>Latitude=%{lat}<br>Longitude=%{lon}<extra></extra>\", \"lat\": [-26.4549], \"legendgroup\": \"Galv\\u00e3o\", \"lon\": [-52.6875], \"marker\": {\"color\": \"#B6E880\", \"size\": [1], \"sizemode\": \"area\", \"sizeref\": 2.1525}, \"mode\": \"markers\", \"name\": \"Galv\\u00e3o\", \"showlegend\": true, \"subplot\": \"mapbox\", \"type\": \"scattermapbox\"}, {\"hovertemplate\": \"Cidade=Garopaba<br>Total Equipamentos=%{marker.size}<br>Latitude=%{lat}<br>Longitude=%{lon}<extra></extra>\", \"lat\": [-28.0275], \"legendgroup\": \"Garopaba\", \"lon\": [-48.6192], \"marker\": {\"color\": \"#FF97FF\", \"size\": [21], \"sizemode\": \"area\", \"sizeref\": 2.1525}, \"mode\": \"markers\", \"name\": \"Garopaba\", \"showlegend\": true, \"subplot\": \"mapbox\", \"type\": \"scattermapbox\"}, {\"hovertemplate\": \"Cidade=Garuva<br>Total Equipamentos=%{marker.size}<br>Latitude=%{lat}<br>Longitude=%{lon}<extra></extra>\", \"lat\": [-26.0292], \"legendgroup\": \"Garuva\", \"lon\": [-48.852], \"marker\": {\"color\": \"#FECB52\", \"size\": [9], \"sizemode\": \"area\", \"sizeref\": 2.1525}, \"mode\": \"markers\", \"name\": \"Garuva\", \"showlegend\": true, \"subplot\": \"mapbox\", \"type\": \"scattermapbox\"}, {\"hovertemplate\": \"Cidade=Gaspar<br>Total Equipamentos=%{marker.size}<br>Latitude=%{lat}<br>Longitude=%{lon}<extra></extra>\", \"lat\": [-26.9336], \"legendgroup\": \"Gaspar\", \"lon\": [-48.9534], \"marker\": {\"color\": \"#636efa\", \"size\": [48], \"sizemode\": \"area\", \"sizeref\": 2.1525}, \"mode\": \"markers\", \"name\": \"Gaspar\", \"showlegend\": true, \"subplot\": \"mapbox\", \"type\": \"scattermapbox\"}, {\"hovertemplate\": \"Cidade=Governador Celso Ramos<br>Total Equipamentos=%{marker.size}<br>Latitude=%{lat}<br>Longitude=%{lon}<extra></extra>\", \"lat\": [-27.3172], \"legendgroup\": \"Governador Celso Ramos\", \"lon\": [-48.5576], \"marker\": {\"color\": \"#EF553B\", \"size\": [1], \"sizemode\": \"area\", \"sizeref\": 2.1525}, \"mode\": \"markers\", \"name\": \"Governador Celso Ramos\", \"showlegend\": true, \"subplot\": \"mapbox\", \"type\": \"scattermapbox\"}, {\"hovertemplate\": \"Cidade=Gr\\u00e3o Par\\u00e1<br>Total Equipamentos=%{marker.size}<br>Latitude=%{lat}<br>Longitude=%{lon}<extra></extra>\", \"lat\": [-28.1809], \"legendgroup\": \"Gr\\u00e3o Par\\u00e1\", \"lon\": [-49.2252], \"marker\": {\"color\": \"#00cc96\", \"size\": [2], \"sizemode\": \"area\", \"sizeref\": 2.1525}, \"mode\": \"markers\", \"name\": \"Gr\\u00e3o Par\\u00e1\", \"showlegend\": true, \"subplot\": \"mapbox\", \"type\": \"scattermapbox\"}, {\"hovertemplate\": \"Cidade=Gravatal<br>Total Equipamentos=%{marker.size}<br>Latitude=%{lat}<br>Longitude=%{lon}<extra></extra>\", \"lat\": [-28.3208], \"legendgroup\": \"Gravatal\", \"lon\": [-49.0427], \"marker\": {\"color\": \"#ab63fa\", \"size\": [2], \"sizemode\": \"area\", \"sizeref\": 2.1525}, \"mode\": \"markers\", \"name\": \"Gravatal\", \"showlegend\": true, \"subplot\": \"mapbox\", \"type\": \"scattermapbox\"}, {\"hovertemplate\": \"Cidade=Guabiruba<br>Total Equipamentos=%{marker.size}<br>Latitude=%{lat}<br>Longitude=%{lon}<extra></extra>\", \"lat\": [-27.0808], \"legendgroup\": \"Guabiruba\", \"lon\": [-48.9804], \"marker\": {\"color\": \"#FFA15A\", \"size\": [2], \"sizemode\": \"area\", \"sizeref\": 2.1525}, \"mode\": \"markers\", \"name\": \"Guabiruba\", \"showlegend\": true, \"subplot\": \"mapbox\", \"type\": \"scattermapbox\"}, {\"hovertemplate\": \"Cidade=Guaraciaba<br>Total Equipamentos=%{marker.size}<br>Latitude=%{lat}<br>Longitude=%{lon}<extra></extra>\", \"lat\": [-26.6042], \"legendgroup\": \"Guaraciaba\", \"lon\": [-53.5243], \"marker\": {\"color\": \"#19d3f3\", \"size\": [7], \"sizemode\": \"area\", \"sizeref\": 2.1525}, \"mode\": \"markers\", \"name\": \"Guaraciaba\", \"showlegend\": true, \"subplot\": \"mapbox\", \"type\": \"scattermapbox\"}, {\"hovertemplate\": \"Cidade=Guaramirim<br>Total Equipamentos=%{marker.size}<br>Latitude=%{lat}<br>Longitude=%{lon}<extra></extra>\", \"lat\": [-26.4688], \"legendgroup\": \"Guaramirim\", \"lon\": [-49.0026], \"marker\": {\"color\": \"#FF6692\", \"size\": [15], \"sizemode\": \"area\", \"sizeref\": 2.1525}, \"mode\": \"markers\", \"name\": \"Guaramirim\", \"showlegend\": true, \"subplot\": \"mapbox\", \"type\": \"scattermapbox\"}, {\"hovertemplate\": \"Cidade=Guaruj\\u00e1 do Sul<br>Total Equipamentos=%{marker.size}<br>Latitude=%{lat}<br>Longitude=%{lon}<extra></extra>\", \"lat\": [-26.3858], \"legendgroup\": \"Guaruj\\u00e1 do Sul\", \"lon\": [-53.5296], \"marker\": {\"color\": \"#B6E880\", \"size\": [3], \"sizemode\": \"area\", \"sizeref\": 2.1525}, \"mode\": \"markers\", \"name\": \"Guaruj\\u00e1 do Sul\", \"showlegend\": true, \"subplot\": \"mapbox\", \"type\": \"scattermapbox\"}, {\"hovertemplate\": \"Cidade=Guatamb\\u00fa<br>Total Equipamentos=%{marker.size}<br>Latitude=%{lat}<br>Longitude=%{lon}<extra></extra>\", \"lat\": [-27.1341], \"legendgroup\": \"Guatamb\\u00fa\", \"lon\": [-52.7887], \"marker\": {\"color\": \"#FF97FF\", \"size\": [1], \"sizemode\": \"area\", \"sizeref\": 2.1525}, \"mode\": \"markers\", \"name\": \"Guatamb\\u00fa\", \"showlegend\": true, \"subplot\": \"mapbox\", \"type\": \"scattermapbox\"}, {\"hovertemplate\": \"Cidade=Herval d'Oeste<br>Total Equipamentos=%{marker.size}<br>Latitude=%{lat}<br>Longitude=%{lon}<extra></extra>\", \"lat\": [-27.1903], \"legendgroup\": \"Herval d'Oeste\", \"lon\": [-51.4917], \"marker\": {\"color\": \"#FECB52\", \"size\": [7], \"sizemode\": \"area\", \"sizeref\": 2.1525}, \"mode\": \"markers\", \"name\": \"Herval d'Oeste\", \"showlegend\": true, \"subplot\": \"mapbox\", \"type\": \"scattermapbox\"}, {\"hovertemplate\": \"Cidade=Ibicar\\u00e9<br>Total Equipamentos=%{marker.size}<br>Latitude=%{lat}<br>Longitude=%{lon}<extra></extra>\", \"lat\": [-27.0881], \"legendgroup\": \"Ibicar\\u00e9\", \"lon\": [-51.3681], \"marker\": {\"color\": \"#636efa\", \"size\": [2], \"sizemode\": \"area\", \"sizeref\": 2.1525}, \"mode\": \"markers\", \"name\": \"Ibicar\\u00e9\", \"showlegend\": true, \"subplot\": \"mapbox\", \"type\": \"scattermapbox\"}, {\"hovertemplate\": \"Cidade=Ibirama<br>Total Equipamentos=%{marker.size}<br>Latitude=%{lat}<br>Longitude=%{lon}<extra></extra>\", \"lat\": [-27.0547], \"legendgroup\": \"Ibirama\", \"lon\": [-49.5193], \"marker\": {\"color\": \"#EF553B\", \"size\": [16], \"sizemode\": \"area\", \"sizeref\": 2.1525}, \"mode\": \"markers\", \"name\": \"Ibirama\", \"showlegend\": true, \"subplot\": \"mapbox\", \"type\": \"scattermapbox\"}, {\"hovertemplate\": \"Cidade=I\\u00e7ara<br>Total Equipamentos=%{marker.size}<br>Latitude=%{lat}<br>Longitude=%{lon}<extra></extra>\", \"lat\": [-28.7132], \"legendgroup\": \"I\\u00e7ara\", \"lon\": [-49.3087], \"marker\": {\"color\": \"#00cc96\", \"size\": [31], \"sizemode\": \"area\", \"sizeref\": 2.1525}, \"mode\": \"markers\", \"name\": \"I\\u00e7ara\", \"showlegend\": true, \"subplot\": \"mapbox\", \"type\": \"scattermapbox\"}, {\"hovertemplate\": \"Cidade=Ilhota<br>Total Equipamentos=%{marker.size}<br>Latitude=%{lat}<br>Longitude=%{lon}<extra></extra>\", \"lat\": [-26.9023], \"legendgroup\": \"Ilhota\", \"lon\": [-48.8251], \"marker\": {\"color\": \"#ab63fa\", \"size\": [1], \"sizemode\": \"area\", \"sizeref\": 2.1525}, \"mode\": \"markers\", \"name\": \"Ilhota\", \"showlegend\": true, \"subplot\": \"mapbox\", \"type\": \"scattermapbox\"}, {\"hovertemplate\": \"Cidade=Imaru\\u00ed<br>Total Equipamentos=%{marker.size}<br>Latitude=%{lat}<br>Longitude=%{lon}<extra></extra>\", \"lat\": [-28.3339], \"legendgroup\": \"Imaru\\u00ed\", \"lon\": [-48.817], \"marker\": {\"color\": \"#FFA15A\", \"size\": [1], \"sizemode\": \"area\", \"sizeref\": 2.1525}, \"mode\": \"markers\", \"name\": \"Imaru\\u00ed\", \"showlegend\": true, \"subplot\": \"mapbox\", \"type\": \"scattermapbox\"}, {\"hovertemplate\": \"Cidade=Imbituba<br>Total Equipamentos=%{marker.size}<br>Latitude=%{lat}<br>Longitude=%{lon}<extra></extra>\", \"lat\": [-28.2284], \"legendgroup\": \"Imbituba\", \"lon\": [-48.6659], \"marker\": {\"color\": \"#19d3f3\", \"size\": [45], \"sizemode\": \"area\", \"sizeref\": 2.1525}, \"mode\": \"markers\", \"name\": \"Imbituba\", \"showlegend\": true, \"subplot\": \"mapbox\", \"type\": \"scattermapbox\"}, {\"hovertemplate\": \"Cidade=Imbuia<br>Total Equipamentos=%{marker.size}<br>Latitude=%{lat}<br>Longitude=%{lon}<extra></extra>\", \"lat\": [-27.4908], \"legendgroup\": \"Imbuia\", \"lon\": [-49.4218], \"marker\": {\"color\": \"#FF6692\", \"size\": [1], \"sizemode\": \"area\", \"sizeref\": 2.1525}, \"mode\": \"markers\", \"name\": \"Imbuia\", \"showlegend\": true, \"subplot\": \"mapbox\", \"type\": \"scattermapbox\"}, {\"hovertemplate\": \"Cidade=Indaial<br>Total Equipamentos=%{marker.size}<br>Latitude=%{lat}<br>Longitude=%{lon}<extra></extra>\", \"lat\": [-26.8992], \"legendgroup\": \"Indaial\", \"lon\": [-49.2354], \"marker\": {\"color\": \"#B6E880\", \"size\": [66], \"sizemode\": \"area\", \"sizeref\": 2.1525}, \"mode\": \"markers\", \"name\": \"Indaial\", \"showlegend\": true, \"subplot\": \"mapbox\", \"type\": \"scattermapbox\"}, {\"hovertemplate\": \"Cidade=Ipira<br>Total Equipamentos=%{marker.size}<br>Latitude=%{lat}<br>Longitude=%{lon}<extra></extra>\", \"lat\": [-27.4038], \"legendgroup\": \"Ipira\", \"lon\": [-51.7758], \"marker\": {\"color\": \"#FF97FF\", \"size\": [3], \"sizemode\": \"area\", \"sizeref\": 2.1525}, \"mode\": \"markers\", \"name\": \"Ipira\", \"showlegend\": true, \"subplot\": \"mapbox\", \"type\": \"scattermapbox\"}, {\"hovertemplate\": \"Cidade=Ipor\\u00e3 do Oeste<br>Total Equipamentos=%{marker.size}<br>Latitude=%{lat}<br>Longitude=%{lon}<extra></extra>\", \"lat\": [-26.9854], \"legendgroup\": \"Ipor\\u00e3 do Oeste\", \"lon\": [-53.5355], \"marker\": {\"color\": \"#FECB52\", \"size\": [9], \"sizemode\": \"area\", \"sizeref\": 2.1525}, \"mode\": \"markers\", \"name\": \"Ipor\\u00e3 do Oeste\", \"showlegend\": true, \"subplot\": \"mapbox\", \"type\": \"scattermapbox\"}, {\"hovertemplate\": \"Cidade=Ipua\\u00e7u<br>Total Equipamentos=%{marker.size}<br>Latitude=%{lat}<br>Longitude=%{lon}<extra></extra>\", \"lat\": [-26.635], \"legendgroup\": \"Ipua\\u00e7u\", \"lon\": [-52.4556], \"marker\": {\"color\": \"#636efa\", \"size\": [1], \"sizemode\": \"area\", \"sizeref\": 2.1525}, \"mode\": \"markers\", \"name\": \"Ipua\\u00e7u\", \"showlegend\": true, \"subplot\": \"mapbox\", \"type\": \"scattermapbox\"}, {\"hovertemplate\": \"Cidade=Ipumirim<br>Total Equipamentos=%{marker.size}<br>Latitude=%{lat}<br>Longitude=%{lon}<extra></extra>\", \"lat\": [-27.0772], \"legendgroup\": \"Ipumirim\", \"lon\": [-52.1289], \"marker\": {\"color\": \"#EF553B\", \"size\": [6], \"sizemode\": \"area\", \"sizeref\": 2.1525}, \"mode\": \"markers\", \"name\": \"Ipumirim\", \"showlegend\": true, \"subplot\": \"mapbox\", \"type\": \"scattermapbox\"}, {\"hovertemplate\": \"Cidade=Iraceminha<br>Total Equipamentos=%{marker.size}<br>Latitude=%{lat}<br>Longitude=%{lon}<extra></extra>\", \"lat\": [-26.8215], \"legendgroup\": \"Iraceminha\", \"lon\": [-53.2767], \"marker\": {\"color\": \"#00cc96\", \"size\": [6], \"sizemode\": \"area\", \"sizeref\": 2.1525}, \"mode\": \"markers\", \"name\": \"Iraceminha\", \"showlegend\": true, \"subplot\": \"mapbox\", \"type\": \"scattermapbox\"}, {\"hovertemplate\": \"Cidade=Irani<br>Total Equipamentos=%{marker.size}<br>Latitude=%{lat}<br>Longitude=%{lon}<extra></extra>\", \"lat\": [-27.0287], \"legendgroup\": \"Irani\", \"lon\": [-51.9012], \"marker\": {\"color\": \"#ab63fa\", \"size\": [2], \"sizemode\": \"area\", \"sizeref\": 2.1525}, \"mode\": \"markers\", \"name\": \"Irani\", \"showlegend\": true, \"subplot\": \"mapbox\", \"type\": \"scattermapbox\"}, {\"hovertemplate\": \"Cidade=Irine\\u00f3polis<br>Total Equipamentos=%{marker.size}<br>Latitude=%{lat}<br>Longitude=%{lon}<extra></extra>\", \"lat\": [-26.241999999999997], \"legendgroup\": \"Irine\\u00f3polis\", \"lon\": [-50.7957], \"marker\": {\"color\": \"#FFA15A\", \"size\": [2], \"sizemode\": \"area\", \"sizeref\": 2.1525}, \"mode\": \"markers\", \"name\": \"Irine\\u00f3polis\", \"showlegend\": true, \"subplot\": \"mapbox\", \"type\": \"scattermapbox\"}, {\"hovertemplate\": \"Cidade=It\\u00e1<br>Total Equipamentos=%{marker.size}<br>Latitude=%{lat}<br>Longitude=%{lon}<extra></extra>\", \"lat\": [-27.2907], \"legendgroup\": \"It\\u00e1\", \"lon\": [-52.3212], \"marker\": {\"color\": \"#19d3f3\", \"size\": [7], \"sizemode\": \"area\", \"sizeref\": 2.1525}, \"mode\": \"markers\", \"name\": \"It\\u00e1\", \"showlegend\": true, \"subplot\": \"mapbox\", \"type\": \"scattermapbox\"}, {\"hovertemplate\": \"Cidade=Itai\\u00f3polis<br>Total Equipamentos=%{marker.size}<br>Latitude=%{lat}<br>Longitude=%{lon}<extra></extra>\", \"lat\": [-26.339000000000002], \"legendgroup\": \"Itai\\u00f3polis\", \"lon\": [-49.9092], \"marker\": {\"color\": \"#FF6692\", \"size\": [13], \"sizemode\": \"area\", \"sizeref\": 2.1525}, \"mode\": \"markers\", \"name\": \"Itai\\u00f3polis\", \"showlegend\": true, \"subplot\": \"mapbox\", \"type\": \"scattermapbox\"}, {\"hovertemplate\": \"Cidade=Itaja\\u00ed<br>Total Equipamentos=%{marker.size}<br>Latitude=%{lat}<br>Longitude=%{lon}<extra></extra>\", \"lat\": [-26.9101], \"legendgroup\": \"Itaja\\u00ed\", \"lon\": [-48.6705], \"marker\": {\"color\": \"#B6E880\", \"size\": [367], \"sizemode\": \"area\", \"sizeref\": 2.1525}, \"mode\": \"markers\", \"name\": \"Itaja\\u00ed\", \"showlegend\": true, \"subplot\": \"mapbox\", \"type\": \"scattermapbox\"}, {\"hovertemplate\": \"Cidade=Itapema<br>Total Equipamentos=%{marker.size}<br>Latitude=%{lat}<br>Longitude=%{lon}<extra></extra>\", \"lat\": [-27.0861], \"legendgroup\": \"Itapema\", \"lon\": [-48.61600000000001], \"marker\": {\"color\": \"#FF97FF\", \"size\": [75], \"sizemode\": \"area\", \"sizeref\": 2.1525}, \"mode\": \"markers\", \"name\": \"Itapema\", \"showlegend\": true, \"subplot\": \"mapbox\", \"type\": \"scattermapbox\"}, {\"hovertemplate\": \"Cidade=Itapiranga<br>Total Equipamentos=%{marker.size}<br>Latitude=%{lat}<br>Longitude=%{lon}<extra></extra>\", \"lat\": [-27.1659], \"legendgroup\": \"Itapiranga\", \"lon\": [-53.7166], \"marker\": {\"color\": \"#FECB52\", \"size\": [11], \"sizemode\": \"area\", \"sizeref\": 2.1525}, \"mode\": \"markers\", \"name\": \"Itapiranga\", \"showlegend\": true, \"subplot\": \"mapbox\", \"type\": \"scattermapbox\"}, {\"hovertemplate\": \"Cidade=Itapo\\u00e1<br>Total Equipamentos=%{marker.size}<br>Latitude=%{lat}<br>Longitude=%{lon}<extra></extra>\", \"lat\": [-26.1158], \"legendgroup\": \"Itapo\\u00e1\", \"lon\": [-48.6182], \"marker\": {\"color\": \"#636efa\", \"size\": [9], \"sizemode\": \"area\", \"sizeref\": 2.1525}, \"mode\": \"markers\", \"name\": \"Itapo\\u00e1\", \"showlegend\": true, \"subplot\": \"mapbox\", \"type\": \"scattermapbox\"}, {\"hovertemplate\": \"Cidade=Ituporanga<br>Total Equipamentos=%{marker.size}<br>Latitude=%{lat}<br>Longitude=%{lon}<extra></extra>\", \"lat\": [-27.4101], \"legendgroup\": \"Ituporanga\", \"lon\": [-49.5963], \"marker\": {\"color\": \"#EF553B\", \"size\": [20], \"sizemode\": \"area\", \"sizeref\": 2.1525}, \"mode\": \"markers\", \"name\": \"Ituporanga\", \"showlegend\": true, \"subplot\": \"mapbox\", \"type\": \"scattermapbox\"}, {\"hovertemplate\": \"Cidade=Jabor\\u00e1<br>Total Equipamentos=%{marker.size}<br>Latitude=%{lat}<br>Longitude=%{lon}<extra></extra>\", \"lat\": [-27.1782], \"legendgroup\": \"Jabor\\u00e1\", \"lon\": [-51.7279], \"marker\": {\"color\": \"#00cc96\", \"size\": [2], \"sizemode\": \"area\", \"sizeref\": 2.1525}, \"mode\": \"markers\", \"name\": \"Jabor\\u00e1\", \"showlegend\": true, \"subplot\": \"mapbox\", \"type\": \"scattermapbox\"}, {\"hovertemplate\": \"Cidade=Jacinto Machado<br>Total Equipamentos=%{marker.size}<br>Latitude=%{lat}<br>Longitude=%{lon}<extra></extra>\", \"lat\": [-28.9961], \"legendgroup\": \"Jacinto Machado\", \"lon\": [-49.7623], \"marker\": {\"color\": \"#ab63fa\", \"size\": [1], \"sizemode\": \"area\", \"sizeref\": 2.1525}, \"mode\": \"markers\", \"name\": \"Jacinto Machado\", \"showlegend\": true, \"subplot\": \"mapbox\", \"type\": \"scattermapbox\"}, {\"hovertemplate\": \"Cidade=Jaguaruna<br>Total Equipamentos=%{marker.size}<br>Latitude=%{lat}<br>Longitude=%{lon}<extra></extra>\", \"lat\": [-28.6146], \"legendgroup\": \"Jaguaruna\", \"lon\": [-49.0296], \"marker\": {\"color\": \"#FFA15A\", \"size\": [19], \"sizemode\": \"area\", \"sizeref\": 2.1525}, \"mode\": \"markers\", \"name\": \"Jaguaruna\", \"showlegend\": true, \"subplot\": \"mapbox\", \"type\": \"scattermapbox\"}, {\"hovertemplate\": \"Cidade=Jaragu\\u00e1 do Sul<br>Total Equipamentos=%{marker.size}<br>Latitude=%{lat}<br>Longitude=%{lon}<extra></extra>\", \"lat\": [-26.4851], \"legendgroup\": \"Jaragu\\u00e1 do Sul\", \"lon\": [-49.0713], \"marker\": {\"color\": \"#19d3f3\", \"size\": [293], \"sizemode\": \"area\", \"sizeref\": 2.1525}, \"mode\": \"markers\", \"name\": \"Jaragu\\u00e1 do Sul\", \"showlegend\": true, \"subplot\": \"mapbox\", \"type\": \"scattermapbox\"}, {\"hovertemplate\": \"Cidade=Joa\\u00e7aba<br>Total Equipamentos=%{marker.size}<br>Latitude=%{lat}<br>Longitude=%{lon}<extra></extra>\", \"lat\": [-27.1721], \"legendgroup\": \"Joa\\u00e7aba\", \"lon\": [-51.5108], \"marker\": {\"color\": \"#FF6692\", \"size\": [76], \"sizemode\": \"area\", \"sizeref\": 2.1525}, \"mode\": \"markers\", \"name\": \"Joa\\u00e7aba\", \"showlegend\": true, \"subplot\": \"mapbox\", \"type\": \"scattermapbox\"}, {\"hovertemplate\": \"Cidade=Joinville<br>Total Equipamentos=%{marker.size}<br>Latitude=%{lat}<br>Longitude=%{lon}<extra></extra>\", \"lat\": [-26.3045], \"legendgroup\": \"Joinville\", \"lon\": [-48.8487], \"marker\": {\"color\": \"#B6E880\", \"size\": [702], \"sizemode\": \"area\", \"sizeref\": 2.1525}, \"mode\": \"markers\", \"name\": \"Joinville\", \"showlegend\": true, \"subplot\": \"mapbox\", \"type\": \"scattermapbox\"}, {\"hovertemplate\": \"Cidade=Jos\\u00e9 Boiteux<br>Total Equipamentos=%{marker.size}<br>Latitude=%{lat}<br>Longitude=%{lon}<extra></extra>\", \"lat\": [-26.9566], \"legendgroup\": \"Jos\\u00e9 Boiteux\", \"lon\": [-49.6286], \"marker\": {\"color\": \"#FF97FF\", \"size\": [1], \"sizemode\": \"area\", \"sizeref\": 2.1525}, \"mode\": \"markers\", \"name\": \"Jos\\u00e9 Boiteux\", \"showlegend\": true, \"subplot\": \"mapbox\", \"type\": \"scattermapbox\"}, {\"hovertemplate\": \"Cidade=Jupi\\u00e1<br>Total Equipamentos=%{marker.size}<br>Latitude=%{lat}<br>Longitude=%{lon}<extra></extra>\", \"lat\": [-26.395], \"legendgroup\": \"Jupi\\u00e1\", \"lon\": [-52.7298], \"marker\": {\"color\": \"#FECB52\", \"size\": [1], \"sizemode\": \"area\", \"sizeref\": 2.1525}, \"mode\": \"markers\", \"name\": \"Jupi\\u00e1\", \"showlegend\": true, \"subplot\": \"mapbox\", \"type\": \"scattermapbox\"}, {\"hovertemplate\": \"Cidade=Lages<br>Total Equipamentos=%{marker.size}<br>Latitude=%{lat}<br>Longitude=%{lon}<extra></extra>\", \"lat\": [-27.815], \"legendgroup\": \"Lages\", \"lon\": [-50.3259], \"marker\": {\"color\": \"#636efa\", \"size\": [277], \"sizemode\": \"area\", \"sizeref\": 2.1525}, \"mode\": \"markers\", \"name\": \"Lages\", \"showlegend\": true, \"subplot\": \"mapbox\", \"type\": \"scattermapbox\"}, {\"hovertemplate\": \"Cidade=Laguna<br>Total Equipamentos=%{marker.size}<br>Latitude=%{lat}<br>Longitude=%{lon}<extra></extra>\", \"lat\": [-28.4843], \"legendgroup\": \"Laguna\", \"lon\": [-48.7772], \"marker\": {\"color\": \"#EF553B\", \"size\": [36], \"sizemode\": \"area\", \"sizeref\": 2.1525}, \"mode\": \"markers\", \"name\": \"Laguna\", \"showlegend\": true, \"subplot\": \"mapbox\", \"type\": \"scattermapbox\"}, {\"hovertemplate\": \"Cidade=Laurentino<br>Total Equipamentos=%{marker.size}<br>Latitude=%{lat}<br>Longitude=%{lon}<extra></extra>\", \"lat\": [-27.2173], \"legendgroup\": \"Laurentino\", \"lon\": [-49.7331], \"marker\": {\"color\": \"#00cc96\", \"size\": [3], \"sizemode\": \"area\", \"sizeref\": 2.1525}, \"mode\": \"markers\", \"name\": \"Laurentino\", \"showlegend\": true, \"subplot\": \"mapbox\", \"type\": \"scattermapbox\"}, {\"hovertemplate\": \"Cidade=Lauro Muller<br>Total Equipamentos=%{marker.size}<br>Latitude=%{lat}<br>Longitude=%{lon}<extra></extra>\", \"lat\": [-28.3859], \"legendgroup\": \"Lauro Muller\", \"lon\": [-49.4035], \"marker\": {\"color\": \"#ab63fa\", \"size\": [10], \"sizemode\": \"area\", \"sizeref\": 2.1525}, \"mode\": \"markers\", \"name\": \"Lauro Muller\", \"showlegend\": true, \"subplot\": \"mapbox\", \"type\": \"scattermapbox\"}, {\"hovertemplate\": \"Cidade=Lebon R\\u00e9gis<br>Total Equipamentos=%{marker.size}<br>Latitude=%{lat}<br>Longitude=%{lon}<extra></extra>\", \"lat\": [-26.928], \"legendgroup\": \"Lebon R\\u00e9gis\", \"lon\": [-50.6921], \"marker\": {\"color\": \"#FFA15A\", \"size\": [2], \"sizemode\": \"area\", \"sizeref\": 2.1525}, \"mode\": \"markers\", \"name\": \"Lebon R\\u00e9gis\", \"showlegend\": true, \"subplot\": \"mapbox\", \"type\": \"scattermapbox\"}, {\"hovertemplate\": \"Cidade=Leoberto Leal<br>Total Equipamentos=%{marker.size}<br>Latitude=%{lat}<br>Longitude=%{lon}<extra></extra>\", \"lat\": [-27.5081], \"legendgroup\": \"Leoberto Leal\", \"lon\": [-49.2789], \"marker\": {\"color\": \"#19d3f3\", \"size\": [2], \"sizemode\": \"area\", \"sizeref\": 2.1525}, \"mode\": \"markers\", \"name\": \"Leoberto Leal\", \"showlegend\": true, \"subplot\": \"mapbox\", \"type\": \"scattermapbox\"}, {\"hovertemplate\": \"Cidade=Lind\\u00f3ia do Sul<br>Total Equipamentos=%{marker.size}<br>Latitude=%{lat}<br>Longitude=%{lon}<extra></extra>\", \"lat\": [-27.0545], \"legendgroup\": \"Lind\\u00f3ia do Sul\", \"lon\": [-52.068999999999996], \"marker\": {\"color\": \"#FF6692\", \"size\": [4], \"sizemode\": \"area\", \"sizeref\": 2.1525}, \"mode\": \"markers\", \"name\": \"Lind\\u00f3ia do Sul\", \"showlegend\": true, \"subplot\": \"mapbox\", \"type\": \"scattermapbox\"}, {\"hovertemplate\": \"Cidade=Lontras<br>Total Equipamentos=%{marker.size}<br>Latitude=%{lat}<br>Longitude=%{lon}<extra></extra>\", \"lat\": [-27.1684], \"legendgroup\": \"Lontras\", \"lon\": [-49.535], \"marker\": {\"color\": \"#B6E880\", \"size\": [5], \"sizemode\": \"area\", \"sizeref\": 2.1525}, \"mode\": \"markers\", \"name\": \"Lontras\", \"showlegend\": true, \"subplot\": \"mapbox\", \"type\": \"scattermapbox\"}, {\"hovertemplate\": \"Cidade=Luiz Alves<br>Total Equipamentos=%{marker.size}<br>Latitude=%{lat}<br>Longitude=%{lon}<extra></extra>\", \"lat\": [-26.7151], \"legendgroup\": \"Luiz Alves\", \"lon\": [-48.9322], \"marker\": {\"color\": \"#FF97FF\", \"size\": [9], \"sizemode\": \"area\", \"sizeref\": 2.1525}, \"mode\": \"markers\", \"name\": \"Luiz Alves\", \"showlegend\": true, \"subplot\": \"mapbox\", \"type\": \"scattermapbox\"}, {\"hovertemplate\": \"Cidade=Luzerna<br>Total Equipamentos=%{marker.size}<br>Latitude=%{lat}<br>Longitude=%{lon}<extra></extra>\", \"lat\": [-27.1304], \"legendgroup\": \"Luzerna\", \"lon\": [-51.4682], \"marker\": {\"color\": \"#FECB52\", \"size\": [2], \"sizemode\": \"area\", \"sizeref\": 2.1525}, \"mode\": \"markers\", \"name\": \"Luzerna\", \"showlegend\": true, \"subplot\": \"mapbox\", \"type\": \"scattermapbox\"}, {\"hovertemplate\": \"Cidade=Mafra<br>Total Equipamentos=%{marker.size}<br>Latitude=%{lat}<br>Longitude=%{lon}<extra></extra>\", \"lat\": [-26.1159], \"legendgroup\": \"Mafra\", \"lon\": [-49.8086], \"marker\": {\"color\": \"#636efa\", \"size\": [33], \"sizemode\": \"area\", \"sizeref\": 2.1525}, \"mode\": \"markers\", \"name\": \"Mafra\", \"showlegend\": true, \"subplot\": \"mapbox\", \"type\": \"scattermapbox\"}, {\"hovertemplate\": \"Cidade=Major Gercino<br>Total Equipamentos=%{marker.size}<br>Latitude=%{lat}<br>Longitude=%{lon}<extra></extra>\", \"lat\": [-27.4192], \"legendgroup\": \"Major Gercino\", \"lon\": [-48.9488], \"marker\": {\"color\": \"#EF553B\", \"size\": [1], \"sizemode\": \"area\", \"sizeref\": 2.1525}, \"mode\": \"markers\", \"name\": \"Major Gercino\", \"showlegend\": true, \"subplot\": \"mapbox\", \"type\": \"scattermapbox\"}, {\"hovertemplate\": \"Cidade=Major Vieira<br>Total Equipamentos=%{marker.size}<br>Latitude=%{lat}<br>Longitude=%{lon}<extra></extra>\", \"lat\": [-26.3709], \"legendgroup\": \"Major Vieira\", \"lon\": [-50.3266], \"marker\": {\"color\": \"#00cc96\", \"size\": [5], \"sizemode\": \"area\", \"sizeref\": 2.1525}, \"mode\": \"markers\", \"name\": \"Major Vieira\", \"showlegend\": true, \"subplot\": \"mapbox\", \"type\": \"scattermapbox\"}, {\"hovertemplate\": \"Cidade=Maracaj\\u00e1<br>Total Equipamentos=%{marker.size}<br>Latitude=%{lat}<br>Longitude=%{lon}<extra></extra>\", \"lat\": [-28.8463], \"legendgroup\": \"Maracaj\\u00e1\", \"lon\": [-49.4605], \"marker\": {\"color\": \"#ab63fa\", \"size\": [2], \"sizemode\": \"area\", \"sizeref\": 2.1525}, \"mode\": \"markers\", \"name\": \"Maracaj\\u00e1\", \"showlegend\": true, \"subplot\": \"mapbox\", \"type\": \"scattermapbox\"}, {\"hovertemplate\": \"Cidade=Maravilha<br>Total Equipamentos=%{marker.size}<br>Latitude=%{lat}<br>Longitude=%{lon}<extra></extra>\", \"lat\": [-26.7665], \"legendgroup\": \"Maravilha\", \"lon\": [-53.1737], \"marker\": {\"color\": \"#FFA15A\", \"size\": [33], \"sizemode\": \"area\", \"sizeref\": 2.1525}, \"mode\": \"markers\", \"name\": \"Maravilha\", \"showlegend\": true, \"subplot\": \"mapbox\", \"type\": \"scattermapbox\"}, {\"hovertemplate\": \"Cidade=Marema<br>Total Equipamentos=%{marker.size}<br>Latitude=%{lat}<br>Longitude=%{lon}<extra></extra>\", \"lat\": [-26.8024], \"legendgroup\": \"Marema\", \"lon\": [-52.6264], \"marker\": {\"color\": \"#19d3f3\", \"size\": [1], \"sizemode\": \"area\", \"sizeref\": 2.1525}, \"mode\": \"markers\", \"name\": \"Marema\", \"showlegend\": true, \"subplot\": \"mapbox\", \"type\": \"scattermapbox\"}, {\"hovertemplate\": \"Cidade=Massaranduba<br>Total Equipamentos=%{marker.size}<br>Latitude=%{lat}<br>Longitude=%{lon}<extra></extra>\", \"lat\": [-26.6109], \"legendgroup\": \"Massaranduba\", \"lon\": [-49.0054], \"marker\": {\"color\": \"#FF6692\", \"size\": [6], \"sizemode\": \"area\", \"sizeref\": 2.1525}, \"mode\": \"markers\", \"name\": \"Massaranduba\", \"showlegend\": true, \"subplot\": \"mapbox\", \"type\": \"scattermapbox\"}, {\"hovertemplate\": \"Cidade=Meleiro<br>Total Equipamentos=%{marker.size}<br>Latitude=%{lat}<br>Longitude=%{lon}<extra></extra>\", \"lat\": [-28.8244], \"legendgroup\": \"Meleiro\", \"lon\": [-49.6378], \"marker\": {\"color\": \"#B6E880\", \"size\": [7], \"sizemode\": \"area\", \"sizeref\": 2.1525}, \"mode\": \"markers\", \"name\": \"Meleiro\", \"showlegend\": true, \"subplot\": \"mapbox\", \"type\": \"scattermapbox\"}, {\"hovertemplate\": \"Cidade=Modelo<br>Total Equipamentos=%{marker.size}<br>Latitude=%{lat}<br>Longitude=%{lon}<extra></extra>\", \"lat\": [-26.7729], \"legendgroup\": \"Modelo\", \"lon\": [-53.04], \"marker\": {\"color\": \"#FF97FF\", \"size\": [2], \"sizemode\": \"area\", \"sizeref\": 2.1525}, \"mode\": \"markers\", \"name\": \"Modelo\", \"showlegend\": true, \"subplot\": \"mapbox\", \"type\": \"scattermapbox\"}, {\"hovertemplate\": \"Cidade=Monda\\u00ed<br>Total Equipamentos=%{marker.size}<br>Latitude=%{lat}<br>Longitude=%{lon}<extra></extra>\", \"lat\": [-27.1008], \"legendgroup\": \"Monda\\u00ed\", \"lon\": [-53.4032], \"marker\": {\"color\": \"#FECB52\", \"size\": [7], \"sizemode\": \"area\", \"sizeref\": 2.1525}, \"mode\": \"markers\", \"name\": \"Monda\\u00ed\", \"showlegend\": true, \"subplot\": \"mapbox\", \"type\": \"scattermapbox\"}, {\"hovertemplate\": \"Cidade=Monte Carlo<br>Total Equipamentos=%{marker.size}<br>Latitude=%{lat}<br>Longitude=%{lon}<extra></extra>\", \"lat\": [-27.2239], \"legendgroup\": \"Monte Carlo\", \"lon\": [-50.9808], \"marker\": {\"color\": \"#636efa\", \"size\": [1], \"sizemode\": \"area\", \"sizeref\": 2.1525}, \"mode\": \"markers\", \"name\": \"Monte Carlo\", \"showlegend\": true, \"subplot\": \"mapbox\", \"type\": \"scattermapbox\"}, {\"hovertemplate\": \"Cidade=Monte Castelo<br>Total Equipamentos=%{marker.size}<br>Latitude=%{lat}<br>Longitude=%{lon}<extra></extra>\", \"lat\": [-26.461], \"legendgroup\": \"Monte Castelo\", \"lon\": [-50.2327], \"marker\": {\"color\": \"#EF553B\", \"size\": [4], \"sizemode\": \"area\", \"sizeref\": 2.1525}, \"mode\": \"markers\", \"name\": \"Monte Castelo\", \"showlegend\": true, \"subplot\": \"mapbox\", \"type\": \"scattermapbox\"}, {\"hovertemplate\": \"Cidade=Morro da Fuma\\u00e7a<br>Total Equipamentos=%{marker.size}<br>Latitude=%{lat}<br>Longitude=%{lon}<extra></extra>\", \"lat\": [-28.6511], \"legendgroup\": \"Morro da Fuma\\u00e7a\", \"lon\": [-49.2169], \"marker\": {\"color\": \"#00cc96\", \"size\": [6], \"sizemode\": \"area\", \"sizeref\": 2.1525}, \"mode\": \"markers\", \"name\": \"Morro da Fuma\\u00e7a\", \"showlegend\": true, \"subplot\": \"mapbox\", \"type\": \"scattermapbox\"}, {\"hovertemplate\": \"Cidade=Morro Grande<br>Total Equipamentos=%{marker.size}<br>Latitude=%{lat}<br>Longitude=%{lon}<extra></extra>\", \"lat\": [-28.8006], \"legendgroup\": \"Morro Grande\", \"lon\": [-49.7214], \"marker\": {\"color\": \"#ab63fa\", \"size\": [2], \"sizemode\": \"area\", \"sizeref\": 2.1525}, \"mode\": \"markers\", \"name\": \"Morro Grande\", \"showlegend\": true, \"subplot\": \"mapbox\", \"type\": \"scattermapbox\"}, {\"hovertemplate\": \"Cidade=Navegantes<br>Total Equipamentos=%{marker.size}<br>Latitude=%{lat}<br>Longitude=%{lon}<extra></extra>\", \"lat\": [-26.8943], \"legendgroup\": \"Navegantes\", \"lon\": [-48.6546], \"marker\": {\"color\": \"#FFA15A\", \"size\": [44], \"sizemode\": \"area\", \"sizeref\": 2.1525}, \"mode\": \"markers\", \"name\": \"Navegantes\", \"showlegend\": true, \"subplot\": \"mapbox\", \"type\": \"scattermapbox\"}, {\"hovertemplate\": \"Cidade=Nova Erechim<br>Total Equipamentos=%{marker.size}<br>Latitude=%{lat}<br>Longitude=%{lon}<extra></extra>\", \"lat\": [-26.8982], \"legendgroup\": \"Nova Erechim\", \"lon\": [-52.9066], \"marker\": {\"color\": \"#19d3f3\", \"size\": [10], \"sizemode\": \"area\", \"sizeref\": 2.1525}, \"mode\": \"markers\", \"name\": \"Nova Erechim\", \"showlegend\": true, \"subplot\": \"mapbox\", \"type\": \"scattermapbox\"}, {\"hovertemplate\": \"Cidade=Nova Trento<br>Total Equipamentos=%{marker.size}<br>Latitude=%{lat}<br>Longitude=%{lon}<extra></extra>\", \"lat\": [-27.278000000000002], \"legendgroup\": \"Nova Trento\", \"lon\": [-48.9298], \"marker\": {\"color\": \"#FF6692\", \"size\": [12], \"sizemode\": \"area\", \"sizeref\": 2.1525}, \"mode\": \"markers\", \"name\": \"Nova Trento\", \"showlegend\": true, \"subplot\": \"mapbox\", \"type\": \"scattermapbox\"}, {\"hovertemplate\": \"Cidade=Nova Veneza<br>Total Equipamentos=%{marker.size}<br>Latitude=%{lat}<br>Longitude=%{lon}<extra></extra>\", \"lat\": [-28.6338], \"legendgroup\": \"Nova Veneza\", \"lon\": [-49.5055], \"marker\": {\"color\": \"#B6E880\", \"size\": [12], \"sizemode\": \"area\", \"sizeref\": 2.1525}, \"mode\": \"markers\", \"name\": \"Nova Veneza\", \"showlegend\": true, \"subplot\": \"mapbox\", \"type\": \"scattermapbox\"}, {\"hovertemplate\": \"Cidade=Orleans<br>Total Equipamentos=%{marker.size}<br>Latitude=%{lat}<br>Longitude=%{lon}<extra></extra>\", \"lat\": [-28.3487], \"legendgroup\": \"Orleans\", \"lon\": [-49.2986], \"marker\": {\"color\": \"#FF97FF\", \"size\": [27], \"sizemode\": \"area\", \"sizeref\": 2.1525}, \"mode\": \"markers\", \"name\": \"Orleans\", \"showlegend\": true, \"subplot\": \"mapbox\", \"type\": \"scattermapbox\"}, {\"hovertemplate\": \"Cidade=Otac\\u00edlio Costa<br>Total Equipamentos=%{marker.size}<br>Latitude=%{lat}<br>Longitude=%{lon}<extra></extra>\", \"lat\": [-27.4789], \"legendgroup\": \"Otac\\u00edlio Costa\", \"lon\": [-50.1231], \"marker\": {\"color\": \"#FECB52\", \"size\": [6], \"sizemode\": \"area\", \"sizeref\": 2.1525}, \"mode\": \"markers\", \"name\": \"Otac\\u00edlio Costa\", \"showlegend\": true, \"subplot\": \"mapbox\", \"type\": \"scattermapbox\"}, {\"hovertemplate\": \"Cidade=Ouro<br>Total Equipamentos=%{marker.size}<br>Latitude=%{lat}<br>Longitude=%{lon}<extra></extra>\", \"lat\": [-27.3379], \"legendgroup\": \"Ouro\", \"lon\": [-51.6194], \"marker\": {\"color\": \"#636efa\", \"size\": [2], \"sizemode\": \"area\", \"sizeref\": 2.1525}, \"mode\": \"markers\", \"name\": \"Ouro\", \"showlegend\": true, \"subplot\": \"mapbox\", \"type\": \"scattermapbox\"}, {\"hovertemplate\": \"Cidade=Paial<br>Total Equipamentos=%{marker.size}<br>Latitude=%{lat}<br>Longitude=%{lon}<extra></extra>\", \"lat\": [-27.2541], \"legendgroup\": \"Paial\", \"lon\": [-52.4975], \"marker\": {\"color\": \"#EF553B\", \"size\": [2], \"sizemode\": \"area\", \"sizeref\": 2.1525}, \"mode\": \"markers\", \"name\": \"Paial\", \"showlegend\": true, \"subplot\": \"mapbox\", \"type\": \"scattermapbox\"}, {\"hovertemplate\": \"Cidade=Palho\\u00e7a<br>Total Equipamentos=%{marker.size}<br>Latitude=%{lat}<br>Longitude=%{lon}<extra></extra>\", \"lat\": [-27.6455], \"legendgroup\": \"Palho\\u00e7a\", \"lon\": [-48.6697], \"marker\": {\"color\": \"#00cc96\", \"size\": [90], \"sizemode\": \"area\", \"sizeref\": 2.1525}, \"mode\": \"markers\", \"name\": \"Palho\\u00e7a\", \"showlegend\": true, \"subplot\": \"mapbox\", \"type\": \"scattermapbox\"}, {\"hovertemplate\": \"Cidade=Palma Sola<br>Total Equipamentos=%{marker.size}<br>Latitude=%{lat}<br>Longitude=%{lon}<extra></extra>\", \"lat\": [-26.3471], \"legendgroup\": \"Palma Sola\", \"lon\": [-53.2771], \"marker\": {\"color\": \"#ab63fa\", \"size\": [5], \"sizemode\": \"area\", \"sizeref\": 2.1525}, \"mode\": \"markers\", \"name\": \"Palma Sola\", \"showlegend\": true, \"subplot\": \"mapbox\", \"type\": \"scattermapbox\"}, {\"hovertemplate\": \"Cidade=Palmitos<br>Total Equipamentos=%{marker.size}<br>Latitude=%{lat}<br>Longitude=%{lon}<extra></extra>\", \"lat\": [-27.0702], \"legendgroup\": \"Palmitos\", \"lon\": [-53.1586], \"marker\": {\"color\": \"#FFA15A\", \"size\": [15], \"sizemode\": \"area\", \"sizeref\": 2.1525}, \"mode\": \"markers\", \"name\": \"Palmitos\", \"showlegend\": true, \"subplot\": \"mapbox\", \"type\": \"scattermapbox\"}, {\"hovertemplate\": \"Cidade=Papanduva<br>Total Equipamentos=%{marker.size}<br>Latitude=%{lat}<br>Longitude=%{lon}<extra></extra>\", \"lat\": [-26.3777], \"legendgroup\": \"Papanduva\", \"lon\": [-50.1419], \"marker\": {\"color\": \"#19d3f3\", \"size\": [8], \"sizemode\": \"area\", \"sizeref\": 2.1525}, \"mode\": \"markers\", \"name\": \"Papanduva\", \"showlegend\": true, \"subplot\": \"mapbox\", \"type\": \"scattermapbox\"}, {\"hovertemplate\": \"Cidade=Para\\u00edso<br>Total Equipamentos=%{marker.size}<br>Latitude=%{lat}<br>Longitude=%{lon}<extra></extra>\", \"lat\": [-26.62], \"legendgroup\": \"Para\\u00edso\", \"lon\": [-53.6716], \"marker\": {\"color\": \"#FF6692\", \"size\": [2], \"sizemode\": \"area\", \"sizeref\": 2.1525}, \"mode\": \"markers\", \"name\": \"Para\\u00edso\", \"showlegend\": true, \"subplot\": \"mapbox\", \"type\": \"scattermapbox\"}, {\"hovertemplate\": \"Cidade=Passo de Torres<br>Total Equipamentos=%{marker.size}<br>Latitude=%{lat}<br>Longitude=%{lon}<extra></extra>\", \"lat\": [-29.3099], \"legendgroup\": \"Passo de Torres\", \"lon\": [-49.722], \"marker\": {\"color\": \"#B6E880\", \"size\": [1], \"sizemode\": \"area\", \"sizeref\": 2.1525}, \"mode\": \"markers\", \"name\": \"Passo de Torres\", \"showlegend\": true, \"subplot\": \"mapbox\", \"type\": \"scattermapbox\"}, {\"hovertemplate\": \"Cidade=Passos Maia<br>Total Equipamentos=%{marker.size}<br>Latitude=%{lat}<br>Longitude=%{lon}<extra></extra>\", \"lat\": [-26.7829], \"legendgroup\": \"Passos Maia\", \"lon\": [-52.0568], \"marker\": {\"color\": \"#FF97FF\", \"size\": [1], \"sizemode\": \"area\", \"sizeref\": 2.1525}, \"mode\": \"markers\", \"name\": \"Passos Maia\", \"showlegend\": true, \"subplot\": \"mapbox\", \"type\": \"scattermapbox\"}, {\"hovertemplate\": \"Cidade=Paulo Lopes<br>Total Equipamentos=%{marker.size}<br>Latitude=%{lat}<br>Longitude=%{lon}<extra></extra>\", \"lat\": [-27.9607], \"legendgroup\": \"Paulo Lopes\", \"lon\": [-48.6864], \"marker\": {\"color\": \"#FECB52\", \"size\": [2], \"sizemode\": \"area\", \"sizeref\": 2.1525}, \"mode\": \"markers\", \"name\": \"Paulo Lopes\", \"showlegend\": true, \"subplot\": \"mapbox\", \"type\": \"scattermapbox\"}, {\"hovertemplate\": \"Cidade=Pedras Grandes<br>Total Equipamentos=%{marker.size}<br>Latitude=%{lat}<br>Longitude=%{lon}<extra></extra>\", \"lat\": [-28.4339], \"legendgroup\": \"Pedras Grandes\", \"lon\": [-49.1949], \"marker\": {\"color\": \"#636efa\", \"size\": [1], \"sizemode\": \"area\", \"sizeref\": 2.1525}, \"mode\": \"markers\", \"name\": \"Pedras Grandes\", \"showlegend\": true, \"subplot\": \"mapbox\", \"type\": \"scattermapbox\"}, {\"hovertemplate\": \"Cidade=Penha<br>Total Equipamentos=%{marker.size}<br>Latitude=%{lat}<br>Longitude=%{lon}<extra></extra>\", \"lat\": [-26.7754], \"legendgroup\": \"Penha\", \"lon\": [-48.6465], \"marker\": {\"color\": \"#EF553B\", \"size\": [7], \"sizemode\": \"area\", \"sizeref\": 2.1525}, \"mode\": \"markers\", \"name\": \"Penha\", \"showlegend\": true, \"subplot\": \"mapbox\", \"type\": \"scattermapbox\"}, {\"hovertemplate\": \"Cidade=Peritiba<br>Total Equipamentos=%{marker.size}<br>Latitude=%{lat}<br>Longitude=%{lon}<extra></extra>\", \"lat\": [-27.3754], \"legendgroup\": \"Peritiba\", \"lon\": [-51.9018], \"marker\": {\"color\": \"#00cc96\", \"size\": [1], \"sizemode\": \"area\", \"sizeref\": 2.1525}, \"mode\": \"markers\", \"name\": \"Peritiba\", \"showlegend\": true, \"subplot\": \"mapbox\", \"type\": \"scattermapbox\"}, {\"hovertemplate\": \"Cidade=Petrol\\u00e2ndia<br>Total Equipamentos=%{marker.size}<br>Latitude=%{lat}<br>Longitude=%{lon}<extra></extra>\", \"lat\": [-27.5346], \"legendgroup\": \"Petrol\\u00e2ndia\", \"lon\": [-49.6937], \"marker\": {\"color\": \"#ab63fa\", \"size\": [3], \"sizemode\": \"area\", \"sizeref\": 2.1525}, \"mode\": \"markers\", \"name\": \"Petrol\\u00e2ndia\", \"showlegend\": true, \"subplot\": \"mapbox\", \"type\": \"scattermapbox\"}, {\"hovertemplate\": \"Cidade=Pinhalzinho<br>Total Equipamentos=%{marker.size}<br>Latitude=%{lat}<br>Longitude=%{lon}<extra></extra>\", \"lat\": [-26.8495], \"legendgroup\": \"Pinhalzinho\", \"lon\": [-52.9913], \"marker\": {\"color\": \"#FFA15A\", \"size\": [40], \"sizemode\": \"area\", \"sizeref\": 2.1525}, \"mode\": \"markers\", \"name\": \"Pinhalzinho\", \"showlegend\": true, \"subplot\": \"mapbox\", \"type\": \"scattermapbox\"}, {\"hovertemplate\": \"Cidade=Piratuba<br>Total Equipamentos=%{marker.size}<br>Latitude=%{lat}<br>Longitude=%{lon}<extra></extra>\", \"lat\": [-27.4242], \"legendgroup\": \"Piratuba\", \"lon\": [-51.7668], \"marker\": {\"color\": \"#19d3f3\", \"size\": [1], \"sizemode\": \"area\", \"sizeref\": 2.1525}, \"mode\": \"markers\", \"name\": \"Piratuba\", \"showlegend\": true, \"subplot\": \"mapbox\", \"type\": \"scattermapbox\"}, {\"hovertemplate\": \"Cidade=Planalto Alegre<br>Total Equipamentos=%{marker.size}<br>Latitude=%{lat}<br>Longitude=%{lon}<extra></extra>\", \"lat\": [-27.0704], \"legendgroup\": \"Planalto Alegre\", \"lon\": [-52.867], \"marker\": {\"color\": \"#FF6692\", \"size\": [1], \"sizemode\": \"area\", \"sizeref\": 2.1525}, \"mode\": \"markers\", \"name\": \"Planalto Alegre\", \"showlegend\": true, \"subplot\": \"mapbox\", \"type\": \"scattermapbox\"}, {\"hovertemplate\": \"Cidade=Pomerode<br>Total Equipamentos=%{marker.size}<br>Latitude=%{lat}<br>Longitude=%{lon}<extra></extra>\", \"lat\": [-26.7384], \"legendgroup\": \"Pomerode\", \"lon\": [-49.1785], \"marker\": {\"color\": \"#B6E880\", \"size\": [13], \"sizemode\": \"area\", \"sizeref\": 2.1525}, \"mode\": \"markers\", \"name\": \"Pomerode\", \"showlegend\": true, \"subplot\": \"mapbox\", \"type\": \"scattermapbox\"}, {\"hovertemplate\": \"Cidade=Ponte Alta do Norte<br>Total Equipamentos=%{marker.size}<br>Latitude=%{lat}<br>Longitude=%{lon}<extra></extra>\", \"lat\": [-27.1591], \"legendgroup\": \"Ponte Alta do Norte\", \"lon\": [-50.4659], \"marker\": {\"color\": \"#FF97FF\", \"size\": [4], \"sizemode\": \"area\", \"sizeref\": 2.1525}, \"mode\": \"markers\", \"name\": \"Ponte Alta do Norte\", \"showlegend\": true, \"subplot\": \"mapbox\", \"type\": \"scattermapbox\"}, {\"hovertemplate\": \"Cidade=Ponte Serrada<br>Total Equipamentos=%{marker.size}<br>Latitude=%{lat}<br>Longitude=%{lon}<extra></extra>\", \"lat\": [-26.8733], \"legendgroup\": \"Ponte Serrada\", \"lon\": [-52.0112], \"marker\": {\"color\": \"#FECB52\", \"size\": [17], \"sizemode\": \"area\", \"sizeref\": 2.1525}, \"mode\": \"markers\", \"name\": \"Ponte Serrada\", \"showlegend\": true, \"subplot\": \"mapbox\", \"type\": \"scattermapbox\"}, {\"hovertemplate\": \"Cidade=Porto Belo<br>Total Equipamentos=%{marker.size}<br>Latitude=%{lat}<br>Longitude=%{lon}<extra></extra>\", \"lat\": [-27.1586], \"legendgroup\": \"Porto Belo\", \"lon\": [-48.5469], \"marker\": {\"color\": \"#636efa\", \"size\": [22], \"sizemode\": \"area\", \"sizeref\": 2.1525}, \"mode\": \"markers\", \"name\": \"Porto Belo\", \"showlegend\": true, \"subplot\": \"mapbox\", \"type\": \"scattermapbox\"}, {\"hovertemplate\": \"Cidade=Porto Uni\\u00e3o<br>Total Equipamentos=%{marker.size}<br>Latitude=%{lat}<br>Longitude=%{lon}<extra></extra>\", \"lat\": [-26.2451], \"legendgroup\": \"Porto Uni\\u00e3o\", \"lon\": [-51.0759], \"marker\": {\"color\": \"#EF553B\", \"size\": [38], \"sizemode\": \"area\", \"sizeref\": 2.1525}, \"mode\": \"markers\", \"name\": \"Porto Uni\\u00e3o\", \"showlegend\": true, \"subplot\": \"mapbox\", \"type\": \"scattermapbox\"}, {\"hovertemplate\": \"Cidade=Pouso Redondo<br>Total Equipamentos=%{marker.size}<br>Latitude=%{lat}<br>Longitude=%{lon}<extra></extra>\", \"lat\": [-27.2567], \"legendgroup\": \"Pouso Redondo\", \"lon\": [-49.9301], \"marker\": {\"color\": \"#00cc96\", \"size\": [8], \"sizemode\": \"area\", \"sizeref\": 2.1525}, \"mode\": \"markers\", \"name\": \"Pouso Redondo\", \"showlegend\": true, \"subplot\": \"mapbox\", \"type\": \"scattermapbox\"}, {\"hovertemplate\": \"Cidade=Praia Grande<br>Total Equipamentos=%{marker.size}<br>Latitude=%{lat}<br>Longitude=%{lon}<extra></extra>\", \"lat\": [-29.1918], \"legendgroup\": \"Praia Grande\", \"lon\": [-49.9525], \"marker\": {\"color\": \"#ab63fa\", \"size\": [9], \"sizemode\": \"area\", \"sizeref\": 2.1525}, \"mode\": \"markers\", \"name\": \"Praia Grande\", \"showlegend\": true, \"subplot\": \"mapbox\", \"type\": \"scattermapbox\"}, {\"hovertemplate\": \"Cidade=Presidente Castello Branco<br>Total Equipamentos=%{marker.size}<br>Latitude=%{lat}<br>Longitude=%{lon}<extra></extra>\", \"lat\": [-27.2218], \"legendgroup\": \"Presidente Castello Branco\", \"lon\": [-51.8089], \"marker\": {\"color\": \"#FFA15A\", \"size\": [1], \"sizemode\": \"area\", \"sizeref\": 2.1525}, \"mode\": \"markers\", \"name\": \"Presidente Castello Branco\", \"showlegend\": true, \"subplot\": \"mapbox\", \"type\": \"scattermapbox\"}, {\"hovertemplate\": \"Cidade=Presidente Get\\u00falio<br>Total Equipamentos=%{marker.size}<br>Latitude=%{lat}<br>Longitude=%{lon}<extra></extra>\", \"lat\": [-27.0474], \"legendgroup\": \"Presidente Get\\u00falio\", \"lon\": [-49.6246], \"marker\": {\"color\": \"#19d3f3\", \"size\": [11], \"sizemode\": \"area\", \"sizeref\": 2.1525}, \"mode\": \"markers\", \"name\": \"Presidente Get\\u00falio\", \"showlegend\": true, \"subplot\": \"mapbox\", \"type\": \"scattermapbox\"}, {\"hovertemplate\": \"Cidade=Princesa<br>Total Equipamentos=%{marker.size}<br>Latitude=%{lat}<br>Longitude=%{lon}<extra></extra>\", \"lat\": [-26.4441], \"legendgroup\": \"Princesa\", \"lon\": [-53.5994], \"marker\": {\"color\": \"#FF6692\", \"size\": [1], \"sizemode\": \"area\", \"sizeref\": 2.1525}, \"mode\": \"markers\", \"name\": \"Princesa\", \"showlegend\": true, \"subplot\": \"mapbox\", \"type\": \"scattermapbox\"}, {\"hovertemplate\": \"Cidade=Quilombo<br>Total Equipamentos=%{marker.size}<br>Latitude=%{lat}<br>Longitude=%{lon}<extra></extra>\", \"lat\": [-26.7264], \"legendgroup\": \"Quilombo\", \"lon\": [-52.724], \"marker\": {\"color\": \"#B6E880\", \"size\": [7], \"sizemode\": \"area\", \"sizeref\": 2.1525}, \"mode\": \"markers\", \"name\": \"Quilombo\", \"showlegend\": true, \"subplot\": \"mapbox\", \"type\": \"scattermapbox\"}, {\"hovertemplate\": \"Cidade=Rancho Queimado<br>Total Equipamentos=%{marker.size}<br>Latitude=%{lat}<br>Longitude=%{lon}<extra></extra>\", \"lat\": [-27.6727], \"legendgroup\": \"Rancho Queimado\", \"lon\": [-49.0191], \"marker\": {\"color\": \"#FF97FF\", \"size\": [3], \"sizemode\": \"area\", \"sizeref\": 2.1525}, \"mode\": \"markers\", \"name\": \"Rancho Queimado\", \"showlegend\": true, \"subplot\": \"mapbox\", \"type\": \"scattermapbox\"}, {\"hovertemplate\": \"Cidade=Rio do Campo<br>Total Equipamentos=%{marker.size}<br>Latitude=%{lat}<br>Longitude=%{lon}<extra></extra>\", \"lat\": [-26.9452], \"legendgroup\": \"Rio do Campo\", \"lon\": [-50.136], \"marker\": {\"color\": \"#FECB52\", \"size\": [3], \"sizemode\": \"area\", \"sizeref\": 2.1525}, \"mode\": \"markers\", \"name\": \"Rio do Campo\", \"showlegend\": true, \"subplot\": \"mapbox\", \"type\": \"scattermapbox\"}, {\"hovertemplate\": \"Cidade=Rio do Oeste<br>Total Equipamentos=%{marker.size}<br>Latitude=%{lat}<br>Longitude=%{lon}<extra></extra>\", \"lat\": [-27.1952], \"legendgroup\": \"Rio do Oeste\", \"lon\": [-49.7989], \"marker\": {\"color\": \"#636efa\", \"size\": [2], \"sizemode\": \"area\", \"sizeref\": 2.1525}, \"mode\": \"markers\", \"name\": \"Rio do Oeste\", \"showlegend\": true, \"subplot\": \"mapbox\", \"type\": \"scattermapbox\"}, {\"hovertemplate\": \"Cidade=Rio do Sul<br>Total Equipamentos=%{marker.size}<br>Latitude=%{lat}<br>Longitude=%{lon}<extra></extra>\", \"lat\": [-27.2156], \"legendgroup\": \"Rio do Sul\", \"lon\": [-49.643], \"marker\": {\"color\": \"#EF553B\", \"size\": [69], \"sizemode\": \"area\", \"sizeref\": 2.1525}, \"mode\": \"markers\", \"name\": \"Rio do Sul\", \"showlegend\": true, \"subplot\": \"mapbox\", \"type\": \"scattermapbox\"}, {\"hovertemplate\": \"Cidade=Rio dos Cedros<br>Total Equipamentos=%{marker.size}<br>Latitude=%{lat}<br>Longitude=%{lon}<extra></extra>\", \"lat\": [-26.7398], \"legendgroup\": \"Rio dos Cedros\", \"lon\": [-49.2718], \"marker\": {\"color\": \"#00cc96\", \"size\": [4], \"sizemode\": \"area\", \"sizeref\": 2.1525}, \"mode\": \"markers\", \"name\": \"Rio dos Cedros\", \"showlegend\": true, \"subplot\": \"mapbox\", \"type\": \"scattermapbox\"}, {\"hovertemplate\": \"Cidade=Rio Fortuna<br>Total Equipamentos=%{marker.size}<br>Latitude=%{lat}<br>Longitude=%{lon}<extra></extra>\", \"lat\": [-28.1244], \"legendgroup\": \"Rio Fortuna\", \"lon\": [-49.1068], \"marker\": {\"color\": \"#ab63fa\", \"size\": [2], \"sizemode\": \"area\", \"sizeref\": 2.1525}, \"mode\": \"markers\", \"name\": \"Rio Fortuna\", \"showlegend\": true, \"subplot\": \"mapbox\", \"type\": \"scattermapbox\"}, {\"hovertemplate\": \"Cidade=Rio Negrinho<br>Total Equipamentos=%{marker.size}<br>Latitude=%{lat}<br>Longitude=%{lon}<extra></extra>\", \"lat\": [-26.2591], \"legendgroup\": \"Rio Negrinho\", \"lon\": [-49.5177], \"marker\": {\"color\": \"#FFA15A\", \"size\": [25], \"sizemode\": \"area\", \"sizeref\": 2.1525}, \"mode\": \"markers\", \"name\": \"Rio Negrinho\", \"showlegend\": true, \"subplot\": \"mapbox\", \"type\": \"scattermapbox\"}, {\"hovertemplate\": \"Cidade=Riqueza<br>Total Equipamentos=%{marker.size}<br>Latitude=%{lat}<br>Longitude=%{lon}<extra></extra>\", \"lat\": [-27.0653], \"legendgroup\": \"Riqueza\", \"lon\": [-53.3265], \"marker\": {\"color\": \"#19d3f3\", \"size\": [2], \"sizemode\": \"area\", \"sizeref\": 2.1525}, \"mode\": \"markers\", \"name\": \"Riqueza\", \"showlegend\": true, \"subplot\": \"mapbox\", \"type\": \"scattermapbox\"}, {\"hovertemplate\": \"Cidade=Rodeio<br>Total Equipamentos=%{marker.size}<br>Latitude=%{lat}<br>Longitude=%{lon}<extra></extra>\", \"lat\": [-26.9243], \"legendgroup\": \"Rodeio\", \"lon\": [-49.3649], \"marker\": {\"color\": \"#FF6692\", \"size\": [5], \"sizemode\": \"area\", \"sizeref\": 2.1525}, \"mode\": \"markers\", \"name\": \"Rodeio\", \"showlegend\": true, \"subplot\": \"mapbox\", \"type\": \"scattermapbox\"}, {\"hovertemplate\": \"Cidade=Romel\\u00e2ndia<br>Total Equipamentos=%{marker.size}<br>Latitude=%{lat}<br>Longitude=%{lon}<extra></extra>\", \"lat\": [-26.6809], \"legendgroup\": \"Romel\\u00e2ndia\", \"lon\": [-53.3172], \"marker\": {\"color\": \"#B6E880\", \"size\": [4], \"sizemode\": \"area\", \"sizeref\": 2.1525}, \"mode\": \"markers\", \"name\": \"Romel\\u00e2ndia\", \"showlegend\": true, \"subplot\": \"mapbox\", \"type\": \"scattermapbox\"}, {\"hovertemplate\": \"Cidade=Salete<br>Total Equipamentos=%{marker.size}<br>Latitude=%{lat}<br>Longitude=%{lon}<extra></extra>\", \"lat\": [-26.9798], \"legendgroup\": \"Salete\", \"lon\": [-49.9988], \"marker\": {\"color\": \"#FF97FF\", \"size\": [4], \"sizemode\": \"area\", \"sizeref\": 2.1525}, \"mode\": \"markers\", \"name\": \"Salete\", \"showlegend\": true, \"subplot\": \"mapbox\", \"type\": \"scattermapbox\"}, {\"hovertemplate\": \"Cidade=Salto Veloso<br>Total Equipamentos=%{marker.size}<br>Latitude=%{lat}<br>Longitude=%{lon}<extra></extra>\", \"lat\": [-26.903000000000002], \"legendgroup\": \"Salto Veloso\", \"lon\": [-51.4043], \"marker\": {\"color\": \"#FECB52\", \"size\": [1], \"sizemode\": \"area\", \"sizeref\": 2.1525}, \"mode\": \"markers\", \"name\": \"Salto Veloso\", \"showlegend\": true, \"subplot\": \"mapbox\", \"type\": \"scattermapbox\"}, {\"hovertemplate\": \"Cidade=Sang\\u00e3o<br>Total Equipamentos=%{marker.size}<br>Latitude=%{lat}<br>Longitude=%{lon}<extra></extra>\", \"lat\": [-28.6326], \"legendgroup\": \"Sang\\u00e3o\", \"lon\": [-49.1322], \"marker\": {\"color\": \"#636efa\", \"size\": [3], \"sizemode\": \"area\", \"sizeref\": 2.1525}, \"mode\": \"markers\", \"name\": \"Sang\\u00e3o\", \"showlegend\": true, \"subplot\": \"mapbox\", \"type\": \"scattermapbox\"}, {\"hovertemplate\": \"Cidade=Santa Cec\\u00edlia<br>Total Equipamentos=%{marker.size}<br>Latitude=%{lat}<br>Longitude=%{lon}<extra></extra>\", \"lat\": [-26.9592], \"legendgroup\": \"Santa Cec\\u00edlia\", \"lon\": [-50.4252], \"marker\": {\"color\": \"#EF553B\", \"size\": [6], \"sizemode\": \"area\", \"sizeref\": 2.1525}, \"mode\": \"markers\", \"name\": \"Santa Cec\\u00edlia\", \"showlegend\": true, \"subplot\": \"mapbox\", \"type\": \"scattermapbox\"}, {\"hovertemplate\": \"Cidade=Santa Rosa do Sul<br>Total Equipamentos=%{marker.size}<br>Latitude=%{lat}<br>Longitude=%{lon}<extra></extra>\", \"lat\": [-29.1313], \"legendgroup\": \"Santa Rosa do Sul\", \"lon\": [-49.7109], \"marker\": {\"color\": \"#00cc96\", \"size\": [2], \"sizemode\": \"area\", \"sizeref\": 2.1525}, \"mode\": \"markers\", \"name\": \"Santa Rosa do Sul\", \"showlegend\": true, \"subplot\": \"mapbox\", \"type\": \"scattermapbox\"}, {\"hovertemplate\": \"Cidade=Santa Terezinha do Progresso<br>Total Equipamentos=%{marker.size}<br>Latitude=%{lat}<br>Longitude=%{lon}<extra></extra>\", \"lat\": [-26.624000000000002], \"legendgroup\": \"Santa Terezinha do Progresso\", \"lon\": [-53.1997], \"marker\": {\"color\": \"#ab63fa\", \"size\": [1], \"sizemode\": \"area\", \"sizeref\": 2.1525}, \"mode\": \"markers\", \"name\": \"Santa Terezinha do Progresso\", \"showlegend\": true, \"subplot\": \"mapbox\", \"type\": \"scattermapbox\"}, {\"hovertemplate\": \"Cidade=Santiago do Sul<br>Total Equipamentos=%{marker.size}<br>Latitude=%{lat}<br>Longitude=%{lon}<extra></extra>\", \"lat\": [-26.6388], \"legendgroup\": \"Santiago do Sul\", \"lon\": [-52.6799], \"marker\": {\"color\": \"#FFA15A\", \"size\": [1], \"sizemode\": \"area\", \"sizeref\": 2.1525}, \"mode\": \"markers\", \"name\": \"Santiago do Sul\", \"showlegend\": true, \"subplot\": \"mapbox\", \"type\": \"scattermapbox\"}, {\"hovertemplate\": \"Cidade=Santo Amaro da Imperatriz<br>Total Equipamentos=%{marker.size}<br>Latitude=%{lat}<br>Longitude=%{lon}<extra></extra>\", \"lat\": [-27.6852], \"legendgroup\": \"Santo Amaro da Imperatriz\", \"lon\": [-48.7813], \"marker\": {\"color\": \"#19d3f3\", \"size\": [22], \"sizemode\": \"area\", \"sizeref\": 2.1525}, \"mode\": \"markers\", \"name\": \"Santo Amaro da Imperatriz\", \"showlegend\": true, \"subplot\": \"mapbox\", \"type\": \"scattermapbox\"}, {\"hovertemplate\": \"Cidade=S\\u00e3o Bento do Sul<br>Total Equipamentos=%{marker.size}<br>Latitude=%{lat}<br>Longitude=%{lon}<extra></extra>\", \"lat\": [-26.2495], \"legendgroup\": \"S\\u00e3o Bento do Sul\", \"lon\": [-49.3831], \"marker\": {\"color\": \"#FF6692\", \"size\": [90], \"sizemode\": \"area\", \"sizeref\": 2.1525}, \"mode\": \"markers\", \"name\": \"S\\u00e3o Bento do Sul\", \"showlegend\": true, \"subplot\": \"mapbox\", \"type\": \"scattermapbox\"}, {\"hovertemplate\": \"Cidade=S\\u00e3o Bonif\\u00e1cio<br>Total Equipamentos=%{marker.size}<br>Latitude=%{lat}<br>Longitude=%{lon}<extra></extra>\", \"lat\": [-27.9009], \"legendgroup\": \"S\\u00e3o Bonif\\u00e1cio\", \"lon\": [-48.9326], \"marker\": {\"color\": \"#B6E880\", \"size\": [7], \"sizemode\": \"area\", \"sizeref\": 2.1525}, \"mode\": \"markers\", \"name\": \"S\\u00e3o Bonif\\u00e1cio\", \"showlegend\": true, \"subplot\": \"mapbox\", \"type\": \"scattermapbox\"}, {\"hovertemplate\": \"Cidade=S\\u00e3o Carlos<br>Total Equipamentos=%{marker.size}<br>Latitude=%{lat}<br>Longitude=%{lon}<extra></extra>\", \"lat\": [-27.0798], \"legendgroup\": \"S\\u00e3o Carlos\", \"lon\": [-53.0037], \"marker\": {\"color\": \"#FF97FF\", \"size\": [7], \"sizemode\": \"area\", \"sizeref\": 2.1525}, \"mode\": \"markers\", \"name\": \"S\\u00e3o Carlos\", \"showlegend\": true, \"subplot\": \"mapbox\", \"type\": \"scattermapbox\"}, {\"hovertemplate\": \"Cidade=S\\u00e3o Domingos<br>Total Equipamentos=%{marker.size}<br>Latitude=%{lat}<br>Longitude=%{lon}<extra></extra>\", \"lat\": [-26.5548], \"legendgroup\": \"S\\u00e3o Domingos\", \"lon\": [-52.5313], \"marker\": {\"color\": \"#FECB52\", \"size\": [4], \"sizemode\": \"area\", \"sizeref\": 2.1525}, \"mode\": \"markers\", \"name\": \"S\\u00e3o Domingos\", \"showlegend\": true, \"subplot\": \"mapbox\", \"type\": \"scattermapbox\"}, {\"hovertemplate\": \"Cidade=S\\u00e3o Francisco do Sul<br>Total Equipamentos=%{marker.size}<br>Latitude=%{lat}<br>Longitude=%{lon}<extra></extra>\", \"lat\": [-26.2579], \"legendgroup\": \"S\\u00e3o Francisco do Sul\", \"lon\": [-48.6344], \"marker\": {\"color\": \"#636efa\", \"size\": [40], \"sizemode\": \"area\", \"sizeref\": 2.1525}, \"mode\": \"markers\", \"name\": \"S\\u00e3o Francisco do Sul\", \"showlegend\": true, \"subplot\": \"mapbox\", \"type\": \"scattermapbox\"}, {\"hovertemplate\": \"Cidade=S\\u00e3o Jo\\u00e3o Batista<br>Total Equipamentos=%{marker.size}<br>Latitude=%{lat}<br>Longitude=%{lon}<extra></extra>\", \"lat\": [-27.2772], \"legendgroup\": \"S\\u00e3o Jo\\u00e3o Batista\", \"lon\": [-48.8474], \"marker\": {\"color\": \"#EF553B\", \"size\": [24], \"sizemode\": \"area\", \"sizeref\": 2.1525}, \"mode\": \"markers\", \"name\": \"S\\u00e3o Jo\\u00e3o Batista\", \"showlegend\": true, \"subplot\": \"mapbox\", \"type\": \"scattermapbox\"}, {\"hovertemplate\": \"Cidade=S\\u00e3o Jo\\u00e3o do Itaperi\\u00fa<br>Total Equipamentos=%{marker.size}<br>Latitude=%{lat}<br>Longitude=%{lon}<extra></extra>\", \"lat\": [-26.6213], \"legendgroup\": \"S\\u00e3o Jo\\u00e3o do Itaperi\\u00fa\", \"lon\": [-48.7683], \"marker\": {\"color\": \"#00cc96\", \"size\": [5], \"sizemode\": \"area\", \"sizeref\": 2.1525}, \"mode\": \"markers\", \"name\": \"S\\u00e3o Jo\\u00e3o do Itaperi\\u00fa\", \"showlegend\": true, \"subplot\": \"mapbox\", \"type\": \"scattermapbox\"}, {\"hovertemplate\": \"Cidade=S\\u00e3o Jo\\u00e3o do Oeste<br>Total Equipamentos=%{marker.size}<br>Latitude=%{lat}<br>Longitude=%{lon}<extra></extra>\", \"lat\": [-27.0984], \"legendgroup\": \"S\\u00e3o Jo\\u00e3o do Oeste\", \"lon\": [-53.5977], \"marker\": {\"color\": \"#ab63fa\", \"size\": [3], \"sizemode\": \"area\", \"sizeref\": 2.1525}, \"mode\": \"markers\", \"name\": \"S\\u00e3o Jo\\u00e3o do Oeste\", \"showlegend\": true, \"subplot\": \"mapbox\", \"type\": \"scattermapbox\"}, {\"hovertemplate\": \"Cidade=S\\u00e3o Jo\\u00e3o do Sul<br>Total Equipamentos=%{marker.size}<br>Latitude=%{lat}<br>Longitude=%{lon}<extra></extra>\", \"lat\": [-29.2154], \"legendgroup\": \"S\\u00e3o Jo\\u00e3o do Sul\", \"lon\": [-49.8094], \"marker\": {\"color\": \"#FFA15A\", \"size\": [3], \"sizemode\": \"area\", \"sizeref\": 2.1525}, \"mode\": \"markers\", \"name\": \"S\\u00e3o Jo\\u00e3o do Sul\", \"showlegend\": true, \"subplot\": \"mapbox\", \"type\": \"scattermapbox\"}, {\"hovertemplate\": \"Cidade=S\\u00e3o Joaquim<br>Total Equipamentos=%{marker.size}<br>Latitude=%{lat}<br>Longitude=%{lon}<extra></extra>\", \"lat\": [-28.2887], \"legendgroup\": \"S\\u00e3o Joaquim\", \"lon\": [-49.9457], \"marker\": {\"color\": \"#19d3f3\", \"size\": [2], \"sizemode\": \"area\", \"sizeref\": 2.1525}, \"mode\": \"markers\", \"name\": \"S\\u00e3o Joaquim\", \"showlegend\": true, \"subplot\": \"mapbox\", \"type\": \"scattermapbox\"}, {\"hovertemplate\": \"Cidade=S\\u00e3o Jos\\u00e9<br>Total Equipamentos=%{marker.size}<br>Latitude=%{lat}<br>Longitude=%{lon}<extra></extra>\", \"lat\": [-27.6136], \"legendgroup\": \"S\\u00e3o Jos\\u00e9\", \"lon\": [-48.6366], \"marker\": {\"color\": \"#FF6692\", \"size\": [209], \"sizemode\": \"area\", \"sizeref\": 2.1525}, \"mode\": \"markers\", \"name\": \"S\\u00e3o Jos\\u00e9\", \"showlegend\": true, \"subplot\": \"mapbox\", \"type\": \"scattermapbox\"}, {\"hovertemplate\": \"Cidade=S\\u00e3o Jos\\u00e9 do Cedro<br>Total Equipamentos=%{marker.size}<br>Latitude=%{lat}<br>Longitude=%{lon}<extra></extra>\", \"lat\": [-26.4561], \"legendgroup\": \"S\\u00e3o Jos\\u00e9 do Cedro\", \"lon\": [-53.4955], \"marker\": {\"color\": \"#B6E880\", \"size\": [15], \"sizemode\": \"area\", \"sizeref\": 2.1525}, \"mode\": \"markers\", \"name\": \"S\\u00e3o Jos\\u00e9 do Cedro\", \"showlegend\": true, \"subplot\": \"mapbox\", \"type\": \"scattermapbox\"}, {\"hovertemplate\": \"Cidade=S\\u00e3o Louren\\u00e7o do Oeste<br>Total Equipamentos=%{marker.size}<br>Latitude=%{lat}<br>Longitude=%{lon}<extra></extra>\", \"lat\": [-26.3557], \"legendgroup\": \"S\\u00e3o Louren\\u00e7o do Oeste\", \"lon\": [-52.8498], \"marker\": {\"color\": \"#FF97FF\", \"size\": [21], \"sizemode\": \"area\", \"sizeref\": 2.1525}, \"mode\": \"markers\", \"name\": \"S\\u00e3o Louren\\u00e7o do Oeste\", \"showlegend\": true, \"subplot\": \"mapbox\", \"type\": \"scattermapbox\"}, {\"hovertemplate\": \"Cidade=S\\u00e3o Ludgero<br>Total Equipamentos=%{marker.size}<br>Latitude=%{lat}<br>Longitude=%{lon}<extra></extra>\", \"lat\": [-28.3144], \"legendgroup\": \"S\\u00e3o Ludgero\", \"lon\": [-49.1806], \"marker\": {\"color\": \"#FECB52\", \"size\": [1], \"sizemode\": \"area\", \"sizeref\": 2.1525}, \"mode\": \"markers\", \"name\": \"S\\u00e3o Ludgero\", \"showlegend\": true, \"subplot\": \"mapbox\", \"type\": \"scattermapbox\"}, {\"hovertemplate\": \"Cidade=S\\u00e3o Martinho<br>Total Equipamentos=%{marker.size}<br>Latitude=%{lat}<br>Longitude=%{lon}<extra></extra>\", \"lat\": [-28.1609], \"legendgroup\": \"S\\u00e3o Martinho\", \"lon\": [-48.9867], \"marker\": {\"color\": \"#636efa\", \"size\": [1], \"sizemode\": \"area\", \"sizeref\": 2.1525}, \"mode\": \"markers\", \"name\": \"S\\u00e3o Martinho\", \"showlegend\": true, \"subplot\": \"mapbox\", \"type\": \"scattermapbox\"}, {\"hovertemplate\": \"Cidade=S\\u00e3o Miguel do Oeste<br>Total Equipamentos=%{marker.size}<br>Latitude=%{lat}<br>Longitude=%{lon}<extra></extra>\", \"lat\": [-26.7242], \"legendgroup\": \"S\\u00e3o Miguel do Oeste\", \"lon\": [-53.5163], \"marker\": {\"color\": \"#EF553B\", \"size\": [91], \"sizemode\": \"area\", \"sizeref\": 2.1525}, \"mode\": \"markers\", \"name\": \"S\\u00e3o Miguel do Oeste\", \"showlegend\": true, \"subplot\": \"mapbox\", \"type\": \"scattermapbox\"}, {\"hovertemplate\": \"Cidade=S\\u00e3o Pedro de Alc\\u00e2ntara<br>Total Equipamentos=%{marker.size}<br>Latitude=%{lat}<br>Longitude=%{lon}<extra></extra>\", \"lat\": [-27.5665], \"legendgroup\": \"S\\u00e3o Pedro de Alc\\u00e2ntara\", \"lon\": [-48.8048], \"marker\": {\"color\": \"#00cc96\", \"size\": [2], \"sizemode\": \"area\", \"sizeref\": 2.1525}, \"mode\": \"markers\", \"name\": \"S\\u00e3o Pedro de Alc\\u00e2ntara\", \"showlegend\": true, \"subplot\": \"mapbox\", \"type\": \"scattermapbox\"}, {\"hovertemplate\": \"Cidade=Saudades<br>Total Equipamentos=%{marker.size}<br>Latitude=%{lat}<br>Longitude=%{lon}<extra></extra>\", \"lat\": [-26.9317], \"legendgroup\": \"Saudades\", \"lon\": [-53.0021], \"marker\": {\"color\": \"#ab63fa\", \"size\": [5], \"sizemode\": \"area\", \"sizeref\": 2.1525}, \"mode\": \"markers\", \"name\": \"Saudades\", \"showlegend\": true, \"subplot\": \"mapbox\", \"type\": \"scattermapbox\"}, {\"hovertemplate\": \"Cidade=Schroeder<br>Total Equipamentos=%{marker.size}<br>Latitude=%{lat}<br>Longitude=%{lon}<extra></extra>\", \"lat\": [-26.4116], \"legendgroup\": \"Schroeder\", \"lon\": [-49.074], \"marker\": {\"color\": \"#FFA15A\", \"size\": [6], \"sizemode\": \"area\", \"sizeref\": 2.1525}, \"mode\": \"markers\", \"name\": \"Schroeder\", \"showlegend\": true, \"subplot\": \"mapbox\", \"type\": \"scattermapbox\"}, {\"hovertemplate\": \"Cidade=Seara<br>Total Equipamentos=%{marker.size}<br>Latitude=%{lat}<br>Longitude=%{lon}<extra></extra>\", \"lat\": [-27.1564], \"legendgroup\": \"Seara\", \"lon\": [-52.299], \"marker\": {\"color\": \"#19d3f3\", \"size\": [14], \"sizemode\": \"area\", \"sizeref\": 2.1525}, \"mode\": \"markers\", \"name\": \"Seara\", \"showlegend\": true, \"subplot\": \"mapbox\", \"type\": \"scattermapbox\"}, {\"hovertemplate\": \"Cidade=Sider\\u00f3polis<br>Total Equipamentos=%{marker.size}<br>Latitude=%{lat}<br>Longitude=%{lon}<extra></extra>\", \"lat\": [-28.5955], \"legendgroup\": \"Sider\\u00f3polis\", \"lon\": [-49.4314], \"marker\": {\"color\": \"#FF6692\", \"size\": [5], \"sizemode\": \"area\", \"sizeref\": 2.1525}, \"mode\": \"markers\", \"name\": \"Sider\\u00f3polis\", \"showlegend\": true, \"subplot\": \"mapbox\", \"type\": \"scattermapbox\"}, {\"hovertemplate\": \"Cidade=Sombrio<br>Total Equipamentos=%{marker.size}<br>Latitude=%{lat}<br>Longitude=%{lon}<extra></extra>\", \"lat\": [-29.108], \"legendgroup\": \"Sombrio\", \"lon\": [-49.6328], \"marker\": {\"color\": \"#B6E880\", \"size\": [20], \"sizemode\": \"area\", \"sizeref\": 2.1525}, \"mode\": \"markers\", \"name\": \"Sombrio\", \"showlegend\": true, \"subplot\": \"mapbox\", \"type\": \"scattermapbox\"}, {\"hovertemplate\": \"Cidade=Sul Brasil<br>Total Equipamentos=%{marker.size}<br>Latitude=%{lat}<br>Longitude=%{lon}<extra></extra>\", \"lat\": [-26.7351], \"legendgroup\": \"Sul Brasil\", \"lon\": [-52.964], \"marker\": {\"color\": \"#FF97FF\", \"size\": [1], \"sizemode\": \"area\", \"sizeref\": 2.1525}, \"mode\": \"markers\", \"name\": \"Sul Brasil\", \"showlegend\": true, \"subplot\": \"mapbox\", \"type\": \"scattermapbox\"}, {\"hovertemplate\": \"Cidade=Tai\\u00f3<br>Total Equipamentos=%{marker.size}<br>Latitude=%{lat}<br>Longitude=%{lon}<extra></extra>\", \"lat\": [-27.121], \"legendgroup\": \"Tai\\u00f3\", \"lon\": [-49.9942], \"marker\": {\"color\": \"#FECB52\", \"size\": [13], \"sizemode\": \"area\", \"sizeref\": 2.1525}, \"mode\": \"markers\", \"name\": \"Tai\\u00f3\", \"showlegend\": true, \"subplot\": \"mapbox\", \"type\": \"scattermapbox\"}, {\"hovertemplate\": \"Cidade=Tangar\\u00e1<br>Total Equipamentos=%{marker.size}<br>Latitude=%{lat}<br>Longitude=%{lon}<extra></extra>\", \"lat\": [-27.0996], \"legendgroup\": \"Tangar\\u00e1\", \"lon\": [-51.2473], \"marker\": {\"color\": \"#636efa\", \"size\": [7], \"sizemode\": \"area\", \"sizeref\": 2.1525}, \"mode\": \"markers\", \"name\": \"Tangar\\u00e1\", \"showlegend\": true, \"subplot\": \"mapbox\", \"type\": \"scattermapbox\"}, {\"hovertemplate\": \"Cidade=Tigrinhos<br>Total Equipamentos=%{marker.size}<br>Latitude=%{lat}<br>Longitude=%{lon}<extra></extra>\", \"lat\": [-26.6876], \"legendgroup\": \"Tigrinhos\", \"lon\": [-53.1545], \"marker\": {\"color\": \"#EF553B\", \"size\": [1], \"sizemode\": \"area\", \"sizeref\": 2.1525}, \"mode\": \"markers\", \"name\": \"Tigrinhos\", \"showlegend\": true, \"subplot\": \"mapbox\", \"type\": \"scattermapbox\"}, {\"hovertemplate\": \"Cidade=Tijucas<br>Total Equipamentos=%{marker.size}<br>Latitude=%{lat}<br>Longitude=%{lon}<extra></extra>\", \"lat\": [-27.2354], \"legendgroup\": \"Tijucas\", \"lon\": [-48.6322], \"marker\": {\"color\": \"#00cc96\", \"size\": [30], \"sizemode\": \"area\", \"sizeref\": 2.1525}, \"mode\": \"markers\", \"name\": \"Tijucas\", \"showlegend\": true, \"subplot\": \"mapbox\", \"type\": \"scattermapbox\"}, {\"hovertemplate\": \"Cidade=Timb\\u00e9 do Sul<br>Total Equipamentos=%{marker.size}<br>Latitude=%{lat}<br>Longitude=%{lon}<extra></extra>\", \"lat\": [-28.8287], \"legendgroup\": \"Timb\\u00e9 do Sul\", \"lon\": [-49.842], \"marker\": {\"color\": \"#ab63fa\", \"size\": [1], \"sizemode\": \"area\", \"sizeref\": 2.1525}, \"mode\": \"markers\", \"name\": \"Timb\\u00e9 do Sul\", \"showlegend\": true, \"subplot\": \"mapbox\", \"type\": \"scattermapbox\"}, {\"hovertemplate\": \"Cidade=Timb\\u00f3<br>Total Equipamentos=%{marker.size}<br>Latitude=%{lat}<br>Longitude=%{lon}<extra></extra>\", \"lat\": [-26.8246], \"legendgroup\": \"Timb\\u00f3\", \"lon\": [-49.269], \"marker\": {\"color\": \"#FFA15A\", \"size\": [44], \"sizemode\": \"area\", \"sizeref\": 2.1525}, \"mode\": \"markers\", \"name\": \"Timb\\u00f3\", \"showlegend\": true, \"subplot\": \"mapbox\", \"type\": \"scattermapbox\"}, {\"hovertemplate\": \"Cidade=Timb\\u00f3 Grande<br>Total Equipamentos=%{marker.size}<br>Latitude=%{lat}<br>Longitude=%{lon}<extra></extra>\", \"lat\": [-26.6127], \"legendgroup\": \"Timb\\u00f3 Grande\", \"lon\": [-50.6607], \"marker\": {\"color\": \"#19d3f3\", \"size\": [2], \"sizemode\": \"area\", \"sizeref\": 2.1525}, \"mode\": \"markers\", \"name\": \"Timb\\u00f3 Grande\", \"showlegend\": true, \"subplot\": \"mapbox\", \"type\": \"scattermapbox\"}, {\"hovertemplate\": \"Cidade=Tr\\u00eas Barras<br>Total Equipamentos=%{marker.size}<br>Latitude=%{lat}<br>Longitude=%{lon}<extra></extra>\", \"lat\": [-26.1056], \"legendgroup\": \"Tr\\u00eas Barras\", \"lon\": [-50.3197], \"marker\": {\"color\": \"#FF6692\", \"size\": [3], \"sizemode\": \"area\", \"sizeref\": 2.1525}, \"mode\": \"markers\", \"name\": \"Tr\\u00eas Barras\", \"showlegend\": true, \"subplot\": \"mapbox\", \"type\": \"scattermapbox\"}, {\"hovertemplate\": \"Cidade=Treviso<br>Total Equipamentos=%{marker.size}<br>Latitude=%{lat}<br>Longitude=%{lon}<extra></extra>\", \"lat\": [-28.5097], \"legendgroup\": \"Treviso\", \"lon\": [-49.4634], \"marker\": {\"color\": \"#B6E880\", \"size\": [1], \"sizemode\": \"area\", \"sizeref\": 2.1525}, \"mode\": \"markers\", \"name\": \"Treviso\", \"showlegend\": true, \"subplot\": \"mapbox\", \"type\": \"scattermapbox\"}, {\"hovertemplate\": \"Cidade=Treze de Maio<br>Total Equipamentos=%{marker.size}<br>Latitude=%{lat}<br>Longitude=%{lon}<extra></extra>\", \"lat\": [-28.5537], \"legendgroup\": \"Treze de Maio\", \"lon\": [-49.1565], \"marker\": {\"color\": \"#FF97FF\", \"size\": [4], \"sizemode\": \"area\", \"sizeref\": 2.1525}, \"mode\": \"markers\", \"name\": \"Treze de Maio\", \"showlegend\": true, \"subplot\": \"mapbox\", \"type\": \"scattermapbox\"}, {\"hovertemplate\": \"Cidade=Treze T\\u00edlias<br>Total Equipamentos=%{marker.size}<br>Latitude=%{lat}<br>Longitude=%{lon}<extra></extra>\", \"lat\": [-27.0026], \"legendgroup\": \"Treze T\\u00edlias\", \"lon\": [-51.4084], \"marker\": {\"color\": \"#FECB52\", \"size\": [2], \"sizemode\": \"area\", \"sizeref\": 2.1525}, \"mode\": \"markers\", \"name\": \"Treze T\\u00edlias\", \"showlegend\": true, \"subplot\": \"mapbox\", \"type\": \"scattermapbox\"}, {\"hovertemplate\": \"Cidade=Trombudo Central<br>Total Equipamentos=%{marker.size}<br>Latitude=%{lat}<br>Longitude=%{lon}<extra></extra>\", \"lat\": [-27.3033], \"legendgroup\": \"Trombudo Central\", \"lon\": [-49.793], \"marker\": {\"color\": \"#636efa\", \"size\": [7], \"sizemode\": \"area\", \"sizeref\": 2.1525}, \"mode\": \"markers\", \"name\": \"Trombudo Central\", \"showlegend\": true, \"subplot\": \"mapbox\", \"type\": \"scattermapbox\"}, {\"hovertemplate\": \"Cidade=Tubar\\u00e3o<br>Total Equipamentos=%{marker.size}<br>Latitude=%{lat}<br>Longitude=%{lon}<extra></extra>\", \"lat\": [-28.4713], \"legendgroup\": \"Tubar\\u00e3o\", \"lon\": [-49.0144], \"marker\": {\"color\": \"#EF553B\", \"size\": [128], \"sizemode\": \"area\", \"sizeref\": 2.1525}, \"mode\": \"markers\", \"name\": \"Tubar\\u00e3o\", \"showlegend\": true, \"subplot\": \"mapbox\", \"type\": \"scattermapbox\"}, {\"hovertemplate\": \"Cidade=Tun\\u00e1polis<br>Total Equipamentos=%{marker.size}<br>Latitude=%{lat}<br>Longitude=%{lon}<extra></extra>\", \"lat\": [-26.9681], \"legendgroup\": \"Tun\\u00e1polis\", \"lon\": [-53.6417], \"marker\": {\"color\": \"#00cc96\", \"size\": [5], \"sizemode\": \"area\", \"sizeref\": 2.1525}, \"mode\": \"markers\", \"name\": \"Tun\\u00e1polis\", \"showlegend\": true, \"subplot\": \"mapbox\", \"type\": \"scattermapbox\"}, {\"hovertemplate\": \"Cidade=Turvo<br>Total Equipamentos=%{marker.size}<br>Latitude=%{lat}<br>Longitude=%{lon}<extra></extra>\", \"lat\": [-28.9272], \"legendgroup\": \"Turvo\", \"lon\": [-49.6831], \"marker\": {\"color\": \"#ab63fa\", \"size\": [14], \"sizemode\": \"area\", \"sizeref\": 2.1525}, \"mode\": \"markers\", \"name\": \"Turvo\", \"showlegend\": true, \"subplot\": \"mapbox\", \"type\": \"scattermapbox\"}, {\"hovertemplate\": \"Cidade=Uni\\u00e3o do Oeste<br>Total Equipamentos=%{marker.size}<br>Latitude=%{lat}<br>Longitude=%{lon}<extra></extra>\", \"lat\": [-26.761999999999997], \"legendgroup\": \"Uni\\u00e3o do Oeste\", \"lon\": [-52.8541], \"marker\": {\"color\": \"#FFA15A\", \"size\": [1], \"sizemode\": \"area\", \"sizeref\": 2.1525}, \"mode\": \"markers\", \"name\": \"Uni\\u00e3o do Oeste\", \"showlegend\": true, \"subplot\": \"mapbox\", \"type\": \"scattermapbox\"}, {\"hovertemplate\": \"Cidade=Urubici<br>Total Equipamentos=%{marker.size}<br>Latitude=%{lat}<br>Longitude=%{lon}<extra></extra>\", \"lat\": [-28.0157], \"legendgroup\": \"Urubici\", \"lon\": [-49.5925], \"marker\": {\"color\": \"#19d3f3\", \"size\": [8], \"sizemode\": \"area\", \"sizeref\": 2.1525}, \"mode\": \"markers\", \"name\": \"Urubici\", \"showlegend\": true, \"subplot\": \"mapbox\", \"type\": \"scattermapbox\"}, {\"hovertemplate\": \"Cidade=Urussanga<br>Total Equipamentos=%{marker.size}<br>Latitude=%{lat}<br>Longitude=%{lon}<extra></extra>\", \"lat\": [-28.518], \"legendgroup\": \"Urussanga\", \"lon\": [-49.3238], \"marker\": {\"color\": \"#FF6692\", \"size\": [13], \"sizemode\": \"area\", \"sizeref\": 2.1525}, \"mode\": \"markers\", \"name\": \"Urussanga\", \"showlegend\": true, \"subplot\": \"mapbox\", \"type\": \"scattermapbox\"}, {\"hovertemplate\": \"Cidade=Varge\\u00e3o<br>Total Equipamentos=%{marker.size}<br>Latitude=%{lat}<br>Longitude=%{lon}<extra></extra>\", \"lat\": [-26.8621], \"legendgroup\": \"Varge\\u00e3o\", \"lon\": [-52.1549], \"marker\": {\"color\": \"#B6E880\", \"size\": [4], \"sizemode\": \"area\", \"sizeref\": 2.1525}, \"mode\": \"markers\", \"name\": \"Varge\\u00e3o\", \"showlegend\": true, \"subplot\": \"mapbox\", \"type\": \"scattermapbox\"}, {\"hovertemplate\": \"Cidade=Vargem<br>Total Equipamentos=%{marker.size}<br>Latitude=%{lat}<br>Longitude=%{lon}<extra></extra>\", \"lat\": [-27.4867], \"legendgroup\": \"Vargem\", \"lon\": [-50.9724], \"marker\": {\"color\": \"#FF97FF\", \"size\": [1], \"sizemode\": \"area\", \"sizeref\": 2.1525}, \"mode\": \"markers\", \"name\": \"Vargem\", \"showlegend\": true, \"subplot\": \"mapbox\", \"type\": \"scattermapbox\"}, {\"hovertemplate\": \"Cidade=Vargem Bonita<br>Total Equipamentos=%{marker.size}<br>Latitude=%{lat}<br>Longitude=%{lon}<extra></extra>\", \"lat\": [-27.0055], \"legendgroup\": \"Vargem Bonita\", \"lon\": [-51.7402], \"marker\": {\"color\": \"#FECB52\", \"size\": [3], \"sizemode\": \"area\", \"sizeref\": 2.1525}, \"mode\": \"markers\", \"name\": \"Vargem Bonita\", \"showlegend\": true, \"subplot\": \"mapbox\", \"type\": \"scattermapbox\"}, {\"hovertemplate\": \"Cidade=Vidal Ramos<br>Total Equipamentos=%{marker.size}<br>Latitude=%{lat}<br>Longitude=%{lon}<extra></extra>\", \"lat\": [-27.3886], \"legendgroup\": \"Vidal Ramos\", \"lon\": [-49.3593], \"marker\": {\"color\": \"#636efa\", \"size\": [2], \"sizemode\": \"area\", \"sizeref\": 2.1525}, \"mode\": \"markers\", \"name\": \"Vidal Ramos\", \"showlegend\": true, \"subplot\": \"mapbox\", \"type\": \"scattermapbox\"}, {\"hovertemplate\": \"Cidade=Videira<br>Total Equipamentos=%{marker.size}<br>Latitude=%{lat}<br>Longitude=%{lon}<extra></extra>\", \"lat\": [-27.0086], \"legendgroup\": \"Videira\", \"lon\": [-51.1543], \"marker\": {\"color\": \"#EF553B\", \"size\": [69], \"sizemode\": \"area\", \"sizeref\": 2.1525}, \"mode\": \"markers\", \"name\": \"Videira\", \"showlegend\": true, \"subplot\": \"mapbox\", \"type\": \"scattermapbox\"}, {\"hovertemplate\": \"Cidade=Vitor Meireles<br>Total Equipamentos=%{marker.size}<br>Latitude=%{lat}<br>Longitude=%{lon}<extra></extra>\", \"lat\": [-26.8782], \"legendgroup\": \"Vitor Meireles\", \"lon\": [-49.8328], \"marker\": {\"color\": \"#00cc96\", \"size\": [2], \"sizemode\": \"area\", \"sizeref\": 2.1525}, \"mode\": \"markers\", \"name\": \"Vitor Meireles\", \"showlegend\": true, \"subplot\": \"mapbox\", \"type\": \"scattermapbox\"}, {\"hovertemplate\": \"Cidade=Witmarsum<br>Total Equipamentos=%{marker.size}<br>Latitude=%{lat}<br>Longitude=%{lon}<extra></extra>\", \"lat\": [-26.9275], \"legendgroup\": \"Witmarsum\", \"lon\": [-49.7947], \"marker\": {\"color\": \"#ab63fa\", \"size\": [2], \"sizemode\": \"area\", \"sizeref\": 2.1525}, \"mode\": \"markers\", \"name\": \"Witmarsum\", \"showlegend\": true, \"subplot\": \"mapbox\", \"type\": \"scattermapbox\"}, {\"hovertemplate\": \"Cidade=Xanxer\\u00ea<br>Total Equipamentos=%{marker.size}<br>Latitude=%{lat}<br>Longitude=%{lon}<extra></extra>\", \"lat\": [-26.8747], \"legendgroup\": \"Xanxer\\u00ea\", \"lon\": [-52.4036], \"marker\": {\"color\": \"#FFA15A\", \"size\": [38], \"sizemode\": \"area\", \"sizeref\": 2.1525}, \"mode\": \"markers\", \"name\": \"Xanxer\\u00ea\", \"showlegend\": true, \"subplot\": \"mapbox\", \"type\": \"scattermapbox\"}, {\"hovertemplate\": \"Cidade=Xavantina<br>Total Equipamentos=%{marker.size}<br>Latitude=%{lat}<br>Longitude=%{lon}<extra></extra>\", \"lat\": [-27.0667], \"legendgroup\": \"Xavantina\", \"lon\": [-52.343], \"marker\": {\"color\": \"#19d3f3\", \"size\": [2], \"sizemode\": \"area\", \"sizeref\": 2.1525}, \"mode\": \"markers\", \"name\": \"Xavantina\", \"showlegend\": true, \"subplot\": \"mapbox\", \"type\": \"scattermapbox\"}, {\"hovertemplate\": \"Cidade=Xaxim<br>Total Equipamentos=%{marker.size}<br>Latitude=%{lat}<br>Longitude=%{lon}<extra></extra>\", \"lat\": [-26.9596], \"legendgroup\": \"Xaxim\", \"lon\": [-52.5374], \"marker\": {\"color\": \"#FF6692\", \"size\": [37], \"sizemode\": \"area\", \"sizeref\": 2.1525}, \"mode\": \"markers\", \"name\": \"Xaxim\", \"showlegend\": true, \"subplot\": \"mapbox\", \"type\": \"scattermapbox\"}],                        {\"legend\": {\"itemsizing\": \"constant\", \"title\": {\"text\": \"Cidade\"}, \"tracegroupgap\": 0}, \"mapbox\": {\"accesstoken\": \"pk.eyJ1IjoiYXJ0dXNjIiwiYSI6ImNrZnBuNDExOTAwOHIycW9jamFnaThwaTAifQ.xbicttjuyTvaI0Nl2xqI-g\", \"center\": {\"lat\": -27.258146153846162, \"lon\": -50.61898785425101}, \"domain\": {\"x\": [0.0, 1.0], \"y\": [0.0, 1.0]}, \"zoom\": 6}, \"margin\": {\"b\": 0, \"l\": 0, \"r\": 0, \"t\": 0}, \"template\": {\"data\": {\"bar\": [{\"error_x\": {\"color\": \"#2a3f5f\"}, \"error_y\": {\"color\": \"#2a3f5f\"}, \"marker\": {\"line\": {\"color\": \"#E5ECF6\", \"width\": 0.5}}, \"type\": \"bar\"}], \"barpolar\": [{\"marker\": {\"line\": {\"color\": \"#E5ECF6\", \"width\": 0.5}}, \"type\": \"barpolar\"}], \"carpet\": [{\"aaxis\": {\"endlinecolor\": \"#2a3f5f\", \"gridcolor\": \"white\", \"linecolor\": \"white\", \"minorgridcolor\": \"white\", \"startlinecolor\": \"#2a3f5f\"}, \"baxis\": {\"endlinecolor\": \"#2a3f5f\", \"gridcolor\": \"white\", \"linecolor\": \"white\", \"minorgridcolor\": \"white\", \"startlinecolor\": \"#2a3f5f\"}, \"type\": \"carpet\"}], \"choropleth\": [{\"colorbar\": {\"outlinewidth\": 0, \"ticks\": \"\"}, \"type\": \"choropleth\"}], \"contour\": [{\"colorbar\": {\"outlinewidth\": 0, \"ticks\": \"\"}, \"colorscale\": [[0.0, \"#0d0887\"], [0.1111111111111111, \"#46039f\"], [0.2222222222222222, \"#7201a8\"], [0.3333333333333333, \"#9c179e\"], [0.4444444444444444, \"#bd3786\"], [0.5555555555555556, \"#d8576b\"], [0.6666666666666666, \"#ed7953\"], [0.7777777777777778, \"#fb9f3a\"], [0.8888888888888888, \"#fdca26\"], [1.0, \"#f0f921\"]], \"type\": \"contour\"}], \"contourcarpet\": [{\"colorbar\": {\"outlinewidth\": 0, \"ticks\": \"\"}, \"type\": \"contourcarpet\"}], \"heatmap\": [{\"colorbar\": {\"outlinewidth\": 0, \"ticks\": \"\"}, \"colorscale\": [[0.0, \"#0d0887\"], [0.1111111111111111, \"#46039f\"], [0.2222222222222222, \"#7201a8\"], [0.3333333333333333, \"#9c179e\"], [0.4444444444444444, \"#bd3786\"], [0.5555555555555556, \"#d8576b\"], [0.6666666666666666, \"#ed7953\"], [0.7777777777777778, \"#fb9f3a\"], [0.8888888888888888, \"#fdca26\"], [1.0, \"#f0f921\"]], \"type\": \"heatmap\"}], \"heatmapgl\": [{\"colorbar\": {\"outlinewidth\": 0, \"ticks\": \"\"}, \"colorscale\": [[0.0, \"#0d0887\"], [0.1111111111111111, \"#46039f\"], [0.2222222222222222, \"#7201a8\"], [0.3333333333333333, \"#9c179e\"], [0.4444444444444444, \"#bd3786\"], [0.5555555555555556, \"#d8576b\"], [0.6666666666666666, \"#ed7953\"], [0.7777777777777778, \"#fb9f3a\"], [0.8888888888888888, \"#fdca26\"], [1.0, \"#f0f921\"]], \"type\": \"heatmapgl\"}], \"histogram\": [{\"marker\": {\"colorbar\": {\"outlinewidth\": 0, \"ticks\": \"\"}}, \"type\": \"histogram\"}], \"histogram2d\": [{\"colorbar\": {\"outlinewidth\": 0, \"ticks\": \"\"}, \"colorscale\": [[0.0, \"#0d0887\"], [0.1111111111111111, \"#46039f\"], [0.2222222222222222, \"#7201a8\"], [0.3333333333333333, \"#9c179e\"], [0.4444444444444444, \"#bd3786\"], [0.5555555555555556, \"#d8576b\"], [0.6666666666666666, \"#ed7953\"], [0.7777777777777778, \"#fb9f3a\"], [0.8888888888888888, \"#fdca26\"], [1.0, \"#f0f921\"]], \"type\": \"histogram2d\"}], \"histogram2dcontour\": [{\"colorbar\": {\"outlinewidth\": 0, \"ticks\": \"\"}, \"colorscale\": [[0.0, \"#0d0887\"], [0.1111111111111111, \"#46039f\"], [0.2222222222222222, \"#7201a8\"], [0.3333333333333333, \"#9c179e\"], [0.4444444444444444, \"#bd3786\"], [0.5555555555555556, \"#d8576b\"], [0.6666666666666666, \"#ed7953\"], [0.7777777777777778, \"#fb9f3a\"], [0.8888888888888888, \"#fdca26\"], [1.0, \"#f0f921\"]], \"type\": \"histogram2dcontour\"}], \"mesh3d\": [{\"colorbar\": {\"outlinewidth\": 0, \"ticks\": \"\"}, \"type\": \"mesh3d\"}], \"parcoords\": [{\"line\": {\"colorbar\": {\"outlinewidth\": 0, \"ticks\": \"\"}}, \"type\": \"parcoords\"}], \"pie\": [{\"automargin\": true, \"type\": \"pie\"}], \"scatter\": [{\"marker\": {\"colorbar\": {\"outlinewidth\": 0, \"ticks\": \"\"}}, \"type\": \"scatter\"}], \"scatter3d\": [{\"line\": {\"colorbar\": {\"outlinewidth\": 0, \"ticks\": \"\"}}, \"marker\": {\"colorbar\": {\"outlinewidth\": 0, \"ticks\": \"\"}}, \"type\": \"scatter3d\"}], \"scattercarpet\": [{\"marker\": {\"colorbar\": {\"outlinewidth\": 0, \"ticks\": \"\"}}, \"type\": \"scattercarpet\"}], \"scattergeo\": [{\"marker\": {\"colorbar\": {\"outlinewidth\": 0, \"ticks\": \"\"}}, \"type\": \"scattergeo\"}], \"scattergl\": [{\"marker\": {\"colorbar\": {\"outlinewidth\": 0, \"ticks\": \"\"}}, \"type\": \"scattergl\"}], \"scattermapbox\": [{\"marker\": {\"colorbar\": {\"outlinewidth\": 0, \"ticks\": \"\"}}, \"type\": \"scattermapbox\"}], \"scatterpolar\": [{\"marker\": {\"colorbar\": {\"outlinewidth\": 0, \"ticks\": \"\"}}, \"type\": \"scatterpolar\"}], \"scatterpolargl\": [{\"marker\": {\"colorbar\": {\"outlinewidth\": 0, \"ticks\": \"\"}}, \"type\": \"scatterpolargl\"}], \"scatterternary\": [{\"marker\": {\"colorbar\": {\"outlinewidth\": 0, \"ticks\": \"\"}}, \"type\": \"scatterternary\"}], \"surface\": [{\"colorbar\": {\"outlinewidth\": 0, \"ticks\": \"\"}, \"colorscale\": [[0.0, \"#0d0887\"], [0.1111111111111111, \"#46039f\"], [0.2222222222222222, \"#7201a8\"], [0.3333333333333333, \"#9c179e\"], [0.4444444444444444, \"#bd3786\"], [0.5555555555555556, \"#d8576b\"], [0.6666666666666666, \"#ed7953\"], [0.7777777777777778, \"#fb9f3a\"], [0.8888888888888888, \"#fdca26\"], [1.0, \"#f0f921\"]], \"type\": \"surface\"}], \"table\": [{\"cells\": {\"fill\": {\"color\": \"#EBF0F8\"}, \"line\": {\"color\": \"white\"}}, \"header\": {\"fill\": {\"color\": \"#C8D4E3\"}, \"line\": {\"color\": \"white\"}}, \"type\": \"table\"}]}, \"layout\": {\"annotationdefaults\": {\"arrowcolor\": \"#2a3f5f\", \"arrowhead\": 0, \"arrowwidth\": 1}, \"coloraxis\": {\"colorbar\": {\"outlinewidth\": 0, \"ticks\": \"\"}}, \"colorscale\": {\"diverging\": [[0, \"#8e0152\"], [0.1, \"#c51b7d\"], [0.2, \"#de77ae\"], [0.3, \"#f1b6da\"], [0.4, \"#fde0ef\"], [0.5, \"#f7f7f7\"], [0.6, \"#e6f5d0\"], [0.7, \"#b8e186\"], [0.8, \"#7fbc41\"], [0.9, \"#4d9221\"], [1, \"#276419\"]], \"sequential\": [[0.0, \"#0d0887\"], [0.1111111111111111, \"#46039f\"], [0.2222222222222222, \"#7201a8\"], [0.3333333333333333, \"#9c179e\"], [0.4444444444444444, \"#bd3786\"], [0.5555555555555556, \"#d8576b\"], [0.6666666666666666, \"#ed7953\"], [0.7777777777777778, \"#fb9f3a\"], [0.8888888888888888, \"#fdca26\"], [1.0, \"#f0f921\"]], \"sequentialminus\": [[0.0, \"#0d0887\"], [0.1111111111111111, \"#46039f\"], [0.2222222222222222, \"#7201a8\"], [0.3333333333333333, \"#9c179e\"], [0.4444444444444444, \"#bd3786\"], [0.5555555555555556, \"#d8576b\"], [0.6666666666666666, \"#ed7953\"], [0.7777777777777778, \"#fb9f3a\"], [0.8888888888888888, \"#fdca26\"], [1.0, \"#f0f921\"]]}, \"colorway\": [\"#636efa\", \"#EF553B\", \"#00cc96\", \"#ab63fa\", \"#FFA15A\", \"#19d3f3\", \"#FF6692\", \"#B6E880\", \"#FF97FF\", \"#FECB52\"], \"font\": {\"color\": \"#2a3f5f\"}, \"geo\": {\"bgcolor\": \"white\", \"lakecolor\": \"white\", \"landcolor\": \"#E5ECF6\", \"showlakes\": true, \"showland\": true, \"subunitcolor\": \"white\"}, \"hoverlabel\": {\"align\": \"left\"}, \"hovermode\": \"closest\", \"mapbox\": {\"style\": \"light\"}, \"paper_bgcolor\": \"white\", \"plot_bgcolor\": \"#E5ECF6\", \"polar\": {\"angularaxis\": {\"gridcolor\": \"white\", \"linecolor\": \"white\", \"ticks\": \"\"}, \"bgcolor\": \"#E5ECF6\", \"radialaxis\": {\"gridcolor\": \"white\", \"linecolor\": \"white\", \"ticks\": \"\"}}, \"scene\": {\"xaxis\": {\"backgroundcolor\": \"#E5ECF6\", \"gridcolor\": \"white\", \"gridwidth\": 2, \"linecolor\": \"white\", \"showbackground\": true, \"ticks\": \"\", \"zerolinecolor\": \"white\"}, \"yaxis\": {\"backgroundcolor\": \"#E5ECF6\", \"gridcolor\": \"white\", \"gridwidth\": 2, \"linecolor\": \"white\", \"showbackground\": true, \"ticks\": \"\", \"zerolinecolor\": \"white\"}, \"zaxis\": {\"backgroundcolor\": \"#E5ECF6\", \"gridcolor\": \"white\", \"gridwidth\": 2, \"linecolor\": \"white\", \"showbackground\": true, \"ticks\": \"\", \"zerolinecolor\": \"white\"}}, \"shapedefaults\": {\"line\": {\"color\": \"#2a3f5f\"}}, \"ternary\": {\"aaxis\": {\"gridcolor\": \"white\", \"linecolor\": \"white\", \"ticks\": \"\"}, \"baxis\": {\"gridcolor\": \"white\", \"linecolor\": \"white\", \"ticks\": \"\"}, \"bgcolor\": \"#E5ECF6\", \"caxis\": {\"gridcolor\": \"white\", \"linecolor\": \"white\", \"ticks\": \"\"}}, \"title\": {\"x\": 0.05}, \"xaxis\": {\"automargin\": true, \"gridcolor\": \"white\", \"linecolor\": \"white\", \"ticks\": \"\", \"title\": {\"standoff\": 15}, \"zerolinecolor\": \"white\", \"zerolinewidth\": 2}, \"yaxis\": {\"automargin\": true, \"gridcolor\": \"white\", \"linecolor\": \"white\", \"ticks\": \"\", \"title\": {\"standoff\": 15}, \"zerolinecolor\": \"white\", \"zerolinewidth\": 2}}}},                        {\"responsive\": true}                    ).then(function(){\n",
       "                            \n",
       "var gd = document.getElementById('1fba4aa4-2680-4c00-9c0d-31e9f86df861');\n",
       "var x = new MutationObserver(function (mutations, observer) {{\n",
       "        var display = window.getComputedStyle(gd).display;\n",
       "        if (!display || display === 'none') {{\n",
       "            console.log([gd, 'removed!']);\n",
       "            Plotly.purge(gd);\n",
       "            observer.disconnect();\n",
       "        }}\n",
       "}});\n",
       "\n",
       "// Listen for the removal of the full notebook cells\n",
       "var notebookContainer = gd.closest('#notebook-container');\n",
       "if (notebookContainer) {{\n",
       "    x.observe(notebookContainer, {childList: true});\n",
       "}}\n",
       "\n",
       "// Listen for the clearing of the current output cell\n",
       "var outputEl = gd.closest('.output');\n",
       "if (outputEl) {{\n",
       "    x.observe(outputEl, {childList: true});\n",
       "}}\n",
       "\n",
       "                        })                };                });            </script>        </div>"
      ]
     },
     "metadata": {},
     "output_type": "display_data"
    }
   ],
   "source": [
    "# Visualização do mapa\n",
    "token = 'pk.eyJ1IjoiYXJ0dXNjIiwiYSI6ImNrZnBuNDExOTAwOHIycW9jamFnaThwaTAifQ.xbicttjuyTvaI0Nl2xqI-g' \n",
    "\n",
    "fig = px.scatter_mapbox(df, lat=\"Latitude\", lon=\"Longitude\", color=\"Cidade\", size=\"Total Equipamentos\",\n",
    "                  color_continuous_scale=px.colors.cyclical.IceFire, size_max=20, zoom=6)\n",
    "\n",
    "fig.update_layout(mapbox_accesstoken=token)\n",
    "fig.update_layout(margin={\"r\":0,\"t\":0,\"l\":0,\"b\":0})\n",
    "fig.show()"
   ]
  },
  {
   "cell_type": "code",
   "execution_count": null,
   "metadata": {
    "id": "ounP5pTbOZK8"
   },
   "outputs": [],
   "source": []
  }
 ],
 "metadata": {
  "colab": {
   "name": "dbc.ipynb",
   "provenance": []
  },
  "kernelspec": {
   "display_name": "Python 3",
   "language": "python",
   "name": "python3"
  },
  "language_info": {
   "codemirror_mode": {
    "name": "ipython",
    "version": 3
   },
   "file_extension": ".py",
   "mimetype": "text/x-python",
   "name": "python",
   "nbconvert_exporter": "python",
   "pygments_lexer": "ipython3",
   "version": "3.7.6"
  }
 },
 "nbformat": 4,
 "nbformat_minor": 1
}
